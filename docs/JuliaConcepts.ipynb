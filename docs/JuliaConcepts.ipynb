{
 "cells": [
  {
   "cell_type": "code",
   "execution_count": 9,
   "metadata": {},
   "outputs": [
    {
     "name": "stderr",
     "output_type": "stream",
     "text": [
      "WARNING: replacing module Deeplib.\n"
     ]
    },
    {
     "ename": "LoadError",
     "evalue": "LoadError: MethodError: no method matching Main.Deeplib.Param(::Int64)\n\nClosest candidates are:\n  Main.Deeplib.Param(::T, !Matched::Float64) where T\n   @ Main.Deeplib ~/Library/Mobile Documents/iCloud~md~obsidian/Documents/MemorisiCloud/2 Projets/Deeplib/src/AutoDiff.jl:59\n\nin expression starting at /Users/pichedereck/Library/Mobile Documents/iCloud~md~obsidian/Documents/MemorisiCloud/2 Projets/Deeplib/src/AutoDiff.jl:67\nin expression starting at /Users/pichedereck/Library/Mobile Documents/iCloud~md~obsidian/Documents/MemorisiCloud/2 Projets/Deeplib/src/Deeplib.jl:1",
     "output_type": "error",
     "traceback": [
      "LoadError: MethodError: no method matching Main.Deeplib.Param(::Int64)\n",
      "\n",
      "Closest candidates are:\n",
      "  Main.Deeplib.Param(::T, !Matched::Float64) where T\n",
      "   @ Main.Deeplib ~/Library/Mobile Documents/iCloud~md~obsidian/Documents/MemorisiCloud/2 Projets/Deeplib/src/AutoDiff.jl:59\n",
      "\n",
      "in expression starting at /Users/pichedereck/Library/Mobile Documents/iCloud~md~obsidian/Documents/MemorisiCloud/2 Projets/Deeplib/src/AutoDiff.jl:67\n",
      "in expression starting at /Users/pichedereck/Library/Mobile Documents/iCloud~md~obsidian/Documents/MemorisiCloud/2 Projets/Deeplib/src/Deeplib.jl:1\n",
      "\n",
      "Stacktrace:\n",
      " [1] top-level scope\n",
      "   @ ~/Library/Mobile Documents/iCloud~md~obsidian/Documents/MemorisiCloud/2 Projets/Deeplib/src/AutoDiff.jl:67"
     ]
    }
   ],
   "source": [
    "include(\"../src/Deeplib.jl\")\n",
    "const dlib = Deeplib"
   ]
  },
  {
   "cell_type": "code",
   "execution_count": 10,
   "metadata": {},
   "outputs": [],
   "source": []
  },
  {
   "cell_type": "code",
   "execution_count": 11,
   "metadata": {},
   "outputs": [
    {
     "ename": "UndefVarError",
     "evalue": "UndefVarError: `dlib` not defined",
     "output_type": "error",
     "traceback": [
      "UndefVarError: `dlib` not defined\n",
      "\n",
      "Stacktrace:\n",
      " [1] top-level scope\n",
      "   @ ~/Library/Mobile Documents/iCloud~md~obsidian/Documents/MemorisiCloud/2 Projets/Deeplib/demos/JuliaConcepts.ipynb:3"
     ]
    }
   ],
   "source": [
    "# Julia can handle object identity in a dictionnary (IdDict)\n",
    "# this will be used to handle the model parameters and gradients values\n",
    "d1 = dlib.Dense(3, 3, x->x)\n",
    "d2 = dlib.Dense(3, 3, x->x)\n",
    "d3 = dlib.Dense(3, 3, x->x)\n",
    "println(typeof(d1))\n",
    "\n",
    "iddict = IdDict(d1=>(d1.w, d1.b), d2=>(d2.w, d2.b))\n",
    "println(iddict)\n",
    "println(iddict[d1])\n",
    "println(iddict[d2])\n",
    "dict = dlib.GetJacoDict(d1)\n",
    "println(dict)\n",
    "println(dict[d1.w])"
   ]
  },
  {
   "cell_type": "code",
   "execution_count": 12,
   "metadata": {},
   "outputs": [
    {
     "ename": "UndefVarError",
     "evalue": "UndefVarError: `d1` not defined",
     "output_type": "error",
     "traceback": [
      "UndefVarError: `d1` not defined\n",
      "\n",
      "Stacktrace:\n",
      " [1] top-level scope\n",
      "   @ ~/Library/Mobile Documents/iCloud~md~obsidian/Documents/MemorisiCloud/2 Projets/Deeplib/demos/JuliaConcepts.ipynb:2"
     ]
    }
   ],
   "source": [
    "# gives hints on how to pattern match \n",
    "f = d1 ∘ d2\n",
    "println(typeof(f))\n",
    "f = d1 ∘ d2 ∘ d3\n",
    "println(typeof(f))\n",
    "\n",
    "# nesting\n",
    "function c()\n",
    "    f = d1 ∘ d2 ∘ d3\n",
    "    println(typeof(f))\n",
    "    return f\n",
    "end\n",
    "c()\n",
    "println(typeof(c))\n",
    "\n",
    "g(x) = d1(d2(x))\n",
    "\n",
    "# they are not equal. each function has its on type\n",
    "println(typeof(g))\n",
    "println( typeof( g ) === typeof( d1 ∘ d2 ) )\n",
    "\n",
    "# this means that AutoDiff must pattern match on operations, not on \n",
    "# high level layers application"
   ]
  },
  {
   "cell_type": "code",
   "execution_count": 13,
   "metadata": {},
   "outputs": [
    {
     "ename": "UndefVarError",
     "evalue": "UndefVarError: `dlib` not defined",
     "output_type": "error",
     "traceback": [
      "UndefVarError: `dlib` not defined\n",
      "\n",
      "Stacktrace:\n",
      " [1] top-level scope\n",
      "   @ ~/Library/Mobile Documents/iCloud~md~obsidian/Documents/MemorisiCloud/2 Projets/Deeplib/demos/JuliaConcepts.ipynb:4"
     ]
    }
   ],
   "source": [
    "\n",
    "# Testing the forward algorithm for +\n",
    "h(x) = x\n",
    "d1 = dlib.Dense(3, 3, h)\n",
    "d2 = dlib.Dense(3, 3, h)\n",
    "d3 = dlib.Dense(3, 3, h)\n",
    "\n",
    "function DSum(x)\n",
    "    return d1(x) + d2(x) + d3(x) \n",
    "end\n",
    "\n",
    "x = rand(Float16, 3)\n",
    "println(h(x))\n",
    "println(d1(x))\n",
    "println(DSum(x))\n",
    "\n",
    "dlib.Forward(DSum, x)"
   ]
  },
  {
   "cell_type": "code",
   "execution_count": 14,
   "metadata": {},
   "outputs": [
    {
     "name": "stdout",
     "output_type": "stream",
     "text": [
      "[-4769713272005644257, -8012972000598111837]\n",
      "-1\n",
      "IdDict{Any, Any}(2 => 2, Param{Vector{Int64}}([1036328932853735538, 8859413753818621536], 340) => Param{Vector{Int64}}([-5806042204859379795, 1574358319292818243], 450))\n",
      "Param{Vector{Int64}}([-5806042204859379795, 1574358319292818243], 450)\n",
      "[-6386184146261228881, -4492546776698002935]\n",
      "-2\n",
      "IdDict{Any, Any}(2 => 2, Param{Vector{Int64}}([-3391564524791061973, 8794175845296859208], 33) => [-2994619621470166908, 5160021451714689473], Param{Vector{Int64}}([1036328932853735538, 8859413753818621536], 340) => Param{Vector{Int64}}([-5806042204859379795, 1574358319292818243], 450))\n",
      "[-2994619621470166908, 5160021451714689473]\n"
     ]
    }
   ],
   "source": [
    "import Base.+\n",
    "\n",
    "\n",
    "\n",
    "\n",
    "# This is to show how we can rewrite basic operations like +\n",
    "function l(a, b)\n",
    "    return a + b\n",
    "end\n",
    "\n",
    "# this structure is only made to pattern match \n",
    "\n",
    "struct Param{T}\n",
    "    v::T\n",
    "    id::Int64\n",
    "end\n",
    "\n",
    "n=2\n",
    "dictio = IdDict{Any, Any}(n=>2)\n",
    "\n",
    "# redefine the + operator for Params \n",
    "function +(a::Param, b::Param)\n",
    "    merge!(dictio, IdDict(a=>b))\n",
    "    #push!(dictio, a=>b)\n",
    "    return -1\n",
    "end\n",
    "\n",
    "function +(a::Param, b::Any)\n",
    "    merge!(dictio, IdDict(a=>b))\n",
    "    #push!(dictio, a=>b)\n",
    "    return -1\n",
    "end\n",
    "\n",
    "function +(a::Param, b::Any)\n",
    "    merge!(dictio, IdDict(a=>b))\n",
    "    #push!(dictio, a=>b)\n",
    "    return -2\n",
    "end\n",
    "\n",
    "+(b::Any, a::Param) = +(a, b)\n",
    "\n",
    "\n",
    "function test(f::Function)\n",
    "    a = rand(Int, 2)\n",
    "    b = rand(Int, 2)\n",
    "    println(f(a,b))\n",
    "    a = Param(a, 340)\n",
    "    b = Param(b, 450)\n",
    "    println(f(a,b))\n",
    "    println(dictio)\n",
    "    println(dictio[a])\n",
    "end\n",
    "\n",
    "test(l)\n",
    "\n",
    "\n",
    "# now testing partial pattern match!\n",
    "function test2(f::Function)\n",
    "    a = rand(Int, 2)\n",
    "    b = rand(Int, 2)\n",
    "    println(f(a,b))\n",
    "    #a = Param(a)\n",
    "    b = Param(b, 33)\n",
    "    println(f(a,b))\n",
    "    println(dictio)\n",
    "    println(dictio[b])\n",
    "\n",
    "end\n",
    "\n",
    "test2(l)\n"
   ]
  },
  {
   "cell_type": "code",
   "execution_count": 15,
   "metadata": {},
   "outputs": [
    {
     "name": "stdout",
     "output_type": "stream",
     "text": [
      "IdDict{Any, Any}(Param{Int64}(2, 300) => -2, Param{Int64}(1, 400) => 2)\n"
     ]
    }
   ],
   "source": [
    "# this is to test transitions from param types\n",
    "dictio = IdDict{Any, Any}()\n",
    "\n",
    "w1 = Param(2, 300)\n",
    "w2 = Param(1, 400)\n",
    "\n",
    "u(x::Int) = x + w1\n",
    "k(x::Int) = (1 + x) + w2\n",
    "\n",
    "\n",
    "x = 1\n",
    "y = u(k(x))\n",
    "\n",
    "println(dictio)"
   ]
  },
  {
   "cell_type": "code",
   "execution_count": 16,
   "metadata": {},
   "outputs": [],
   "source": [
    "# testing Tag abstract type \n",
    "\n"
   ]
  },
  {
   "cell_type": "code",
   "execution_count": null,
   "metadata": {},
   "outputs": [],
   "source": []
  }
 ],
 "metadata": {
  "kernelspec": {
   "display_name": "Julia 1.9.1",
   "language": "julia",
   "name": "julia-1.9"
  },
  "language_info": {
   "file_extension": ".jl",
   "mimetype": "application/julia",
   "name": "julia",
   "version": "1.9.1"
  },
  "orig_nbformat": 4
 },
 "nbformat": 4,
 "nbformat_minor": 2
}
