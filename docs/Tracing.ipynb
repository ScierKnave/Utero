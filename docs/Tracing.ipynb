{
 "cells": [
  {
   "cell_type": "markdown",
   "metadata": {},
   "source": [
    "# Variable / Operations Identification"
   ]
  },
  {
   "cell_type": "code",
   "execution_count": 1,
   "metadata": {},
   "outputs": [
    {
     "name": "stdout",
     "output_type": "stream",
     "text": [
      "IdDict{Any, Any}("
     ]
    },
    {
     "name": "stdout",
     "output_type": "stream",
     "text": [
      ":b => 1, :c => 1)\n",
      "1\n"
     ]
    }
   ],
   "source": [
    "import Base.:^\n",
    "\n",
    "\n",
    "dict = IdDict{Any, Any}()\n",
    "c::Int64 = 2\n",
    "b::Int64 = 2\n",
    "dict = IdDict{Any, Any}(:c=>1, :b=>1)\n",
    "println(dict)\n",
    "c=3 \n",
    "println(dict[:c])"
   ]
  },
  {
   "cell_type": "code",
   "execution_count": 2,
   "metadata": {},
   "outputs": [
    {
     "data": {
      "text/plain": [
       "IdDict{Any, Any} with 1 entry:\n",
       "  :(d.a) => 1"
      ]
     },
     "metadata": {},
     "output_type": "display_data"
    }
   ],
   "source": [
    "struct double\n",
    "    a\n",
    "    b\n",
    "end\n",
    "d = double(1, 1)\n",
    "\n",
    "dict = IdDict{Any, Any}(:(d.a)=>d.a)\n",
    "\n"
   ]
  },
  {
   "cell_type": "markdown",
   "metadata": {},
   "source": [
    "# Wengert List\n",
    "Every function in our program, no matter the complexity, can be represented as a wengert list of very basic operations. A basic expression in a Wengert List follows:\n",
    "maximum of two operands, and an operator.\n",
    "\n",
    "We need our program to create a trace (which can be described as a wengert list) by going into a forward pass with note taking operators. Note taking operators are modified basic operators that write down in a global dictionnary the basic operands and the **symbolic identifiers** of their arguments (identif. from the caller, not the func. def)."
   ]
  },
  {
   "cell_type": "code",
   "execution_count": 3,
   "metadata": {},
   "outputs": [],
   "source": [
    "import Base.:^\n",
    "\n",
    "dict = IdDict{Any, Any}()\n",
    "global last = \"none\"\n",
    "\n",
    "struct Param\n",
    "    v\n",
    "    ref\n",
    "end\n",
    "\n",
    "for op in (:^, :+, :*)\n",
    "    #op = Symbol(op)\n",
    "\n",
    "    global function ^(a::Param, b::Any)\n",
    "        merge!(dict, IdDict{Any, Any}((a.ref)=>(last)))\n",
    "        global last = a.ref\n",
    "        return Base.:^(a.v, b)\n",
    "    end\n",
    "\n",
    "    global function +(a::Param, b::Any)\n",
    "        merge!(dict, IdDict{Any, Any}((a.ref)=>(last)))\n",
    "        global last = a.ref\n",
    "        return Base.:+(a.v, b)\n",
    "    end\n",
    "\n",
    "    global function *(a::Param, b::Any)\n",
    "        merge!(dict, IdDict{Any, Any}((a.ref)=>(last)))\n",
    "        global last = a.ref\n",
    "        return Base.:*(a.v, b)\n",
    "    end\n",
    "\n",
    "    *(b::Any, a::Param) = *(a, b)\n",
    "\n",
    "end\n",
    "\n",
    "\n",
    "\n",
    "\n",
    "#function ^(a::Int64, b::Int64)\n",
    "#    merge!(dict, a=>b)\n",
    "#    op(a, b)\n",
    "#    return -1\n",
    "#end\n",
    "\n",
    "\n",
    "\n",
    "\n",
    "#function ^(a::Int64, b::Int64)\n",
    "#    merge!(dict, a=>b)\n",
    "    #op(a, b)\n",
    "#    return -1\n",
    "#end\n",
    "\n",
    "#Base.:^(a::Int64, b::Int64) = -1"
   ]
  },
  {
   "cell_type": "code",
   "execution_count": 4,
   "metadata": {},
   "outputs": [
    {
     "data": {
      "text/plain": [
       "f1 (generic function with 1 method)"
      ]
     },
     "metadata": {},
     "output_type": "display_data"
    }
   ],
   "source": [
    "# every program can be deconstructed as a wengert list\n",
    "\n",
    "function f1(x::Int64, w1, w2, w3)\n",
    "    b::Int64 = 2\n",
    "    y = w1 ^ x \n",
    "    y = w2 + y\n",
    "    y = w3 * y\n",
    "    return y\n",
    "end\n"
   ]
  },
  {
   "cell_type": "code",
   "execution_count": 32,
   "metadata": {},
   "outputs": [
    {
     "ename": "MethodError",
     "evalue": "MethodError: no method matching +(::Int64, ::Int64)\nYou may have intended to import Base.:+\n\nClosest candidates are:\n  +(!Matched::Param, ::Any)\n   @ Main ~/Library/Mobile Documents/iCloud~md~obsidian/Documents/MemorisiCloud/2 Projets/Deeplib/concepts/Tracing.ipynb:20\n",
     "output_type": "error",
     "traceback": [
      "MethodError: no method matching +(::Int64, ::Int64)\n",
      "You may have intended to import Base.:+\n",
      "\n",
      "Closest candidates are:\n",
      "  +(!Matched::Param, ::Any)\n",
      "   @ Main ~/Library/Mobile Documents/iCloud~md~obsidian/Documents/MemorisiCloud/2 Projets/Deeplib/concepts/Tracing.ipynb:20\n",
      "\n",
      "\n",
      "Stacktrace:\n",
      " [1] top-level scope\n",
      "   @ none:0"
     ]
    }
   ],
   "source": [
    "#https://docs.julialang.org/en/v1/devdocs/reflection/\n",
    "#https://docs.julialang.org/en/v1/devdocs/reflection/#Expansion-and-lowering\n",
    "\n",
    "ex = Meta.lower(@__MODULE__, :( [1+2, sin(0.5)] ))\n",
    "eval(ex)"
   ]
  }
 ],
 "metadata": {
  "kernelspec": {
   "display_name": "Julia 1.9.1",
   "language": "julia",
   "name": "julia-1.9"
  },
  "language_info": {
   "file_extension": ".jl",
   "mimetype": "application/julia",
   "name": "julia",
   "version": "1.9.1"
  },
  "orig_nbformat": 4
 },
 "nbformat": 4,
 "nbformat_minor": 2
}
