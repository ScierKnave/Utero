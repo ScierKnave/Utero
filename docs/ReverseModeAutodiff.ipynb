{
 "cells": [
  {
   "cell_type": "markdown",
   "metadata": {},
   "source": [
    "Let \n",
    "$$c(x_1, x_2, \\dots, x_n) = (x_1, x_2, \\dots) \\to (z_1, z_2, ,\\dots) \\to y \\to c$$\n",
    "we would like to obtain $\\frac{\\partial c}{\\partial x_i}$. Then, simply a simple \n",
    "\n",
    "During the forward pass, each output is accompagnied by a function containing the derivatives used to compute it. This function is called the Chainer.\n",
    "Then, knowing $\\frac{dc}{dy}$, we use the $y$'s Chainer to obtain the partial derivatives of the $z$'s. \n",
    "$$(\\frac{\\partial c}{\\partial z_i}, \\frac{\\partial c}{\\partial z_i}, \\dots) = L_{z}(\\frac{dc}{dy})$$ \n",
    "\n",
    "Then, we can use the Chainers of each $z_i$ to obtain the partial derivative of the cost with respect to any $x_i$:\n",
    "$$\\frac{\\partial c}{\\partial x_k} = \\sum_i \\left[L_{x}(\\frac{\\partial c}{\\partial z_i}) \\right]_k"
   ]
  },
  {
   "cell_type": "markdown",
   "metadata": {},
   "source": [
    "Let $f : \\mathbb{R}^{C_1, C_2, \\dots} \\to \\mathbb{R}^{K_1, K_2, \\dots}$,\n",
    "$g : \\mathbb{R}^{V_1, V_2, \\dots} \\to \\mathbb{R}^{C_1, C_2, \\dots}$\n",
    "and $h(x) = f \\circ g (x)$. Then $h : \\mathbb{R}^{V_1, V_2, \\dots} \\to \\mathbb{R}^{K_1, K_2, \\dots}$. \n",
    "\n",
    "In Utero, the special jacobian \n",
    "$$J_h[k_1, k_2, \\dots; v_1, v_2, \\dots] = \\frac{\\partial h_{k_1, k_2, \\dots}}{\\partial x_{v_1, v_2, \\dots}}$$\n"
   ]
  }
 ],
 "metadata": {
  "language_info": {
   "name": "python"
  }
 },
 "nbformat": 4,
 "nbformat_minor": 2
}
