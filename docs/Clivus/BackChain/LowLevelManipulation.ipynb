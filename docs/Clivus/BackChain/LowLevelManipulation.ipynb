{
 "cells": [
  {
   "cell_type": "code",
   "execution_count": null,
   "metadata": {},
   "outputs": [],
   "source": [
    "# we can easily apply a function to to the func\n",
    "withf::Expr = Expr(:call, :print, code[3].args...)\n",
    "@show withf"
   ]
  }
 ],
 "metadata": {
  "language_info": {
   "name": "python"
  },
  "orig_nbformat": 4
 },
 "nbformat": 4,
 "nbformat_minor": 2
}
