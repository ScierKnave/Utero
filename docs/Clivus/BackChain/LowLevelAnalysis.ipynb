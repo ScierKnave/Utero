{
 "cells": [
  {
   "cell_type": "code",
   "execution_count": 1,
   "metadata": {},
   "outputs": [
    {
     "data": {
      "text/plain": [
       "f (generic function with 1 method)"
      ]
     },
     "metadata": {},
     "output_type": "display_data"
    }
   ],
   "source": [
    "# let us define two functions without control flow \n",
    "\n",
    "g(y) = 4 + y * y\n",
    "\n",
    "function f(x1, x2)\n",
    "    d = ((1+x1) / x2 + 3) ^ 3 - 6\n",
    "    c = g(d) - 1\n",
    "    return c\n",
    "end"
   ]
  },
  {
   "cell_type": "code",
   "execution_count": 2,
   "metadata": {},
   "outputs": [
    {
     "name": "stdout",
     "output_type": "stream",
     "text": [
      "code\n",
      "codelocs\n",
      "ssavaluetypes\n",
      "ssaflags\n",
      "method_for_inference_limit_heuristics\n",
      "linetable\n",
      "slotnames\n",
      "slotflags\n",
      "slottypes\n",
      "rettype\n",
      "parent\n",
      "edges\n",
      "min_world\n",
      "max_world\n",
      "inferred\n",
      "inlining_cost\n",
      "propagate_inbounds\n",
      "pure\n",
      "has_fcall\n",
      "constprop\n",
      "purity\n"
     ]
    }
   ],
   "source": [
    "# then, we can use julia to get the code of f at the atomic statement level\n",
    "low = Base.code_lowered(f)[1]\n",
    "for p in propertynames(low) println(p) end"
   ]
  },
  {
   "cell_type": "code",
   "execution_count": 3,
   "metadata": {},
   "outputs": [
    {
     "name": "stdout",
     "output_type": "stream",
     "text": [
      "low.linetable = Any[Core.LineInfoNode(Main, :f, Symbol(\"/Users/pichedereck/Library/Mobile Documents/iCloud~md~obsidian/Documents/MemorisiCloud/2 Projets/Deeplib/docs/Clivus/LowLevelAnalysis.ipynb\"), 6, 0)]\n"
     ]
    },
    {
     "data": {
      "text/plain": [
       "5-element Vector{Symbol}:\n",
       " Symbol(\"#self#\")\n",
       " :x1\n",
       " :x2\n",
       " :c\n",
       " :d"
      ]
     },
     "metadata": {},
     "output_type": "display_data"
    }
   ],
   "source": [
    "# with these, we can reconstruct the entire f method\n",
    "code = low.code\n",
    "@show low.linetable\n",
    "slots = low.slotnames"
   ]
  },
  {
   "cell_type": "code",
   "execution_count": 4,
   "metadata": {},
   "outputs": [
    {
     "name": "stdout",
     "output_type": "stream",
     "text": [
      "line = :(Main.:^)\n",
      "line = :(1 + _2)\n",
      "line = :(%2 / _3)\n",
      "line = :(%3 + 3)\n",
      "line = :(Core.apply_type(Base.Val, 3))\n",
      "line = :((%5)())\n",
      "line = :(Base.literal_pow(%1, %4, %6))\n",
      "line = :(_5 = %7 - 6)\n",
      "line = :(Main.g(_5))\n",
      "line = :(_4 = %9 - 1)\n",
      "line = :(return _4)\n"
     ]
    }
   ],
   "source": [
    "# clearer view of code\n",
    "for line in code\n",
    "    @show line\n",
    "end"
   ]
  },
  {
   "cell_type": "code",
   "execution_count": 5,
   "metadata": {},
   "outputs": [
    {
     "name": "stdout",
     "output_type": "stream",
     "text": [
      ":(Main.:^)\n",
      "("
     ]
    },
    {
     "name": "stdout",
     "output_type": "stream",
     "text": [
      ":call, :(Main.:+), 1, :(_2))\n",
      "(:call, :(Main.:/), :(%2), :(_3))\n",
      "(:call, :(Main.:+), :(%3), 3)\n",
      "(:call, :(Core.apply_type), :(Base.Val), 3)\n",
      "(:call, :(%5))\n",
      "(:call, :(Base.literal_pow), :(%1), :(%4), :(%6))\n",
      "(:(=), :(_5), (:call, :(Main.:-), :(%7), 6))\n",
      "(:call, :(Main.g), :(_5))\n",
      "(:(=), :(_4), (:call, :(Main.:-), :(%9), 1))\n",
      ":(return _4)\n"
     ]
    }
   ],
   "source": [
    "# lego view of code\n",
    "for line in code\n",
    "    Meta.show_sexpr(line)\n",
    "    println()\n",
    "end"
   ]
  },
  {
   "cell_type": "code",
   "execution_count": 6,
   "metadata": {},
   "outputs": [
    {
     "name": "stdout",
     "output_type": "stream",
     "text": [
      "typeof(line) = GlobalRef\n",
      "typeof(line) = Expr\n",
      "typeof(line) = Expr\n",
      "typeof(line) = Expr\n",
      "typeof(line) = Expr\n",
      "typeof(line) = Expr\n",
      "typeof(line) = Expr\n",
      "typeof(line) = Expr\n",
      "typeof(line) = Expr\n",
      "typeof(line) = Expr\n",
      "typeof(line) = Core.ReturnNode\n"
     ]
    }
   ],
   "source": [
    "# let us look at the types \n",
    "\n",
    "for line in code \n",
    "    @show typeof(line)\n",
    "end"
   ]
  },
  {
   "cell_type": "code",
   "execution_count": 7,
   "metadata": {},
   "outputs": [
    {
     "name": "stdout",
     "output_type": "stream",
     "text": [
      "withf = :(print(Main.:/, %2, _3))\n"
     ]
    },
    {
     "data": {
      "text/plain": [
       ":(print(Main.:/, %2, _3))"
      ]
     },
     "metadata": {},
     "output_type": "display_data"
    }
   ],
   "source": [
    "# we can easily apply a function to to the func\n",
    "withf::Expr = Expr(:call, :print, code[3].args...)\n",
    "@show withf"
   ]
  },
  {
   "cell_type": "code",
   "execution_count": 8,
   "metadata": {},
   "outputs": [],
   "source": [
    "# what do all the args look like?"
   ]
  },
  {
   "cell_type": "code",
   "execution_count": 9,
   "metadata": {},
   "outputs": [
    {
     "name": "stdout",
     "output_type": "stream",
     "text": [
      "(:(=), :x, :y)4\n"
     ]
    }
   ],
   "source": [
    "# eval equality\n",
    "x = 1\n",
    "y = 2\n",
    "eval(:(x=y))\n",
    "Meta.show_sexpr(:(x=y))\n",
    "println(x+2)"
   ]
  }
 ],
 "metadata": {
  "kernelspec": {
   "display_name": "Julia 1.9.1",
   "language": "julia",
   "name": "julia-1.9"
  },
  "language_info": {
   "file_extension": ".jl",
   "mimetype": "application/julia",
   "name": "julia",
   "version": "1.9.1"
  },
  "orig_nbformat": 4
 },
 "nbformat": 4,
 "nbformat_minor": 2
}
