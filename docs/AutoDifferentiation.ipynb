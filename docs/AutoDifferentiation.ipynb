{
 "cells": [
  {
   "cell_type": "markdown",
   "metadata": {},
   "source": [
    "# Graph Utilities"
   ]
  },
  {
   "cell_type": "markdown",
   "metadata": {},
   "source": [
    "Operations to manipulate the directed acyclic computationnal graphs created using Julia's built-in dictionnary data structure."
   ]
  },
  {
   "cell_type": "code",
   "execution_count": 2,
   "metadata": {},
   "outputs": [
    {
     "name": "stdout",
     "output_type": "stream",
     "text": [
      "NoIncomingEdges = Set([Node for Node = Nodes if !(HasIncomingEdge(Edges, Node))]) = Set([1])\n",
      "KahnTopoSort(Nodes, Edges) = "
     ]
    },
    {
     "name": "stdout",
     "output_type": "stream",
     "text": [
      "Any[1, 2, 3, 4, 5]\n"
     ]
    },
    {
     "data": {
      "text/plain": [
       "5-element Vector{Any}:\n",
       " 1\n",
       " 2\n",
       " 3\n",
       " 4\n",
       " 5"
      ]
     },
     "metadata": {},
     "output_type": "display_data"
    }
   ],
   "source": [
    "\n",
    "function AddEdge(Edges, source, sink)\n",
    "    if source in Edges merge!(Edges, source=>Set([sink, get(Edges, source)...]))\n",
    "    else merge!(Edges, source=>Set(sink)) end \n",
    "end\n",
    "\n",
    "function RemoveEdge(Edges, source, sink)\n",
    "    if source in keys(Edges) delete!(get(Edges, source, Nothing), sink) end\n",
    "end\n",
    "\n",
    "function ReverseEdges(Edges)::IdDict\n",
    "    ReversedEdges = IdDict{}\n",
    "    for (source, sinks) in edges\n",
    "        for sink in sinks AddEdge(ReversedEdges, source, sink) end\n",
    "    end\n",
    "    return ReversedEdges\n",
    "end\n",
    "\n",
    "function HasIncomingEdge(Edges, Node)::Bool\n",
    "    for sinks in values(Edges)  if (Node in sinks) return true end end\n",
    "    return false\n",
    "end\n",
    "\n",
    "\n",
    "function KahnTopoSort(Nodes::Set, Edges::IdDict)\n",
    "    # Kahn's topological sorting algorithm\n",
    "    # edges is a DAG in the form of a dictionnary (source => sinks)\n",
    "    Sorted = []\n",
    "    @show NoIncomingEdges = Set( [Node for Node in Nodes  if !HasIncomingEdge(Edges, Node)] )\n",
    "    while !isempty(NoIncomingEdges)\n",
    "        source = pop!(NoIncomingEdges)\n",
    "        Sorted = cat(Sorted, [source], dims=1)\n",
    "        sinks = get(Edges, source, false)\n",
    "        if sinks!=false for sink in sinks\n",
    "            RemoveEdge(Edges, source, sink)\n",
    "            if !HasIncomingEdge(Edges, sink) NoIncomingEdges = union(NoIncomingEdges, Set(sink)) end\n",
    "        end end\n",
    "    end\n",
    "    return Sorted\n",
    "end\n",
    "\n",
    "\n",
    "Nodes = Set([1, 2, 3, 4, 5])\n",
    "Edges = IdDict(1=>Set([2, 3]), 4=>Set([5]), 2=>Set([4, 5]), 3=>Set([4]))\n",
    "@show KahnTopoSort(Nodes, Edges) #should return [5, 4, 2, 3, 1] or [5, 2, 4, 3, 1]\n"
   ]
  },
  {
   "cell_type": "markdown",
   "metadata": {},
   "source": [
    "# Forward Pass\n",
    "Every function in our program, no matter the complexity, can be represented as a wengert list of very basic operations. A basic expression in a Wengert List follows:\n",
    "maximum of two operands, and an operator.\n",
    "\n",
    "We need our program to create a trace (which can be described as a wengert list) by going into a forward pass with note taking operators. Note taking operators are modified basic operators that write down in a global dictionnary the basic operands and the **symbolic Nodeentifiers** of their arguments (Nodeentif. from the caller, not the func. def).\n",
    "\n",
    "Here, the constructer \"Tracked\" is introduced. If a particular tensor is tracked, it means that every atomic computation involving it needs to be consNodeered as a function which needs to be differentiated with respect to it. The output tensor becomes tracked, since there is a possibility it will be used to compute the loss, y, in the end.\n",
    "\n",
    "Here the dictionnary is problematic, since only single links can be store. "
   ]
  },
  {
   "cell_type": "code",
   "execution_count": 3,
   "metadata": {},
   "outputs": [],
   "source": [
    "import Base.:+\n",
    "import Base.:-\n",
    "import Base.:*\n",
    "import Base.:/\n",
    "import Base.:^\n",
    "\n",
    "\n",
    "GetJacobian(f::typeof(+), a::Real, b::Tracked) = 1\n",
    "GetJacobian(f::typeof(+), a::Tracked, b::Real) = 1\n",
    "GetJacobian(f::typeof(-), a::Real, b::Tracked) = -1\n",
    "GetJacobian(f::typeof(-), a::Tracked, b::Real) = 1\n",
    "GetJacobian(f::typeof(*), a::Real, b::Tracked) = a\n",
    "GetJacobian(f::typeof(*), a::Tracked, b::Real) = b\n",
    "GetJacobian(f::typeof(/), a::Real, b::Tracked) = (-1)/b.val^2\n",
    "GetJacobian(f::typeof(/), a::Tracked, b::Real) = 1/b\n",
    "\n",
    "\n",
    "function AddJacobian(Jacobians, source, sink, Jacobian)\n",
    "    # adds jacobian of sink with respect to source to jacobians\n",
    "    merge!(Jacobians, (source, sink) => Jacobian) \n",
    "end\n",
    "\n",
    "function GenNode(Nodes)\n",
    "    # generate a new Node (Nodeentification in the graph)\n",
    "    Node = convert(Int64, floor(10000000 * rand()))\n",
    "    while Node in Nodes\n",
    "        Node = convert(Int64, floor(10000000 * rand()))\n",
    "    end\n",
    "    Nodes = union!(Nodes, Node)\n",
    "    return Node\n",
    "end\n",
    "\n",
    "mutable struct Tracked{T}\n",
    "    val::T\n",
    "    Node::Int64 # identification in the computationnal graph\n",
    "    Tracked(val, Nodes) = return new{typeof(val)}(val, GenNode(Nodes))\n",
    "    Tracked(val, Node) = return new{typeof(val)}(val, Node)\n",
    "end\n",
    "\n",
    "function WithGradient(f, x, w)\n",
    "    \n",
    "    # Overcharge the operators to create a computationnal graph as well as \n",
    "    # the intermediate jacobians for backpropagation at a later stage\n",
    "\n",
    "    Nodes = Set()\n",
    "    Edges = IdDict()\n",
    "    Jacobians = IdDict()\n",
    "\n",
    "    for op in (Symbol(+), Symbol(-), Symbol(*), Symbol(/), Symbol(^))\n",
    "\n",
    "        eval(:(global function ($op)(a::Real, b::Tracked)\n",
    "        Node = GenNode(Nodes)\n",
    "        J = GetJacobian(($op), a, b)\n",
    "        AddEdge(Edges, b.Node, Node)\n",
    "        AddJacobian(b.Node, Node, J)\n",
    "        return Tracker(($op)(a.val, b.val), Node) end))\n",
    "        \n",
    "\n",
    "        eval(:(global function ($op)(a::Tracked, b::Real)\n",
    "        Node = GenerateNode()\n",
    "        J = GetJacobian(($op), a, b)\n",
    "        AddEdge(Edges, a.Node, Node)\n",
    "        AddJacobian(a.Node, Node, J)\n",
    "        return Tracker(($op)(a.val, b.val), Node) end))\n",
    "\n",
    "        eval(:(global function ($op)(a::Tracked, b::Tracked)\n",
    "        Node = GenerateNode()\n",
    "        Ja = GetJacobian(($op), a, b.val)\n",
    "        AddEdge(Edges, a.Node, Node)\n",
    "        AddJacobian(Jacobians, a.Node, Node, Ja)\n",
    "        Jb = GetJacobian(($op), a.val, b)\n",
    "        AddEdge(Edges, b.Node, Node)\n",
    "        AddJacobian(Jacobians, b.Node, Node, Jb)\n",
    "        return Tracker(($op)(a.val, b.val), Node) end))\n",
    "\n",
    "    end\n",
    "\n",
    "    y = f(x, w)\n",
    "\n",
    "    return (y, Nodes, Edges, Jacobians)\n",
    "end\n"
   ]
  },
  {
   "cell_type": "markdown",
   "metadata": {},
   "source": [
    "# Backward Pass"
   ]
  },
  {
   "cell_type": "code",
   "execution_count": 4,
   "metadata": {},
   "outputs": [
    {
     "data": {
      "text/plain": [
       "BackpropStart (generic function with 1 method)"
      ]
     },
     "metadata": {},
     "output_type": "display_data"
    }
   ],
   "source": [
    "\n",
    "\n",
    "function Backprop(f, x, w)\n",
    "    y, Nodes, Edges, Jacobians = WithGradient(f, x, w) # forward pass (intermediate jacobians are computed)\n",
    "    Backprop(y.Node) # backwards pass (application of the chain rule)\n",
    "    TopoSortNodes = KahnTopoSort(Nodes, Edges) # TODO reverse the before edges?\n",
    "    for Source in TopoSortNodes\n",
    "        # TODO: COMPLETE / FIX\n",
    "        # Sinks <- Sinks of Source \n",
    "        Jacobian = 1\n",
    "        for child in Parents\n",
    "            # set (in dict) Jacobian += Jacobians.get(p) * Jacobians.get(p=>f)\n",
    "        end\n",
    "    end\n",
    "    # now that the chain has been applied, the jacobians are final! we can perform a gradient step\n",
    "end"
   ]
  },
  {
   "cell_type": "markdown",
   "metadata": {},
   "source": []
  },
  {
   "cell_type": "code",
   "execution_count": 5,
   "metadata": {},
   "outputs": [
    {
     "ename": "UndefVarError",
     "evalue": "UndefVarError: `IdSpace` not defined",
     "output_type": "error",
     "traceback": [
      "UndefVarError: `IdSpace` not defined\n",
      "\n",
      "Stacktrace:\n",
      " [1] GenerateID()\n",
      "   @ Main ~/Library/Mobile Documents/iCloud~md~obsidian/Documents/MemorisiCloud/Projets/Programmation Automne 2023/Utero/docs/AutoDifferentiation.ipynb:15\n",
      " [2] Tracked(val::Int64)\n",
      "   @ Main ~/Library/Mobile Documents/iCloud~md~obsidian/Documents/MemorisiCloud/Projets/Programmation Automne 2023/Utero/docs/AutoDifferentiation.ipynb:25\n",
      " [3] top-level scope\n",
      "   @ show.jl:1128"
     ]
    }
   ],
   "source": [
    "# every program can be deconstructed as a wengert list\n",
    "\n",
    "oepli(w, x) = 2 * (((w + x) - w) * w) + w^2\n",
    "\n",
    "w = @show Tracked(7)\n",
    "x = 3\n",
    "#println(CompGraph)\n",
    "#println(Jacobians)\n",
    "@show BackpropStart(x, w, oepli)"
   ]
  },
  {
   "cell_type": "markdown",
   "metadata": {},
   "source": [
    "# Autodiff Matrix\n",
    "The function which will be differentiated is of the form $y = f(\\theta_1, \\theta_2, \\dots)$, where the $\\theta$'s are the Trackedeters to be updated. The input is consNodeered a constant in the function. \n",
    "\n",
    "$$f(\\theta_1, \\theta_2, \\dots) = f(\\theta_1, f(\\theta_2))$$\n",
    "\n",
    "$$\\frac{d f(g(x))}{dx} = \\frac{d f}{d g} \\frac{dg}{dx}$$\n",
    "\n",
    "\n"
   ]
  },
  {
   "cell_type": "code",
   "execution_count": 6,
   "metadata": {},
   "outputs": [
    {
     "ename": "UndefVarError",
     "evalue": "UndefVarError: `Param` not defined",
     "output_type": "error",
     "traceback": [
      "UndefVarError: `Param` not defined\n",
      "\n",
      "Stacktrace:\n",
      " [1] top-level scope\n",
      "   @ ~/Library/Mobile Documents/iCloud~md~obsidian/Documents/MemorisiCloud/Projets/Programmation Automne 2023/Utero/docs/AutoDifferentiation.ipynb:6"
     ]
    }
   ],
   "source": [
    "\n",
    "function G(W1, W2, W3, x)\n",
    "    return sum(sin.(W3*(cos.(W2*(sin.(W1*x))))))\n",
    "end\n",
    "\n",
    "function *(A::Param, B::Matrix)\n",
    "    merge!(CompGraph, IdDict{Any, Any}((A.Node)=>(previous)))\n",
    "    Jacobian = B\n",
    "    merge!(Jacobians, IdDict{Any, Any}((A.Node)=>(Jacobian)))\n",
    "    global previous = A.Node\n",
    "    return (*)(A.Node, B) \n",
    "end\n",
    "\n",
    "y = G(Param(rand(5,5)), Param(rand(5,5)), Param(rand(5,5)), rand(5,5))\n",
    "@show Jacobians\n",
    "@show CompGraph"
   ]
  }
 ],
 "metadata": {
  "kernelspec": {
   "display_name": "Julia 1.9.1",
   "language": "julia",
   "name": "julia-1.9"
  },
  "language_info": {
   "file_extension": ".jl",
   "mimetype": "application/julia",
   "name": "julia",
   "version": "1.9.1"
  },
  "orig_nbformat": 4
 },
 "nbformat": 4,
 "nbformat_minor": 2
}
