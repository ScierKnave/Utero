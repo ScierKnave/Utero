{
 "cells": [
  {
   "cell_type": "markdown",
   "metadata": {},
   "source": [
    "# Variable / Operations Identification"
   ]
  },
  {
   "cell_type": "code",
   "execution_count": 1,
   "metadata": {},
   "outputs": [],
   "source": [
    "\n",
    "\n",
    "\n",
    "Nodes = Set()\n",
    "CompGraph = [] # TODO: rename to edges\n",
    "Jacobians = IdDict()\n",
    "\n",
    "\n",
    "function JacobiansAdd(source, sink, Jacobian)\n",
    "    merge!(Jacobians, (source, sink) => Jacobian) \n",
    "end\n",
    "\n",
    "function GenerateID()\n",
    "    ID = convert(Int64, floor(10000000 * rand()))\n",
    "    while ID in Nodes\n",
    "        ID = convert(Int64, floor(10000000 * rand()))\n",
    "    end\n",
    "    union!(Nodes, ID)\n",
    "    return ID\n",
    "end\n",
    "\n",
    "mutable struct Tracked{T}\n",
    "    val::T\n",
    "    ID::Int64\n",
    "    Tracked(val) = return new{typeof(val)}(val, GenerateID())\n",
    "    Tracked(val, ID) = return new{typeof(val)}(val, ID)\n",
    "end\n"
   ]
  },
  {
   "cell_type": "markdown",
   "metadata": {},
   "source": [
    "Operations to manipulate the directed acyclic computationnal graphs created using Julia's built-in dictionnary data structure."
   ]
  },
  {
   "cell_type": "code",
   "execution_count": 2,
   "metadata": {},
   "outputs": [
    {
     "name": "stdout",
     "output_type": "stream",
     "text": [
      "NoIncomingEdges = Set([Node for Node = Nodes if !(HasIncomingEdge(Edges, Node))]) = Set([1])\n",
      "KahnTopoSort(Nodes, Edges) = "
     ]
    },
    {
     "name": "stdout",
     "output_type": "stream",
     "text": [
      "Any[1, 2, 3, 4, 5]\n"
     ]
    },
    {
     "data": {
      "text/plain": [
       "5-element Vector{Any}:\n",
       " 1\n",
       " 2\n",
       " 3\n",
       " 4\n",
       " 5"
      ]
     },
     "metadata": {},
     "output_type": "display_data"
    }
   ],
   "source": [
    "\n",
    "function AddEdge(Edges, source, sink)\n",
    "    if source in Edges merge!(Edges, source=>Set([sink, get(Edges, source)...]))\n",
    "    else merge!(Edges, source=>Set(sink)) end \n",
    "end\n",
    "\n",
    "function RemoveEdge(Edges, source, sink)\n",
    "    if source in keys(Edges) delete!(get(Edges, source, Nothing), sink) end\n",
    "end\n",
    "\n",
    "function ReverseEdges(Edges)::IdDict\n",
    "    ReversedEdges = IdDict{}\n",
    "    for (source, sinks) in edges\n",
    "        for sink in sinks AddEdge(ReversedEdges, source, sink) end\n",
    "    end\n",
    "    return ReversedEdges\n",
    "end\n",
    "\n",
    "function HasIncomingEdge(Edges, Node)::Bool\n",
    "    for sinks in values(Edges)  if (Node in sinks) return true end end\n",
    "    return false\n",
    "end\n",
    "\n",
    "\n",
    "function KahnTopoSort(Nodes::Set, Edges::IdDict)\n",
    "    # Kahn's topological sorting algorithm\n",
    "    # edges is a DAG in the form of a dictionnary (source => sinks)\n",
    "    Sorted = []\n",
    "    @show NoIncomingEdges = Set( [Node for Node in Nodes  if !HasIncomingEdge(Edges, Node)] )\n",
    "    while !isempty(NoIncomingEdges)\n",
    "        source = pop!(NoIncomingEdges)\n",
    "        Sorted = cat(Sorted, [source], dims=1)\n",
    "        sinks = get(Edges, source, false)\n",
    "        if sinks!=false for sink in sinks\n",
    "            RemoveEdge(Edges, source, sink)\n",
    "            if !HasIncomingEdge(Edges, sink) NoIncomingEdges = union(NoIncomingEdges, Set(sink)) end\n",
    "        end end\n",
    "    end\n",
    "    return Sorted\n",
    "end\n",
    "\n",
    "\n",
    "Nodes = Set([1, 2, 3, 4, 5])\n",
    "Edges = IdDict(1=>Set([2, 3]), 4=>Set([5]), 2=>Set([4, 5]), 3=>Set([4]))\n",
    "@show KahnTopoSort(Nodes, Edges) #should return [5, 4, 2, 3, 1] or [5, 2, 4, 3, 1]\n"
   ]
  },
  {
   "cell_type": "markdown",
   "metadata": {},
   "source": [
    "# Wengert List\n",
    "Every function in our program, no matter the complexity, can be represented as a wengert list of very basic operations. A basic expression in a Wengert List follows:\n",
    "maximum of two operands, and an operator.\n",
    "\n",
    "We need our program to create a trace (which can be described as a wengert list) by going into a forward pass with note taking operators. Note taking operators are modified basic operators that write down in a global dictionnary the basic operands and the **symbolic identifiers** of their arguments (identif. from the caller, not the func. def).\n",
    "\n",
    "Here, the constructer \"Tracked\" is introduced. If a particular tensor is tracked, it means that every atomic computation involving it needs to be considered as a function which needs to be differentiated with respect to it. The output tensor becomes tracked, since there is a possibility it will be used to compute the loss, y, in the end.\n",
    "\n",
    "Here the dictionnary is problematic, since only single links can be store. "
   ]
  },
  {
   "cell_type": "code",
   "execution_count": 3,
   "metadata": {},
   "outputs": [],
   "source": [
    "import Base.:+\n",
    "import Base.:-\n",
    "import Base.:*\n",
    "import Base.:/\n",
    "import Base.:^\n",
    "\n",
    "\n",
    "GetJacobian(f::typeof(+), a::Real, b::Tracked) = 1\n",
    "GetJacobian(f::typeof(+), a::Tracked, b::Real) = 1\n",
    "GetJacobian(f::typeof(-), a::Real, b::Tracked) = -1\n",
    "GetJacobian(f::typeof(-), a::Tracked, b::Real) = 1\n",
    "GetJacobian(f::typeof(*), a::Real, b::Tracked) = a\n",
    "GetJacobian(f::typeof(*), a::Tracked, b::Real) = b\n",
    "GetJacobian(f::typeof(/), a::Real, b::Tracked) = (-1)/b.val^2\n",
    "GetJacobian(f::typeof(/), a::Tracked, b::Real) = 1/b\n",
    "\n",
    "\n",
    "\n",
    "for op in (Symbol(+), Symbol(-), Symbol(*), Symbol(/), Symbol(^))\n",
    "\n",
    "    eval(:(global function ($op)(a::Real, b::Tracked)\n",
    "    ID = GenerateID()\n",
    "    J = GetJacobian(($op), a, b)\n",
    "    CompGraphAdd(b.ID, ID)\n",
    "    JacobiansAdd(b.ID, ID, J)\n",
    "    return Tracker(($op)(a.val, b.val), ID) end))\n",
    "    \n",
    "\n",
    "    eval(:(global function ($op)(a::Tracked, b::Real)\n",
    "    ID = GenerateID()\n",
    "    J = GetJacobian(($op), a, b)\n",
    "    CompGraphAdd(a.ID, ID)\n",
    "    JacobiansAdd(a.ID, ID, J)\n",
    "    return Tracker(($op)(a.val, b.val), ID) end))\n",
    "\n",
    "    eval(:(global function ($op)(a::Tracked, b::Tracked)\n",
    "    ID = GenerateID()\n",
    "    Ja = GetJacobian(($op), a, b.val)\n",
    "    CompGraphAdd(a.ID, ID)\n",
    "    JacobiansAdd(a.ID, ID, Ja)\n",
    "    Jb = GetJacobian(($op), a.val, b)\n",
    "    CompGraphAdd(b.ID, ID)\n",
    "    JacobiansAdd(b.ID, ID, Jb)\n",
    "    return Tracker(($op)(a.val, b.val), ID) end))\n",
    "\n",
    "end\n",
    "\n"
   ]
  },
  {
   "cell_type": "code",
   "execution_count": 4,
   "metadata": {},
   "outputs": [
    {
     "data": {
      "text/plain": [
       "BackpropStart (generic function with 1 method)"
      ]
     },
     "metadata": {},
     "output_type": "display_data"
    }
   ],
   "source": [
    "\n",
    "function Backprop(ID)\n",
    "    Parents = CompGraph.get(ID)\n",
    "    for p in Parents\n",
    "        Jacobians.set(p, Jacobians.get(p) * Jacobians.get(p=>f))\n",
    "        Backprop(f)\n",
    "    end\n",
    "end\n",
    "\n",
    "function Backprop(x, w, f)\n",
    "\n",
    "    y = f(w, x) # forward pass (intermediate jacobians are computed)\n",
    "    Backprop(y.ID) # backwards pass (application of the chain rule)\n",
    "    TopoSortNodes = KahnTopoSort(Nodes, Edges)\n",
    "    for Node in \n",
    "    for p in Parents\n",
    "        Jacobians.set(p, Jacobians.get(p) * Jacobians.get(p=>f))\n",
    "        Backprop(f)\n",
    "    end\n",
    "end"
   ]
  },
  {
   "cell_type": "markdown",
   "metadata": {},
   "source": []
  },
  {
   "cell_type": "code",
   "execution_count": 5,
   "metadata": {},
   "outputs": [
    {
     "ename": "UndefVarError",
     "evalue": "UndefVarError: `IdSpace` not defined",
     "output_type": "error",
     "traceback": [
      "UndefVarError: `IdSpace` not defined\n",
      "\n",
      "Stacktrace:\n",
      " [1] GenerateID()\n",
      "   @ Main ~/Library/Mobile Documents/iCloud~md~obsidian/Documents/MemorisiCloud/Projets/Programmation Automne 2023/Utero/docs/AutoDifferentiation.ipynb:15\n",
      " [2] Tracked(val::Int64)\n",
      "   @ Main ~/Library/Mobile Documents/iCloud~md~obsidian/Documents/MemorisiCloud/Projets/Programmation Automne 2023/Utero/docs/AutoDifferentiation.ipynb:25\n",
      " [3] top-level scope\n",
      "   @ show.jl:1128"
     ]
    }
   ],
   "source": [
    "# every program can be deconstructed as a wengert list\n",
    "\n",
    "oepli(w, x) = 2 * (((w + x) - w) * w) + w^2\n",
    "\n",
    "w = @show Tracked(7)\n",
    "x = 3\n",
    "#println(CompGraph)\n",
    "#println(Jacobians)\n",
    "@show BackpropStart(x, w, oepli)"
   ]
  },
  {
   "cell_type": "markdown",
   "metadata": {},
   "source": [
    "# Autodiff Matrix\n",
    "The function which will be differentiated is of the form $y = f(\\theta_1, \\theta_2, \\dots)$, where the $\\theta$'s are the Trackedeters to be updated. The input is considered a constant in the function. \n",
    "\n",
    "$$f(\\theta_1, \\theta_2, \\dots) = f(\\theta_1, f(\\theta_2))$$\n",
    "\n",
    "$$\\frac{d f(g(x))}{dx} = \\frac{d f}{d g} \\frac{dg}{dx}$$\n",
    "\n",
    "\n"
   ]
  },
  {
   "cell_type": "code",
   "execution_count": 6,
   "metadata": {},
   "outputs": [
    {
     "ename": "UndefVarError",
     "evalue": "UndefVarError: `Param` not defined",
     "output_type": "error",
     "traceback": [
      "UndefVarError: `Param` not defined\n",
      "\n",
      "Stacktrace:\n",
      " [1] top-level scope\n",
      "   @ ~/Library/Mobile Documents/iCloud~md~obsidian/Documents/MemorisiCloud/Projets/Programmation Automne 2023/Utero/docs/AutoDifferentiation.ipynb:6"
     ]
    }
   ],
   "source": [
    "\n",
    "function G(W1, W2, W3, x)\n",
    "    return sum(sin.(W3*(cos.(W2*(sin.(W1*x))))))\n",
    "end\n",
    "\n",
    "function *(A::Param, B::Matrix)\n",
    "    merge!(CompGraph, IdDict{Any, Any}((A.ID)=>(previous)))\n",
    "    Jacobian = B\n",
    "    merge!(Jacobians, IdDict{Any, Any}((A.ID)=>(Jacobian)))\n",
    "    global previous = A.ID\n",
    "    return (*)(A.ID, B) \n",
    "end\n",
    "\n",
    "y = G(Param(rand(5,5)), Param(rand(5,5)), Param(rand(5,5)), rand(5,5))\n",
    "@show Jacobians\n",
    "@show CompGraph"
   ]
  }
 ],
 "metadata": {
  "kernelspec": {
   "display_name": "Julia 1.9.1",
   "language": "julia",
   "name": "julia-1.9"
  },
  "language_info": {
   "file_extension": ".jl",
   "mimetype": "application/julia",
   "name": "julia",
   "version": "1.9.1"
  },
  "orig_nbformat": 4
 },
 "nbformat": 4,
 "nbformat_minor": 2
}
