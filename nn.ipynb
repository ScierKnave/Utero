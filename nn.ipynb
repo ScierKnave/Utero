{
 "cells": [
  {
   "cell_type": "code",
   "execution_count": null,
   "metadata": {},
   "outputs": [],
   "source": [
    "# Generate a model\n",
    "using Flux \n",
    "using LinearAlgebra\n",
    "using Random\n",
    "\n",
    "struct Linear\n",
    "    W :: Matrix\n",
    "    b :: Vector\n",
    "end\n",
    "\n",
    "function (l::Linear)(x::Vector)\n",
    "    return *(l.W, x) + l.b\n",
    "end\n",
    "\n",
    "function ReLU(x :: Vector)\n",
    "    return max.(0, x)\n",
    "end\n",
    "\n",
    "\n",
    "l = Linear([1 2; 3 4], [1, 2])\n",
    "x = [-4, 2]\n",
    "out = ReLU(l(x))\n",
    "out\n"
   ]
  },
  {
   "cell_type": "code",
   "execution_count": null,
   "metadata": {},
   "outputs": [],
   "source": [
    "# Train the model\n",
    "step = 1e-3\n",
    "x_train\n",
    "for i in range"
   ]
  }
 ],
 "metadata": {
  "kernelspec": {
   "display_name": "Julia 1.9.1",
   "language": "julia",
   "name": "julia-1.9"
  },
  "language_info": {
   "file_extension": ".jl",
   "mimetype": "application/julia",
   "name": "julia",
   "version": "1.9.1"
  },
  "orig_nbformat": 4
 },
 "nbformat": 4,
 "nbformat_minor": 2
}
