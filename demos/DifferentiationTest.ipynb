{
 "cells": [
  {
   "cell_type": "code",
   "execution_count": 1,
   "metadata": {},
   "outputs": [],
   "source": [
    "include(\"../src/Utero.jl\")\n",
    "using .Utero "
   ]
  },
  {
   "cell_type": "code",
   "execution_count": 2,
   "metadata": {},
   "outputs": [
    {
     "data": {
      "text/plain": [
       "(21.0, Any[3.0])"
      ]
     },
     "metadata": {},
     "output_type": "display_data"
    }
   ],
   "source": [
    "ctx = ⬅Context()\n",
    "ForwardBackward(ctx, x -> 2.0*x + x, Params(ctx, 7.0))"
   ]
  },
  {
   "cell_type": "code",
   "execution_count": 3,
   "metadata": {},
   "outputs": [
    {
     "data": {
      "text/plain": [
       "(20.480000000000004, Any[12.8])"
      ]
     },
     "metadata": {},
     "output_type": "display_data"
    }
   ],
   "source": [
    "# should be 42\n",
    "ctx = ⬅Context()\n",
    "ForwardBackward(ctx, x -> x^2.0 + x^2.0, Params(ctx, 3.2)) "
   ]
  },
  {
   "cell_type": "code",
   "execution_count": 4,
   "metadata": {},
   "outputs": [
    {
     "data": {
      "text/plain": [
       "(265.0462473472405, Any[56.20829561241092])"
      ]
     },
     "metadata": {},
     "output_type": "display_data"
    }
   ],
   "source": [
    "# Gradient should be 56.21\n",
    "ctx = Utero.⬅Context()\n",
    "ForwardBackward(ctx, w -> 2.0 * (((2.0*w + 12.0) - w) * w) + sin(w^2.0), Utero.Params(ctx, 7.0))"
   ]
  },
  {
   "cell_type": "code",
   "execution_count": 5,
   "metadata": {},
   "outputs": [
    {
     "data": {
      "text/plain": [
       "(1.0748674472530375, Any[27.53002464314667, 3.0428042273213602])"
      ]
     },
     "metadata": {},
     "output_type": "display_data"
    }
   ],
   "source": [
    "# should be approx. (27.53, 3.0428)\n",
    "ctx = Utero.⬅Context()\n",
    "x, y = Params(ctx, 13.2, 89.0)\n",
    "ForwardBackward(ctx, (x, y) -> (cos(y)^3 * 4sin(x))^2 + cos(x*y)^2, x, y) "
   ]
  }
 ],
 "metadata": {
  "kernelspec": {
   "display_name": "Julia 1.9.1",
   "language": "julia",
   "name": "julia-1.9"
  },
  "language_info": {
   "file_extension": ".jl",
   "mimetype": "application/julia",
   "name": "julia",
   "version": "1.9.1"
  }
 },
 "nbformat": 4,
 "nbformat_minor": 2
}
