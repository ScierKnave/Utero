{
 "cells": [
  {
   "cell_type": "code",
   "execution_count": 1,
   "metadata": {},
   "outputs": [],
   "source": [
    "include(\"../src/Utero.jl\")\n",
    "using .Utero"
   ]
  },
  {
   "cell_type": "code",
   "execution_count": 2,
   "metadata": {},
   "outputs": [
    {
     "name": "stdout",
     "output_type": "stream",
     "text": [
      "x = Utero.Tracker(7.0) = Main.Utero.Tracker{Float64}(7.0, 26.53221675450974, Any[], Any[])\n",
      "0.0\n",
      "2.0\n",
      "7.0\n"
     ]
    },
    {
     "data": {
      "text/plain": [
       "Dict{Any, Any} with 3 entries:\n",
       "  49.0518 => 1.0\n",
       "  58.8504 => 7.0\n",
       "  26.5322 => 2.0"
      ]
     },
     "metadata": {},
     "output_type": "display_data"
    }
   ],
   "source": [
    "@show x = Utero.Tracker(7.0)\n",
    "Utero.ForwardBackward(x -> 2.0*x + x, x)"
   ]
  },
  {
   "cell_type": "code",
   "execution_count": 3,
   "metadata": {},
   "outputs": [
    {
     "data": {
      "text/plain": [
       "3-element Vector{Any}:\n",
       " Main.Utero.Tracker{Float64}(2.0, 58.850423331004606, Any[Main.Utero.var\"#11#12\"{Main.Utero.var\"#MultiplicationLinker#33\"{Float64, Float64}, Int64}(Main.Utero.var\"#MultiplicationLinker#33\"{Float64, Float64}(2.0, 7.0), 1)], Any[49.051807201774224])\n",
       " Main.Utero.Tracker{Float64}(7.0, 26.53221675450974, Any[Main.Utero.var\"#11#12\"{Main.Utero.var\"#MultiplicationLinker#33\"{Float64, Float64}, Int64}(Main.Utero.var\"#MultiplicationLinker#33\"{Float64, Float64}(2.0, 7.0), 2)], Any[49.051807201774224])\n",
       " Main.Utero.Tracker{Float64}(14.0, 49.051807201774224, Any[], Any[])"
      ]
     },
     "metadata": {},
     "output_type": "display_data"
    }
   ],
   "source": [
    "Utero.⬅ctx.Tape"
   ]
  },
  {
   "cell_type": "code",
   "execution_count": 4,
   "metadata": {},
   "outputs": [
    {
     "name": "stdout",
     "output_type": "stream",
     "text": [
      "0.0\n",
      "1.0\n",
      "1.0\n",
      "11.910664292410175\n",
      "12.8\n",
      "11.910664292410175\n",
      "12.8\n"
     ]
    },
    {
     "data": {
      "text/plain": [
       "Dict{Any, Any} with 6 entries:\n",
       "  95.7721 => 1.0\n",
       "  19.6345 => 1.0\n",
       "  95.151  => 1.0\n",
       "  4.39573 => 25.6\n",
       "  81.0008 => 11.9107\n",
       "  95.6457 => 11.9107"
      ]
     },
     "metadata": {},
     "output_type": "display_data"
    }
   ],
   "source": [
    "# should be 42\n",
    "Utero.ForwardBackward(x -> x^2.0 + x^2.0, Utero.Tracker(3.2)) "
   ]
  },
  {
   "cell_type": "code",
   "execution_count": 5,
   "metadata": {},
   "outputs": [
    {
     "name": "stdout",
     "output_type": "stream",
     "text": [
      "0.0\n",
      "1.0\n",
      "1.0\n",
      "0.3005925437436371\n",
      "28.661377998453734\n"
     ]
    },
    {
     "ename": "KeyError",
     "evalue": "KeyError: key 93.02539614317567 not found",
     "output_type": "error",
     "traceback": [
      "KeyError: key 93.02539614317567 not found\n",
      "\n",
      "Stacktrace:\n",
      " [1] getindex(h::Dict{Any, Any}, key::Float64)\n",
      "   @ Base ./dict.jl:484\n",
      " [2] ⬅grad(x::Main.Utero.Tracker{Float64})\n",
      "   @ Main.Utero ~/Library/Mobile Documents/iCloud~md~obsidian/Documents/MemorisiCloud/Projets/Utero/src/AutoDiffByDual/Overloading.jl:25\n",
      " [3] ForwardBackward(f::var\"#15#16\", x::Main.Utero.Tracker{Float64})\n",
      "   @ Main.Utero ~/Library/Mobile Documents/iCloud~md~obsidian/Documents/MemorisiCloud/Projets/Utero/src/AutoDiffByDual/ReverseModeAD.jl:23\n",
      " [4] top-level scope\n",
      "   @ ~/Library/Mobile Documents/iCloud~md~obsidian/Documents/MemorisiCloud/Projets/Utero/demos/DifferentiationTest.ipynb:2"
     ]
    }
   ],
   "source": [
    "# Gradient should be 56.21\n",
    "Utero.ForwardBackward(w -> 2.0 * (((2.0*w + 12.0) - w) * w) + sin(w^2.0), Utero.Tracker(7.0))"
   ]
  },
  {
   "cell_type": "markdown",
   "metadata": {},
   "source": [
    "# Differentiation for Scalar Parameters"
   ]
  },
  {
   "cell_type": "code",
   "execution_count": 6,
   "metadata": {},
   "outputs": [
    {
     "ename": "UndefVarError",
     "evalue": "UndefVarError: `Tracked` not defined",
     "output_type": "error",
     "traceback": [
      "UndefVarError: `Tracked` not defined\n",
      "\n",
      "Stacktrace:\n",
      " [1] getproperty(x::Module, f::Symbol)\n",
      "   @ Base ./Base.jl:31\n",
      " [2] top-level scope\n",
      "   @ ~/Library/Mobile Documents/iCloud~md~obsidian/Documents/MemorisiCloud/Projets/Utero/demos/DifferentiationTest.ipynb:4"
     ]
    }
   ],
   "source": [
    "x = 12 # treated as constant \n",
    "\n",
    "Params = IdDict()\n",
    "w = Utero.Tracked(7.0, Params)\n",
    "grads = Utero.GetGradient(_ -> 2 * (((2*w + x) - w) * w) + sin(w^2), Params) \n",
    "# should be approx. 56.21\n",
    "println(grads)\n",
    "\n",
    "Params = IdDict()\n",
    "w = Utero.Tracked(25.0, Params)\n",
    "grads = Utero.GetGradient(_ -> sin(w)^2, Params)\n",
    "# should be approx. -0.26\n",
    "println(grads)\n",
    "\n",
    "Params = IdDict()\n",
    "w1 = Utero.Tracked(13.2, Params); w2 = Utero.Tracked(89.0, Params)\n",
    "grads = Utero.GetGradient(_ -> (cos(w2)^3 * 4sin(w1))^2 + cos(w1*w2)^2, Params) \n",
    "# should be approx. (27.53, 3.0428)\n",
    "println(grads)\n"
   ]
  },
  {
   "cell_type": "markdown",
   "metadata": {},
   "source": [
    "# Differentiation for Tensor Parameters"
   ]
  },
  {
   "cell_type": "code",
   "execution_count": 7,
   "metadata": {},
   "outputs": [
    {
     "ename": "UndefVarError",
     "evalue": "UndefVarError: `Tracked` not defined",
     "output_type": "error",
     "traceback": [
      "UndefVarError: `Tracked` not defined\n",
      "\n",
      "Stacktrace:\n",
      " [1] getproperty(x::Module, f::Symbol)\n",
      "   @ Base ./Base.jl:31\n",
      " [2] top-level scope\n",
      "   @ ~/Library/Mobile Documents/iCloud~md~obsidian/Documents/MemorisiCloud/Projets/Utero/demos/DifferentiationTest.ipynb:3"
     ]
    }
   ],
   "source": [
    "\n",
    "Parameters = IdDict()\n",
    "w1 = Utero.Tracked(rand(2, 2), Parameters)\n",
    "w2 = Utero.Tracked(rand(2, 2), Parameters)\n",
    "w3 = Utero.Tracked(rand(2, 2), Parameters)\n",
    "\n",
    "grads = Utero.GetGradient(x -> prod(*(w3, *(w2, *(w1, x)))), rand(2,1), Parameters)"
   ]
  },
  {
   "cell_type": "markdown",
   "metadata": {},
   "source": [
    "The product of the parameter matrices should match A."
   ]
  },
  {
   "cell_type": "code",
   "execution_count": 8,
   "metadata": {},
   "outputs": [
    {
     "name": "stdout",
     "output_type": "stream",
     "text": [
      "[0.9388171203553851 0.3286512699972812; 0.7750698881927134 0.4335952028578305]\n"
     ]
    },
    {
     "ename": "UndefVarError",
     "evalue": "UndefVarError: `w1` not defined",
     "output_type": "error",
     "traceback": [
      "UndefVarError: `w1` not defined\n",
      "\n",
      "Stacktrace:\n",
      " [1] top-level scope\n",
      "   @ ~/Library/Mobile Documents/iCloud~md~obsidian/Documents/MemorisiCloud/Projets/Utero/demos/DifferentiationTest.ipynb:7"
     ]
    }
   ],
   "source": [
    "A = rand(2,2)\n",
    "X = rand(100, 2)\n",
    "Y = mapslices(v -> (A * v), X, dims=(2))\n",
    "\n",
    "\n",
    "println(A)\n",
    "println((w1 * w2 * w3).val)\n",
    "\n",
    "for (x, y) in zip(eachrow(X), eachrow(Y))\n",
    "    x = vec(x); y = vec(y)\n",
    "    grads = Utero.GetGradient(x -> Utero.mse(*(w3, *(w2, *(w1, x))), y), x, Parameters)\n",
    "    Utero.GradientStep(0.01, Parameters, grads)\n",
    "end\n",
    "\n",
    "println(\"Now, they should match\")\n",
    "println(A)\n",
    "println((w1 * w2 * w3).val)"
   ]
  }
 ],
 "metadata": {
  "kernelspec": {
   "display_name": "Julia 1.9.1",
   "language": "julia",
   "name": "julia-1.9"
  },
  "language_info": {
   "file_extension": ".jl",
   "mimetype": "application/julia",
   "name": "julia",
   "version": "1.9.1"
  }
 },
 "nbformat": 4,
 "nbformat_minor": 2
}
