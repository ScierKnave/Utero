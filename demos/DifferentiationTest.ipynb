{
 "cells": [
  {
   "cell_type": "code",
   "execution_count": 1,
   "metadata": {},
   "outputs": [],
   "source": [
    "include(\"../src/Utero.jl\")\n",
    "using .Utero\n"
   ]
  },
  {
   "cell_type": "code",
   "execution_count": 2,
   "metadata": {},
   "outputs": [
    {
     "data": {
      "text/plain": [
       "0.0"
      ]
     },
     "metadata": {},
     "output_type": "display_data"
    }
   ],
   "source": [
    "Utero.ForwardBackward(w -> 2 * (((2*w + 12.0) - w) * w) + sin(w^2), Utero.Param(7.0)) "
   ]
  },
  {
   "cell_type": "markdown",
   "metadata": {},
   "source": [
    "# Differentiation for Scalar Parameters"
   ]
  },
  {
   "cell_type": "code",
   "execution_count": 3,
   "metadata": {},
   "outputs": [
    {
     "ename": "UndefVarError",
     "evalue": "UndefVarError: `Tracked` not defined",
     "output_type": "error",
     "traceback": [
      "UndefVarError: `Tracked` not defined\n",
      "\n",
      "Stacktrace:\n",
      " [1] getproperty(x::Module, f::Symbol)\n",
      "   @ Base ./Base.jl:31\n",
      " [2] top-level scope\n",
      "   @ ~/Library/Mobile Documents/iCloud~md~obsidian/Documents/MemorisiCloud/Projets/Utero/demos/DifferentiationTest.ipynb:4"
     ]
    }
   ],
   "source": [
    "x = 12 # treated as constant \n",
    "\n",
    "Params = IdDict()\n",
    "w = Utero.Tracked(7.0, Params)\n",
    "grads = Utero.GetGradient(_ -> 2 * (((2*w + x) - w) * w) + sin(w^2), Params) \n",
    "# should be approx. 56.21\n",
    "println(grads)\n",
    "\n",
    "Params = IdDict()\n",
    "w = Utero.Tracked(25.0, Params)\n",
    "grads = Utero.GetGradient(_ -> sin(w)^2, Params)\n",
    "# should be approx. -0.26\n",
    "println(grads)\n",
    "\n",
    "Params = IdDict()\n",
    "w1 = Utero.Tracked(13.2, Params); w2 = Utero.Tracked(89.0, Params)\n",
    "grads = Utero.GetGradient(_ -> (cos(w2)^3 * 4sin(w1))^2 + cos(w1*w2)^2, Params) \n",
    "# should be approx. (27.53, 3.0428)\n",
    "println(grads)\n"
   ]
  },
  {
   "cell_type": "markdown",
   "metadata": {},
   "source": [
    "# Differentiation for Tensor Parameters"
   ]
  },
  {
   "cell_type": "code",
   "execution_count": 4,
   "metadata": {},
   "outputs": [
    {
     "ename": "UndefVarError",
     "evalue": "UndefVarError: `Tracked` not defined",
     "output_type": "error",
     "traceback": [
      "UndefVarError: `Tracked` not defined\n",
      "\n",
      "Stacktrace:\n",
      " [1] getproperty(x::Module, f::Symbol)\n",
      "   @ Base ./Base.jl:31\n",
      " [2] top-level scope\n",
      "   @ ~/Library/Mobile Documents/iCloud~md~obsidian/Documents/MemorisiCloud/Projets/Utero/demos/DifferentiationTest.ipynb:3"
     ]
    }
   ],
   "source": [
    "\n",
    "Parameters = IdDict()\n",
    "w1 = Utero.Tracked(rand(2, 2), Parameters)\n",
    "w2 = Utero.Tracked(rand(2, 2), Parameters)\n",
    "w3 = Utero.Tracked(rand(2, 2), Parameters)\n",
    "\n",
    "grads = Utero.GetGradient(x -> prod(*(w3, *(w2, *(w1, x)))), rand(2,1), Parameters)"
   ]
  },
  {
   "cell_type": "markdown",
   "metadata": {},
   "source": [
    "The product of the parameter matrices should match A."
   ]
  },
  {
   "cell_type": "code",
   "execution_count": 5,
   "metadata": {},
   "outputs": [
    {
     "name": "stdout",
     "output_type": "stream",
     "text": [
      "[0.9635124636257109 0.1556213983453153; 0.8885927615240006 0.6293904793224647]\n"
     ]
    },
    {
     "ename": "UndefVarError",
     "evalue": "UndefVarError: `w1` not defined",
     "output_type": "error",
     "traceback": [
      "UndefVarError: `w1` not defined\n",
      "\n",
      "Stacktrace:\n",
      " [1] top-level scope\n",
      "   @ ~/Library/Mobile Documents/iCloud~md~obsidian/Documents/MemorisiCloud/Projets/Utero/demos/DifferentiationTest.ipynb:7"
     ]
    }
   ],
   "source": [
    "A = rand(2,2)\n",
    "X = rand(100, 2)\n",
    "Y = mapslices(v -> (A * v), X, dims=(2))\n",
    "\n",
    "\n",
    "println(A)\n",
    "println((w1 * w2 * w3).val)\n",
    "\n",
    "for (x, y) in zip(eachrow(X), eachrow(Y))\n",
    "    x = vec(x); y = vec(y)\n",
    "    grads = Utero.GetGradient(x -> Utero.mse(*(w3, *(w2, *(w1, x))), y), x, Parameters)\n",
    "    Utero.GradientStep(0.01, Parameters, grads)\n",
    "end\n",
    "\n",
    "println(\"Now, they should match\")\n",
    "println(A)\n",
    "println((w1 * w2 * w3).val)"
   ]
  }
 ],
 "metadata": {
  "kernelspec": {
   "display_name": "Julia 1.9.1",
   "language": "julia",
   "name": "julia-1.9"
  },
  "language_info": {
   "file_extension": ".jl",
   "mimetype": "application/julia",
   "name": "julia",
   "version": "1.9.1"
  }
 },
 "nbformat": 4,
 "nbformat_minor": 2
}
