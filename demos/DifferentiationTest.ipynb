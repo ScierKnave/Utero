{
 "cells": [
  {
   "cell_type": "code",
   "execution_count": 1,
   "metadata": {},
   "outputs": [],
   "source": [
    "include(\"../src/Utero.jl\")\n",
    "using .Utero "
   ]
  },
  {
   "cell_type": "code",
   "execution_count": 2,
   "metadata": {},
   "outputs": [
    {
     "data": {
      "text/plain": [
       "(21.0, Any[3.0])"
      ]
     },
     "metadata": {},
     "output_type": "display_data"
    }
   ],
   "source": [
    "ctx = ⬅Context()\n",
    "ForwardBackward(ctx, x -> 2.0*x + x, Params(ctx, 7.0))"
   ]
  },
  {
   "cell_type": "code",
   "execution_count": 3,
   "metadata": {},
   "outputs": [
    {
     "data": {
      "text/plain": [
       "(20.480000000000004, Any[12.8])"
      ]
     },
     "metadata": {},
     "output_type": "display_data"
    }
   ],
   "source": [
    "# should be 42\n",
    "ctx = ⬅Context()\n",
    "ForwardBackward(ctx, x -> x^2.0 + x^2.0, Params(ctx, 3.2)) "
   ]
  },
  {
   "cell_type": "code",
   "execution_count": 4,
   "metadata": {},
   "outputs": [
    {
     "data": {
      "text/plain": [
       "(265.0462473472405, Any[56.20829561241092])"
      ]
     },
     "metadata": {},
     "output_type": "display_data"
    }
   ],
   "source": [
    "# Gradient should be 56.21\n",
    "ctx = Utero.⬅Context()\n",
    "ForwardBackward(ctx, w -> 2.0 * (((2.0*w + 12.0) - w) * w) + sin(w^2.0), Utero.Params(ctx, 7.0))"
   ]
  },
  {
   "cell_type": "code",
   "execution_count": 5,
   "metadata": {},
   "outputs": [
    {
     "data": {
      "text/plain": [
       "(1.0748674472530375, Any[27.53002464314667, 3.0428042273213602])"
      ]
     },
     "metadata": {},
     "output_type": "display_data"
    }
   ],
   "source": [
    "# should be approx. (27.53, 3.0428)\n",
    "ctx = Utero.⬅Context()\n",
    "x, y = Params(ctx, 13.2, 89.0)\n",
    "ForwardBackward(ctx, (x, y) -> (cos(y)^3 * 4sin(x))^2 + cos(x*y)^2, x, y) "
   ]
  },
  {
   "cell_type": "markdown",
   "metadata": {},
   "source": [
    "# Differentiation for Scalar Parameters"
   ]
  },
  {
   "cell_type": "code",
   "execution_count": 6,
   "metadata": {},
   "outputs": [
    {
     "ename": "ErrorException",
     "evalue": "cannot assign a value to imported variable Utero.Params from module Main",
     "output_type": "error",
     "traceback": [
      "cannot assign a value to imported variable Utero.Params from module Main\n",
      "\n",
      "Stacktrace:\n",
      " [1] top-level scope\n",
      "   @ ~/Library/Mobile Documents/iCloud~md~obsidian/Documents/MemorisiCloud/Projets/Utero/demos/DifferentiationTest.ipynb:3"
     ]
    }
   ],
   "source": [
    "x = 12 # treated as constant \n",
    "\n",
    "Params = IdDict()\n",
    "w = Utero.Tracked(7.0, Params)\n",
    "grads = Utero.GetGradient(_ -> 2 * (((2*w + x) - w) * w) + sin(w^2), Params) \n",
    "# should be approx. 56.21\n",
    "println(grads)\n",
    "\n",
    "Params = IdDict()\n",
    "w = Utero.Tracked(25.0, Params)\n",
    "grads = Utero.GetGradient(_ -> sin(w)^2, Params)\n",
    "# should be approx. -0.26\n",
    "println(grads)\n",
    "\n",
    "Params = IdDict()\n",
    "w1 = Utero.Tracked(13.2, Params); w2 = Utero.Tracked(89.0, Params)\n",
    "grads = Utero.GetGradient((x, y) -> (cos(y)^3 * 4sin(x))^2 + cos(x*y)^2, x, y) \n",
    "# should be approx. (27.53, 3.0428)\n",
    "println(grads)\n"
   ]
  },
  {
   "cell_type": "markdown",
   "metadata": {},
   "source": [
    "# Differentiation for Tensor Parameters"
   ]
  },
  {
   "cell_type": "code",
   "execution_count": 7,
   "metadata": {},
   "outputs": [
    {
     "ename": "UndefVarError",
     "evalue": "UndefVarError: `Tracked` not defined",
     "output_type": "error",
     "traceback": [
      "UndefVarError: `Tracked` not defined\n",
      "\n",
      "Stacktrace:\n",
      " [1] getproperty(x::Module, f::Symbol)\n",
      "   @ Base ./Base.jl:31\n",
      " [2] top-level scope\n",
      "   @ ~/Library/Mobile Documents/iCloud~md~obsidian/Documents/MemorisiCloud/Projets/Utero/demos/DifferentiationTest.ipynb:3"
     ]
    }
   ],
   "source": [
    "\n",
    "Parameters = IdDict()\n",
    "w1 = Utero.Tracked(rand(2, 2), Parameters)\n",
    "w2 = Utero.Tracked(rand(2, 2), Parameters)\n",
    "w3 = Utero.Tracked(rand(2, 2), Parameters)\n",
    "\n",
    "grads = Utero.GetGradient(x -> prod(*(w3, *(w2, *(w1, x)))), rand(2,1), Parameters)"
   ]
  },
  {
   "cell_type": "markdown",
   "metadata": {},
   "source": [
    "The product of the parameter matrices should match A."
   ]
  },
  {
   "cell_type": "code",
   "execution_count": 8,
   "metadata": {},
   "outputs": [
    {
     "name": "stdout",
     "output_type": "stream",
     "text": [
      "[0.5962591746131758 0.06944860965323862; 0.6601123287469913 0.620802535031863]\n"
     ]
    },
    {
     "ename": "UndefVarError",
     "evalue": "UndefVarError: `w1` not defined",
     "output_type": "error",
     "traceback": [
      "UndefVarError: `w1` not defined\n",
      "\n",
      "Stacktrace:\n",
      " [1] top-level scope\n",
      "   @ ~/Library/Mobile Documents/iCloud~md~obsidian/Documents/MemorisiCloud/Projets/Utero/demos/DifferentiationTest.ipynb:7"
     ]
    }
   ],
   "source": [
    "A = rand(2,2)\n",
    "X = rand(100, 2)\n",
    "Y = mapslices(v -> (A * v), X, dims=(2))\n",
    "\n",
    "\n",
    "println(A)\n",
    "println((w1 * w2 * w3).val)\n",
    "\n",
    "for (x, y) in zip(eachrow(X), eachrow(Y))\n",
    "    x = vec(x); y = vec(y)\n",
    "    grads = Utero.GetGradient(x -> Utero.mse(*(w3, *(w2, *(w1, x))), y), x, Parameters)\n",
    "    Utero.GradientStep(0.01, Parameters, grads)\n",
    "end\n",
    "\n",
    "println(\"Now, they should match\")\n",
    "println(A)\n",
    "println((w1 * w2 * w3).val)"
   ]
  }
 ],
 "metadata": {
  "kernelspec": {
   "display_name": "Julia 1.9.1",
   "language": "julia",
   "name": "julia-1.9"
  },
  "language_info": {
   "file_extension": ".jl",
   "mimetype": "application/julia",
   "name": "julia",
   "version": "1.9.1"
  }
 },
 "nbformat": 4,
 "nbformat_minor": 2
}
