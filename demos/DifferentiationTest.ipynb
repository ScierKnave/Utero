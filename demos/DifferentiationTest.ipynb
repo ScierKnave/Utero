{
 "cells": [
  {
   "cell_type": "code",
   "execution_count": 1,
   "metadata": {},
   "outputs": [
    {
     "name": "stdout",
     "output_type": "stream",
     "text": [
      "KahnTopoSort(Nodes, Edges) = Any[1, 2, 3, 4, 5]\n"
     ]
    }
   ],
   "source": [
    "include(\"../src/Utero.jl\")\n",
    "using .Utero\n"
   ]
  },
  {
   "cell_type": "markdown",
   "metadata": {},
   "source": [
    "# Differentiation for Scalar Parameters"
   ]
  },
  {
   "cell_type": "code",
   "execution_count": 2,
   "metadata": {},
   "outputs": [
    {
     "name": "stdout",
     "output_type": "stream",
     "text": [
      "IdDict{Any, Any}(1 => 56.20829561241092)\n",
      "IdDict{Any, Any}(1 => -0.26237485370392877)\n"
     ]
    },
    {
     "name": "stdout",
     "output_type": "stream",
     "text": [
      "IdDict{Any, Any}(2 => 3.0428042273213602, 1 => 27.53002464314667)\n"
     ]
    }
   ],
   "source": [
    "Params = IdDict()\n",
    "w = Utero.Tracked(7.0, Params)\n",
    "grads = Utero.GetGradient(x -> 2 * (((2*w + x) - w) * w) + sin(w^2), 12.0, Params) \n",
    "# should be approx. 56.21\n",
    "println(grads)\n",
    "\n",
    "Params = IdDict()\n",
    "w = Utero.Tracked(25.0, Params)\n",
    "grads = Utero.GetGradient(_ -> sin(w)^2, nothing, Params) \n",
    "# should be approx. -0.26\n",
    "println(grads)\n",
    "\n",
    "Params = IdDict()\n",
    "w1 = Utero.Tracked(13.2, Params); w2 = Utero.Tracked(89, Params)\n",
    "grads = Utero.GetGradient(_ -> (cos(w2)^3 * 4sin(w1))^2 + cos(w1*w2)^2, nothing, Params) \n",
    "# should be approx. (27.53, 3.0428)\n",
    "println(grads)\n"
   ]
  },
  {
   "cell_type": "markdown",
   "metadata": {},
   "source": [
    "# Differentiation for Tensor Parameters"
   ]
  },
  {
   "cell_type": "code",
   "execution_count": 3,
   "metadata": {},
   "outputs": [
    {
     "data": {
      "text/plain": [
       "IdDict{Any, Any} with 3 entries:\n",
       "  2 => [0.0898584 0.0455261; 0.3949 0.200073]\n",
       "  3 => [0.444011 0.336339; 0.29697 0.224955]\n",
       "  1 => [0.0871254 0.193988; 0.0575244 0.12808]"
      ]
     },
     "metadata": {},
     "output_type": "display_data"
    }
   ],
   "source": [
    "\n",
    "Parameters = IdDict()\n",
    "w1 = Utero.Tracked(rand(2, 2), Parameters)\n",
    "w2 = Utero.Tracked(rand(2, 2), Parameters)\n",
    "w3 = Utero.Tracked(rand(2, 2), Parameters)\n",
    "\n",
    "grads = Utero.GetGradient(x -> prod(*(w3, *(w2, *(w1, x)))), rand(2,1), Parameters)"
   ]
  },
  {
   "cell_type": "markdown",
   "metadata": {},
   "source": [
    "The product of the parameter matrices should match A."
   ]
  },
  {
   "cell_type": "code",
   "execution_count": 4,
   "metadata": {},
   "outputs": [
    {
     "name": "stdout",
     "output_type": "stream",
     "text": [
      "[0.164461776609364 0.6123083247301035; 0.893759602722423 0.07679111776713254]\n",
      "[0.08070426556626836 0.18126004589428266; 0.341833789425966 0.7914596531695672]\n",
      "Now, they should match\n"
     ]
    },
    {
     "ename": "UndefVarError",
     "evalue": "UndefVarError: `mse` not defined",
     "output_type": "error",
     "traceback": [
      "UndefVarError: `mse` not defined\n",
      "\n",
      "Stacktrace:\n",
      " [1] (::var\"#21#22\")(x::SubArray{Float64, 1, Matrix{Float64}, Tuple{Int64, Base.Slice{Base.OneTo{Int64}}}, true})\n",
      "   @ Main ~/Library/Mobile Documents/iCloud~md~obsidian/Documents/MemorisiCloud/Projets/Programmation Automne 2023/Utero/demos/DifferentiationTest.ipynb:12\n",
      " [2] #invokelatest#2\n",
      "   @ ./essentials.jl:816 [inlined]\n",
      " [3] invokelatest\n",
      "   @ ./essentials.jl:813 [inlined]\n",
      " [4] ForwProp(f::Function, x::SubArray{Float64, 1, Matrix{Float64}, Tuple{Int64, Base.Slice{Base.OneTo{Int64}}}, true}, ParameterIDs::Set{Any})\n",
      "   @ Main.Utero ~/Library/Mobile Documents/iCloud~md~obsidian/Documents/MemorisiCloud/Projets/Programmation Automne 2023/Utero/src/AutoDiffTracker/Propagation.jl:93\n",
      " [5] GetGradient(f::Function, x::SubArray{Float64, 1, Matrix{Float64}, Tuple{Int64, Base.Slice{Base.OneTo{Int64}}}, true}, Parameters::IdDict{Any, Any})\n",
      "   @ Main.Utero ~/Library/Mobile Documents/iCloud~md~obsidian/Documents/MemorisiCloud/Projets/Programmation Automne 2023/Utero/src/AutoDiffTracker/Propagation.jl:133\n",
      " [6] top-level scope\n",
      "   @ ~/Library/Mobile Documents/iCloud~md~obsidian/Documents/MemorisiCloud/Projets/Programmation Automne 2023/Utero/demos/DifferentiationTest.ipynb:12"
     ]
    }
   ],
   "source": [
    "A = rand(2,2)\n",
    "X = rand(100, 2)\n",
    "Y = mapslices(v -> (A * v), X, dims=(2))\n",
    "\n",
    "\n",
    "println(A)\n",
    "println((w1 * w2 * w3).val)\n",
    "\n",
    "for (x, y) in zip(eachrow(X), eachrow(Y))\n",
    "    x = vec(x); y = vec(y)\n",
    "    grads = Utero.GetGradient(x -> Utero.mse(*(w3, *(w2, *(w1, x))), y), x, Parameters)\n",
    "    Utero.GradientStep(0.01, Parameters, grads)\n",
    "end\n",
    "\n",
    "println(\"Now, they should match\")\n",
    "println(A)\n",
    "println((w1 * w2 * w3).val)"
   ]
  }
 ],
 "metadata": {
  "kernelspec": {
   "display_name": "Julia 1.9.1",
   "language": "julia",
   "name": "julia-1.9"
  },
  "language_info": {
   "file_extension": ".jl",
   "mimetype": "application/julia",
   "name": "julia",
   "version": "1.9.1"
  }
 },
 "nbformat": 4,
 "nbformat_minor": 2
}
