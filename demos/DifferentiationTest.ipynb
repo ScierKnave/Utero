{
 "cells": [
  {
   "cell_type": "code",
   "execution_count": 1,
   "metadata": {},
   "outputs": [],
   "source": [
    "include(\"../src/Utero.jl\")\n",
    "using .Utero"
   ]
  },
  {
   "cell_type": "code",
   "execution_count": 2,
   "metadata": {},
   "outputs": [
    {
     "name": "stdout",
     "output_type": "stream",
     "text": [
      "⬅ctx.Gradients = Dict{Any, Any}(Main.Utero.var\"#1#2\"() => 1.0)\n",
      "⬅ctx.Gradients = Dict{Any, Any}(Main.Utero.var\"#1#2\"() => 2.0)\n",
      "⬅ctx.Gradients = Dict{Any, Any}(Main.Utero.var\"#1#2\"() => 4.0)\n",
      "⬅ctx.Gradients = Dict{Any, Any}(Main.Utero.var\"#1#2\"() => 56.0)\n"
     ]
    },
    {
     "data": {
      "text/plain": [
       "Dict{Any, Any} with 1 entry:\n",
       "  #1 => 784.0"
      ]
     },
     "metadata": {},
     "output_type": "display_data"
    }
   ],
   "source": [
    "x = Utero.Tracker(7.0)\n",
    "Utero.ForwardBackward(x -> x*x + x, x)"
   ]
  },
  {
   "cell_type": "code",
   "execution_count": 9,
   "metadata": {},
   "outputs": [
    {
     "ename": "MethodError",
     "evalue": "MethodError: no method matching ^(::Main.Utero.Tracker{Float64}, ::Int64)\n\nClosest candidates are:\n  ^(!Matched::Union{AbstractChar, AbstractString}, ::Integer)\n   @ Base strings/basic.jl:733\n  ^(!Matched::Complex{<:AbstractFloat}, ::Integer)\n   @ Base complex.jl:869\n  ^(!Matched::Complex{<:Integer}, ::Integer)\n   @ Base complex.jl:871\n  ...\n",
     "output_type": "error",
     "traceback": [
      "MethodError: no method matching ^(::Main.Utero.Tracker{Float64}, ::Int64)\n",
      "\n",
      "Closest candidates are:\n",
      "  ^(!Matched::Union{AbstractChar, AbstractString}, ::Integer)\n",
      "   @ Base strings/basic.jl:733\n",
      "  ^(!Matched::Complex{<:AbstractFloat}, ::Integer)\n",
      "   @ Base complex.jl:869\n",
      "  ^(!Matched::Complex{<:Integer}, ::Integer)\n",
      "   @ Base complex.jl:871\n",
      "  ...\n",
      "\n",
      "\n",
      "Stacktrace:\n",
      " [1] literal_pow\n",
      "   @ ./intfuncs.jl:338 [inlined]\n",
      " [2] (::var\"#21#22\")(x::Main.Utero.Tracker{Float64})\n",
      "   @ Main ~/Library/Mobile Documents/iCloud~md~obsidian/Documents/MemorisiCloud/Projets/Utero/demos/DifferentiationTest.ipynb:2\n",
      " [3] ForwardBackward(f::var\"#21#22\", x::Main.Utero.Tracker{Float64})\n",
      "   @ Main.Utero ~/Library/Mobile Documents/iCloud~md~obsidian/Documents/MemorisiCloud/Projets/Utero/src/AutoDiffByDual/ReverseModeAD.jl:17\n",
      " [4] top-level scope\n",
      "   @ ~/Library/Mobile Documents/iCloud~md~obsidian/Documents/MemorisiCloud/Projets/Utero/demos/DifferentiationTest.ipynb:2"
     ]
    }
   ],
   "source": [
    "# should be 42\n",
    "Utero.ForwardBackward(x -> x^2.0 + x^2.0 + x*x, Utero.Tracker(7.0)) "
   ]
  },
  {
   "cell_type": "code",
   "execution_count": 4,
   "metadata": {},
   "outputs": [
    {
     "ename": "UndefVarError",
     "evalue": "UndefVarError: `Param` not defined",
     "output_type": "error",
     "traceback": [
      "UndefVarError: `Param` not defined\n",
      "\n",
      "Stacktrace:\n",
      " [1] getproperty(x::Module, f::Symbol)\n",
      "   @ Base ./Base.jl:31\n",
      " [2] top-level scope\n",
      "   @ ~/Library/Mobile Documents/iCloud~md~obsidian/Documents/MemorisiCloud/Projets/Utero/demos/DifferentiationTest.ipynb:2"
     ]
    }
   ],
   "source": [
    "# Gradient should be 56.21\n",
    "Utero.ForwardBackward(w -> 2.0 * (((2.0*w + 12.0) - w) * w) + sin(w^2.0), Utero.Param(7.0, 33))"
   ]
  },
  {
   "cell_type": "markdown",
   "metadata": {},
   "source": [
    "# Differentiation for Scalar Parameters"
   ]
  },
  {
   "cell_type": "code",
   "execution_count": 5,
   "metadata": {},
   "outputs": [
    {
     "ename": "UndefVarError",
     "evalue": "UndefVarError: `Tracked` not defined",
     "output_type": "error",
     "traceback": [
      "UndefVarError: `Tracked` not defined\n",
      "\n",
      "Stacktrace:\n",
      " [1] getproperty(x::Module, f::Symbol)\n",
      "   @ Base ./Base.jl:31\n",
      " [2] top-level scope\n",
      "   @ ~/Library/Mobile Documents/iCloud~md~obsidian/Documents/MemorisiCloud/Projets/Utero/demos/DifferentiationTest.ipynb:4"
     ]
    }
   ],
   "source": [
    "x = 12 # treated as constant \n",
    "\n",
    "Params = IdDict()\n",
    "w = Utero.Tracked(7.0, Params)\n",
    "grads = Utero.GetGradient(_ -> 2 * (((2*w + x) - w) * w) + sin(w^2), Params) \n",
    "# should be approx. 56.21\n",
    "println(grads)\n",
    "\n",
    "Params = IdDict()\n",
    "w = Utero.Tracked(25.0, Params)\n",
    "grads = Utero.GetGradient(_ -> sin(w)^2, Params)\n",
    "# should be approx. -0.26\n",
    "println(grads)\n",
    "\n",
    "Params = IdDict()\n",
    "w1 = Utero.Tracked(13.2, Params); w2 = Utero.Tracked(89.0, Params)\n",
    "grads = Utero.GetGradient(_ -> (cos(w2)^3 * 4sin(w1))^2 + cos(w1*w2)^2, Params) \n",
    "# should be approx. (27.53, 3.0428)\n",
    "println(grads)\n"
   ]
  },
  {
   "cell_type": "markdown",
   "metadata": {},
   "source": [
    "# Differentiation for Tensor Parameters"
   ]
  },
  {
   "cell_type": "code",
   "execution_count": 6,
   "metadata": {},
   "outputs": [
    {
     "ename": "UndefVarError",
     "evalue": "UndefVarError: `Tracked` not defined",
     "output_type": "error",
     "traceback": [
      "UndefVarError: `Tracked` not defined\n",
      "\n",
      "Stacktrace:\n",
      " [1] getproperty(x::Module, f::Symbol)\n",
      "   @ Base ./Base.jl:31\n",
      " [2] top-level scope\n",
      "   @ ~/Library/Mobile Documents/iCloud~md~obsidian/Documents/MemorisiCloud/Projets/Utero/demos/DifferentiationTest.ipynb:3"
     ]
    }
   ],
   "source": [
    "\n",
    "Parameters = IdDict()\n",
    "w1 = Utero.Tracked(rand(2, 2), Parameters)\n",
    "w2 = Utero.Tracked(rand(2, 2), Parameters)\n",
    "w3 = Utero.Tracked(rand(2, 2), Parameters)\n",
    "\n",
    "grads = Utero.GetGradient(x -> prod(*(w3, *(w2, *(w1, x)))), rand(2,1), Parameters)"
   ]
  },
  {
   "cell_type": "markdown",
   "metadata": {},
   "source": [
    "The product of the parameter matrices should match A."
   ]
  },
  {
   "cell_type": "code",
   "execution_count": 7,
   "metadata": {},
   "outputs": [
    {
     "name": "stdout",
     "output_type": "stream",
     "text": [
      "[0.5084750306343131 0.3176377626012572; 0.4016571699839002 0.3903676152040998]\n"
     ]
    },
    {
     "ename": "UndefVarError",
     "evalue": "UndefVarError: `w1` not defined",
     "output_type": "error",
     "traceback": [
      "UndefVarError: `w1` not defined\n",
      "\n",
      "Stacktrace:\n",
      " [1] top-level scope\n",
      "   @ ~/Library/Mobile Documents/iCloud~md~obsidian/Documents/MemorisiCloud/Projets/Utero/demos/DifferentiationTest.ipynb:7"
     ]
    }
   ],
   "source": [
    "A = rand(2,2)\n",
    "X = rand(100, 2)\n",
    "Y = mapslices(v -> (A * v), X, dims=(2))\n",
    "\n",
    "\n",
    "println(A)\n",
    "println((w1 * w2 * w3).val)\n",
    "\n",
    "for (x, y) in zip(eachrow(X), eachrow(Y))\n",
    "    x = vec(x); y = vec(y)\n",
    "    grads = Utero.GetGradient(x -> Utero.mse(*(w3, *(w2, *(w1, x))), y), x, Parameters)\n",
    "    Utero.GradientStep(0.01, Parameters, grads)\n",
    "end\n",
    "\n",
    "println(\"Now, they should match\")\n",
    "println(A)\n",
    "println((w1 * w2 * w3).val)"
   ]
  }
 ],
 "metadata": {
  "kernelspec": {
   "display_name": "Julia 1.9.1",
   "language": "julia",
   "name": "julia-1.9"
  },
  "language_info": {
   "file_extension": ".jl",
   "mimetype": "application/julia",
   "name": "julia",
   "version": "1.9.1"
  }
 },
 "nbformat": 4,
 "nbformat_minor": 2
}
