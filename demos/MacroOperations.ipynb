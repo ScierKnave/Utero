{
 "cells": [
  {
   "cell_type": "code",
   "execution_count": 1,
   "metadata": {},
   "outputs": [
    {
     "data": {
      "text/plain": [
       "@add_dual_scalar (macro with 1 method)"
      ]
     },
     "metadata": {},
     "output_type": "display_data"
    }
   ],
   "source": [
    "macro add_dual_scalar(de)\n",
    "    return :(\n",
    "        function $de(x, y)\n",
    "            return y^2\n",
    "        end\n",
    "    )\n",
    "end"
   ]
  },
  {
   "cell_type": "code",
   "execution_count": 2,
   "metadata": {},
   "outputs": [
    {
     "data": {
      "text/plain": [
       "9"
      ]
     },
     "metadata": {},
     "output_type": "display_data"
    }
   ],
   "source": [
    "@add_dual_scalar mold\n",
    "\n",
    "mold(2, 3)"
   ]
  },
  {
   "cell_type": "code",
   "execution_count": 3,
   "metadata": {},
   "outputs": [
    {
     "data": {
      "text/plain": [
       "3.4"
      ]
     },
     "metadata": {},
     "output_type": "display_data"
    }
   ],
   "source": [
    "macro add_dual_scalars(de)\n",
    "    return :(\n",
    "        function $de(arg, y)\n",
    "            return arg\n",
    "        end\n",
    "    )\n",
    "end\n",
    "\n",
    "@add_dual_scalars bud\n",
    "\n",
    "bud(3.4, 3)"
   ]
  },
  {
   "cell_type": "code",
   "execution_count": 6,
   "metadata": {},
   "outputs": [
    {
     "name": "stdout",
     "output_type": "stream",
     "text": [
      "daisy(1)\n",
      "daisy(1)\n",
      "daisy(1)\n",
      "daisy(1)\n",
      "2\n",
      "3\n",
      "3\n",
      "4\n",
      "5\n"
     ]
    }
   ],
   "source": [
    "struct daisy\n",
    "    x\n",
    "end\n",
    "foo(X::Vararg{Union{Number, daisy}})\n",
    "\n",
    "function foo(X::Vararg{Union{Number, daisy}})\n",
    "    for x in X println(x) end\n",
    "end\n",
    "\n",
    "foo(daisy(1), daisy(1), daisy(1))\n",
    "foo(daisy(1), 2, 3)\n",
    "foo(3, 4, 5)"
   ]
  },
  {
   "cell_type": "code",
   "execution_count": 5,
   "metadata": {},
   "outputs": [
    {
     "ename": "MethodError",
     "evalue": "MethodError: no method matching g(::daisy, ::Int64)\n\nClosest candidates are:\n  g(::daisy, !Matched::daisy)\n   @ Main ~/Library/Mobile Documents/iCloud~md~obsidian/Documents/MemorisiCloud/🛠️ Projets/Utero/demos/MacroOperations.ipynb:5\n",
     "output_type": "error",
     "traceback": [
      "MethodError: no method matching g(::daisy, ::Int64)\n",
      "\n",
      "Closest candidates are:\n",
      "  g(::daisy, !Matched::daisy)\n",
      "   @ Main ~/Library/Mobile Documents/iCloud~md~obsidian/Documents/MemorisiCloud/🛠️ Projets/Utero/demos/MacroOperations.ipynb:5\n",
      "\n",
      "\n",
      "Stacktrace:\n",
      " [1] top-level scope\n",
      "   @ ~/Library/Mobile Documents/iCloud~md~obsidian/Documents/MemorisiCloud/🛠️ Projets/Utero/demos/MacroOperations.ipynb:10"
     ]
    }
   ],
   "source": [
    "struct daisy\n",
    "    x\n",
    "end\n",
    "\n",
    "g(x::daisy, y::daisy) = 22\n",
    "convert(x::daisy, y::Any) = daisy(y)\n",
    "promote_type(::daisy, ::Int64) = daisy\n",
    "promote_rule(::daisy, ::Int64) = daisy\n",
    "\n",
    "g(daisy(7), 7)"
   ]
  }
 ],
 "metadata": {
  "kernelspec": {
   "display_name": "Julia 1.9.1",
   "language": "julia",
   "name": "julia-1.9"
  },
  "language_info": {
   "file_extension": ".jl",
   "mimetype": "application/julia",
   "name": "julia",
   "version": "1.9.1"
  }
 },
 "nbformat": 4,
 "nbformat_minor": 2
}
