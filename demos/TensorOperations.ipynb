{
 "cells": [
  {
   "cell_type": "code",
   "execution_count": 4,
   "metadata": {},
   "outputs": [
    {
     "name": "stdout",
     "output_type": "stream",
     "text": [
      "C = A .+ B = [1.1941458574981918 0.4967231569550731; 0.9462008766466546 0.7343432814110816]\n",
      "A = [0.7201205838366342 0.3360554382813774; 0.8273639827174684 0.23364271667749448]\n",
      "B = [0.47402527366155756 0.16066771867369567; 0.11883689392918628 0.5007005647335872]\n",
      "cos(A) = "
     ]
    },
    {
     "name": "stdout",
     "output_type": "stream",
     "text": [
      "[0.6373215142253548 -0.1457289670291531; -0.3587827626749767 0.8482805078551137]\n",
      "A * B = [0.3812911412958514 0.28396327910428065; 0.41995681306449445 0.2499157238023096]\n",
      "A[1] * B[1] = 0.34135535682248114\n"
     ]
    },
    {
     "data": {
      "text/plain": [
       "0.34135535682248114"
      ]
     },
     "metadata": {},
     "output_type": "display_data"
    }
   ],
   "source": [
    "using LinearAlgebra\n",
    "\n",
    "A = rand(2,2)\n",
    "B = rand(2,2)\n",
    "\n",
    "@show C = .+(A, B)\n",
    "@show A\n",
    "@show B\n",
    "@show .cos(A)\n",
    "@show *(A, B)\n",
    "@show A[1] * B[1]"
   ]
  },
  {
   "cell_type": "code",
   "execution_count": 2,
   "metadata": {},
   "outputs": [
    {
     "data": {
      "text/plain": [
       "4×4 Diagonal{Float64, Vector{Float64}}:\n",
       " 1.0   ⋅    ⋅    ⋅ \n",
       "  ⋅   1.0   ⋅    ⋅ \n",
       "  ⋅    ⋅   1.0   ⋅ \n",
       "  ⋅    ⋅    ⋅   1.0"
      ]
     },
     "metadata": {},
     "output_type": "display_data"
    }
   ],
   "source": [
    "d1 = Diagonal( ones( prod(size(rand(2,2) ) ) ) )\n",
    "d2 = Diagonal( ones( prod(size(rand(2,2) ) ) ) )\n",
    "d1 * d2"
   ]
  },
  {
   "cell_type": "code",
   "execution_count": 3,
   "metadata": {},
   "outputs": [
    {
     "name": "stdout",
     "output_type": "stream",
     "text": [
      "[0.467884496779857 0.3375756135669782; 0.9781918246517954 0.724610942547524;;; 0.35033928120449476 0.24780000551359316; 0.3123779228591763 0.37993380692391554]"
     ]
    },
    {
     "data": {
      "text/plain": [
       "8×8 Diagonal{Float64, Vector{Float64}}:\n",
       " 0.467884   ⋅         ⋅         ⋅         ⋅         ⋅         ⋅       ⋅ \n",
       "  ⋅        0.978192   ⋅         ⋅         ⋅         ⋅         ⋅       ⋅ \n",
       "  ⋅         ⋅        0.337576   ⋅         ⋅         ⋅         ⋅       ⋅ \n",
       "  ⋅         ⋅         ⋅        0.724611   ⋅         ⋅         ⋅       ⋅ \n",
       "  ⋅         ⋅         ⋅         ⋅        0.350339   ⋅         ⋅       ⋅ \n",
       "  ⋅         ⋅         ⋅         ⋅         ⋅        0.312378   ⋅       ⋅ \n",
       "  ⋅         ⋅         ⋅         ⋅         ⋅         ⋅        0.2478   ⋅ \n",
       "  ⋅         ⋅         ⋅         ⋅         ⋅         ⋅         ⋅      0.379934"
      ]
     },
     "metadata": {},
     "output_type": "display_data"
    }
   ],
   "source": [
    "A = rand(2,2,2)\n",
    "print(A)\n",
    "d1 = Diagonal( reshape(A, prod(size(A))))"
   ]
  }
 ],
 "metadata": {
  "kernelspec": {
   "display_name": "Julia 1.9.1",
   "language": "julia",
   "name": "julia-1.9"
  },
  "language_info": {
   "file_extension": ".jl",
   "mimetype": "application/julia",
   "name": "julia",
   "version": "1.9.1"
  }
 },
 "nbformat": 4,
 "nbformat_minor": 2
}
