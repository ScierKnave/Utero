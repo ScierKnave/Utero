{
 "cells": [
  {
   "cell_type": "code",
   "execution_count": 1,
   "metadata": {},
   "outputs": [
    {
     "name": "stdout",
     "output_type": "stream",
     "text": [
      "A = [0.3750932700261267 0.9525959837670203; 0.8271521435950339 0.8592647565561089]\n",
      "B = [0.009787075508236653 0.5412290003061487; 0.03183001277584219 0.40341776868065515]\n"
     ]
    },
    {
     "ename": "ErrorException",
     "evalue": "syntax: \"*\" is not a unary operator",
     "output_type": "error",
     "traceback": [
      "syntax: \"*\" is not a unary operator\n",
      "\n",
      "Stacktrace:\n",
      " [1] top-level scope\n",
      "   @ ~/Library/Mobile Documents/iCloud~md~obsidian/Documents/MemorisiCloud/Projets/Programmation Automne 2023/Utero/notebooks/TensorOperations.ipynb:9"
     ]
    }
   ],
   "source": [
    "using LinearAlgebra\n",
    "\n",
    "A = rand(2,2)\n",
    "B = rand(2,2)\n",
    "\n",
    "C = A + B\n",
    "@show A\n",
    "@show B\n",
    "@show *.(A, B)\n",
    "@show A[1] * B[1]"
   ]
  },
  {
   "cell_type": "code",
   "execution_count": 2,
   "metadata": {},
   "outputs": [
    {
     "data": {
      "text/plain": [
       "4×4 Diagonal{Float64, Vector{Float64}}:\n",
       " 1.0   ⋅    ⋅    ⋅ \n",
       "  ⋅   1.0   ⋅    ⋅ \n",
       "  ⋅    ⋅   1.0   ⋅ \n",
       "  ⋅    ⋅    ⋅   1.0"
      ]
     },
     "metadata": {},
     "output_type": "display_data"
    }
   ],
   "source": [
    "d1 = Diagonal( ones( prod(size(rand(2,2) ) ) ) )\n",
    "d2 = Diagonal( ones( prod(size(rand(2,2) ) ) ) )\n",
    "d1 * d2"
   ]
  },
  {
   "cell_type": "code",
   "execution_count": 8,
   "metadata": {},
   "outputs": [
    {
     "name": "stdout",
     "output_type": "stream",
     "text": [
      "[0.12839609390202544 0.9158471110316202; 0.6929251799271678 0.5129979675751858;;; 0.6302113030395289 0.5596683960515333; 0.18751211769279075 0.5184765542600261]"
     ]
    },
    {
     "data": {
      "text/plain": [
       "8×8 Diagonal{Float64, Vector{Float64}}:\n",
       " 0.128396   ⋅         ⋅         ⋅        …   ⋅         ⋅         ⋅ \n",
       "  ⋅        0.692925   ⋅         ⋅            ⋅         ⋅         ⋅ \n",
       "  ⋅         ⋅        0.915847   ⋅            ⋅         ⋅         ⋅ \n",
       "  ⋅         ⋅         ⋅        0.512998      ⋅         ⋅         ⋅ \n",
       "  ⋅         ⋅         ⋅         ⋅            ⋅         ⋅         ⋅ \n",
       "  ⋅         ⋅         ⋅         ⋅        …  0.187512   ⋅         ⋅ \n",
       "  ⋅         ⋅         ⋅         ⋅            ⋅        0.559668   ⋅ \n",
       "  ⋅         ⋅         ⋅         ⋅            ⋅         ⋅        0.518477"
      ]
     },
     "metadata": {},
     "output_type": "display_data"
    }
   ],
   "source": [
    "A = rand(2,2,2)\n",
    "print(A)\n",
    "d1 = Diagonal( reshape(A, prod(size(A))))"
   ]
  }
 ],
 "metadata": {
  "kernelspec": {
   "display_name": "Julia 1.9.1",
   "language": "julia",
   "name": "julia-1.9"
  },
  "language_info": {
   "file_extension": ".jl",
   "mimetype": "application/julia",
   "name": "julia",
   "version": "1.9.1"
  }
 },
 "nbformat": 4,
 "nbformat_minor": 2
}
