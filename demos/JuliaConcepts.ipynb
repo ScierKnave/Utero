{
 "cells": [
  {
   "cell_type": "code",
   "execution_count": 1,
   "metadata": {},
   "outputs": [
    {
     "data": {
      "text/plain": [
       "Main.Deeplib"
      ]
     },
     "metadata": {},
     "output_type": "display_data"
    }
   ],
   "source": [
    "include(\"../src/Deeplib.jl\")\n",
    "const dlib = Deeplib"
   ]
  },
  {
   "cell_type": "code",
   "execution_count": 5,
   "metadata": {},
   "outputs": [
    {
     "name": "stdout",
     "output_type": "stream",
     "text": [
      "Main.Deeplib.Dense\n",
      "IdDict{Main.Deeplib.Dense, Tuple{Matrix{Float16}, Vector{Float16}}}(Main.Deeplib.Dense(Float16[0.6206 0.33 0.3037; 0.8154 0.9194 0.316; 0.619 0.8403 0.8184], Float16[0.9214, 0.8096, 0.9624], var\"#23#24\"()) => ([0.6206 0.33 0.3037; 0.8154 0.9194 0.316; 0.619 0.8403 0.8184], [0.9214, 0.8096, 0.9624]), Main.Deeplib.Dense(Float16[0.6 0.7876 0.0791; 0.2734 0.7583 0.7266; 0.481 0.1875 0.3574], Float16[0.4468, 0.09717, 0.642], var\"#25#26\"()) => ([0.6 0.7876 0.0791; 0.2734 0.7583 0.7266; 0.481 0.1875 0.3574], [0.4468, 0.09717, 0.642]))\n",
      "(Float16[0.6206 0.33 0.3037; 0.8154 0.9194 0.316; 0.619 0.8403 0.8184], Float16[0.9214, 0.8096, 0.9624])\n",
      "(Float16[0.6 0.7876 0.0791; 0.2734 0.7583 0.7266; 0.481 0.1875 0.3574], Float16[0.4468, 0.09717, 0.642])\n",
      "IdDict{Any, Any}(Float16[0.6206 0.33 0.3037; 0.8154 0.9194 0.316; 0.619 0.8403 0.8184] => 2, var\"#23#24\"() => 2, Float16[0.9214, 0.8096, 0.9624] => 2)\n",
      "2\n"
     ]
    }
   ],
   "source": [
    "# Julia can handle object identity in a dictionnary (IdDict)\n",
    "# this will be used to handle the model parameters and gradients values\n",
    "d1 = dlib.Dense(3, 3, x->x)\n",
    "d2 = dlib.Dense(3, 3, x->x)\n",
    "d3 = dlib.Dense(3, 3, x->x)\n",
    "println(typeof(d1))\n",
    "\n",
    "iddict = IdDict(d1=>(d1.w, d1.b), d2=>(d2.w, d2.b))\n",
    "println(iddict)\n",
    "println(iddict[d1])\n",
    "println(iddict[d2])\n",
    "dict = dlib.GetJacoDict(d1)\n",
    "println(dict)\n",
    "println(dict[d1.w])"
   ]
  },
  {
   "cell_type": "code",
   "execution_count": 3,
   "metadata": {},
   "outputs": [
    {
     "name": "stdout",
     "output_type": "stream",
     "text": [
      "ComposedFunction{Main.Deeplib.Dense, Main.Deeplib.Dense}\n",
      "ComposedFunction{ComposedFunction{Main.Deeplib.Dense, Main.Deeplib.Dense}, Main.Deeplib.Dense}\n",
      "ComposedFunction{ComposedFunction{Main.Deeplib.Dense, Main.Deeplib.Dense}, Main.Deeplib.Dense}\n",
      "typeof(c)\n",
      "typeof(g)\n",
      "false\n"
     ]
    }
   ],
   "source": [
    "# gives hints on how to pattern match \n",
    "f = d1 ∘ d2\n",
    "println(typeof(f))\n",
    "f = d1 ∘ d2 ∘ d3\n",
    "println(typeof(f))\n",
    "\n",
    "# nesting\n",
    "function c()\n",
    "    f = d1 ∘ d2 ∘ d3\n",
    "    println(typeof(f))\n",
    "    return f\n",
    "end\n",
    "c()\n",
    "println(typeof(c))\n",
    "\n",
    "g(x) = d1(d2(x))\n",
    "\n",
    "# they are not equal. each function has its on type\n",
    "println(typeof(g))\n",
    "println( typeof( g ) === typeof( d1 ∘ d2 ) )\n",
    "\n",
    "# this means that AutoDiff must pattern match on operations, not on \n",
    "# high level layers application"
   ]
  },
  {
   "cell_type": "code",
   "execution_count": 4,
   "metadata": {},
   "outputs": [
    {
     "data": {
      "text/plain": [
       "Main.Deeplib.Dense(Float16[0.9775 0.773 0.08984; 0.6343 0.05762 0.2607; 0.0923 0.635 0.972], Float16[0.2144, 0.4492, 0.483], var\"#21#22\"())"
      ]
     },
     "metadata": {},
     "output_type": "display_data"
    }
   ],
   "source": [
    "import Base.*\n",
    "\n",
    "# dual pattern matching \n",
    "d1 = dlib.Dense(3, 3, x->x)\n",
    "d2 = dlib.Dense(3, 3, x->x)\n",
    "d3 = dlib.Dense(3, 3, x->x)\n",
    "\n",
    "\n"
   ]
  }
 ],
 "metadata": {
  "kernelspec": {
   "display_name": "Julia 1.9.1",
   "language": "julia",
   "name": "julia-1.9"
  },
  "language_info": {
   "file_extension": ".jl",
   "mimetype": "application/julia",
   "name": "julia",
   "version": "1.9.1"
  },
  "orig_nbformat": 4
 },
 "nbformat": 4,
 "nbformat_minor": 2
}
