{
 "cells": [
  {
   "cell_type": "code",
   "execution_count": 1,
   "metadata": {},
   "outputs": [],
   "source": [
    "include(\"../src/Utero.jl\")\n",
    "using .Utero "
   ]
  },
  {
   "cell_type": "code",
   "execution_count": 2,
   "metadata": {},
   "outputs": [
    {
     "data": {
      "text/plain": [
       "(21.0, Any[3.0])"
      ]
     },
     "metadata": {},
     "output_type": "display_data"
    }
   ],
   "source": [
    "ctx = ⬅Context()\n",
    "ForwardBackward(ctx, x -> 2.0*x + x, Params(ctx, 7.0))"
   ]
  },
  {
   "cell_type": "code",
   "execution_count": 3,
   "metadata": {},
   "outputs": [
    {
     "data": {
      "text/plain": [
       "(20.480000000000004, Any[12.8])"
      ]
     },
     "metadata": {},
     "output_type": "display_data"
    }
   ],
   "source": [
    "# should be 12.8\n",
    "ctx = ⬅Context()\n",
    "ForwardBackward(ctx, x -> x^2.0 + x^2.0, Params(ctx, 3.2)) "
   ]
  },
  {
   "cell_type": "code",
   "execution_count": 4,
   "metadata": {},
   "outputs": [
    {
     "data": {
      "text/plain": [
       "(265.0462473472405, Any[56.20829561241092])"
      ]
     },
     "metadata": {},
     "output_type": "display_data"
    }
   ],
   "source": [
    "# Gradient should be 56.21\n",
    "ctx = Utero.⬅Context()\n",
    "ForwardBackward(ctx, w -> 2.0 * (((2.0*w + 12.0) - w) * w) + sin(w^2.0), Utero.Params(ctx, 7.0))"
   ]
  },
  {
   "cell_type": "code",
   "execution_count": 5,
   "metadata": {},
   "outputs": [
    {
     "data": {
      "text/plain": [
       "(1.0748674472530375, Any[27.53002464314667, 3.0428042273213602])"
      ]
     },
     "metadata": {},
     "output_type": "display_data"
    }
   ],
   "source": [
    "# should be approx. (27.53, 3.0428)\n",
    "ctx = Utero.⬅Context()\n",
    "x, y = Params(ctx, 13.2, 89.0)\n",
    "ForwardBackward(ctx, (x, y) -> (cos(y)^3 * 4sin(x))^2 + cos(x*y)^2, x, y) "
   ]
  },
  {
   "cell_type": "code",
   "execution_count": 6,
   "metadata": {},
   "outputs": [
    {
     "ename": "MethodError",
     "evalue": "MethodError: no method matching Chain(::Array{Float64, 4}, ::Nothing, ::Int64)\n\nClosest candidates are:\n  Chain(::AbstractArray, !Matched::AbstractArray, ::Int64)\n   @ Main.Utero ~/Library/Mobile Documents/iCloud~md~obsidian/Documents/MemorisiCloud/🛠️ Projets/Utero/src/AutoDiff/ReverseDualTens.jl:16\n  Chain(::AbstractArray, !Matched::Real, ::Int64)\n   @ Main.Utero ~/Library/Mobile Documents/iCloud~md~obsidian/Documents/MemorisiCloud/🛠️ Projets/Utero/src/AutoDiff/ReverseDualTens.jl:33\n  Chain(!Matched::Real, !Matched::AbstractArray, ::Int64)\n   @ Main.Utero ~/Library/Mobile Documents/iCloud~md~obsidian/Documents/MemorisiCloud/🛠️ Projets/Utero/src/AutoDiff/ReverseDualTens.jl:39\n",
     "output_type": "error",
     "traceback": [
      "MethodError: no method matching Chain(::Array{Float64, 4}, ::Nothing, ::Int64)\n",
      "\n",
      "Closest candidates are:\n",
      "  Chain(::AbstractArray, !Matched::AbstractArray, ::Int64)\n",
      "   @ Main.Utero ~/Library/Mobile Documents/iCloud~md~obsidian/Documents/MemorisiCloud/🛠️ Projets/Utero/src/AutoDiff/ReverseDualTens.jl:16\n",
      "  Chain(::AbstractArray, !Matched::Real, ::Int64)\n",
      "   @ Main.Utero ~/Library/Mobile Documents/iCloud~md~obsidian/Documents/MemorisiCloud/🛠️ Projets/Utero/src/AutoDiff/ReverseDualTens.jl:33\n",
      "  Chain(!Matched::Real, !Matched::AbstractArray, ::Int64)\n",
      "   @ Main.Utero ~/Library/Mobile Documents/iCloud~md~obsidian/Documents/MemorisiCloud/🛠️ Projets/Utero/src/AutoDiff/ReverseDualTens.jl:39\n",
      "\n",
      "\n",
      "Stacktrace:\n",
      " [1] (::Main.Utero.var\"#78#80\"{Array{Float64, 4}, Matrix{Float64}})(Jzc::Nothing)\n",
      "   @ Main.Utero ~/Library/Mobile Documents/iCloud~md~obsidian/Documents/MemorisiCloud/🛠️ Projets/Utero/src/AutoDiff/ReverseDualTens.jl:98\n",
      " [2] (::Main.Utero.var\"#81#82\"{Main.Utero.var\"#78#80\"{Array{Float64, 4}, Matrix{Float64}}})(∇::Nothing)\n",
      "   @ Main.Utero ~/Library/Mobile Documents/iCloud~md~obsidian/Documents/MemorisiCloud/🛠️ Projets/Utero/src/AutoDiff/ReverseOverloadingUtils.jl:98\n",
      " [3] ⬅ChainStep(ctx::⬅Context, x::Main.Utero.⬅Tracker{Matrix{Float64}})\n",
      "   @ Main.Utero ~/Library/Mobile Documents/iCloud~md~obsidian/Documents/MemorisiCloud/🛠️ Projets/Utero/src/AutoDiff/ReverseModeAD.jl:30\n",
      " [4] ForwardBackward(ctx::⬅Context, f::Function, X::Matrix{Float64})\n",
      "   @ Main.Utero ~/Library/Mobile Documents/iCloud~md~obsidian/Documents/MemorisiCloud/🛠️ Projets/Utero/src/AutoDiff/ReverseModeAD.jl:51\n",
      " [5] top-level scope\n",
      "   @ ~/Library/Mobile Documents/iCloud~md~obsidian/Documents/MemorisiCloud/🛠️ Projets/Utero/demos/ReverseAutoDiffTest.ipynb:3"
     ]
    }
   ],
   "source": [
    "ctx = Utero.⬅Context()\n",
    "W1, W2, W3 = Params(ctx, rand(2,2), rand(2,2), rand(2,2))\n",
    "ForwardBackward(ctx, X -> ReLU(W3 * ReLU(W2 * ReLU(W1 * X))), rand(2,1))"
   ]
  }
 ],
 "metadata": {
  "kernelspec": {
   "display_name": "Julia 1.9.1",
   "language": "julia",
   "name": "julia-1.9"
  },
  "language_info": {
   "file_extension": ".jl",
   "mimetype": "application/julia",
   "name": "julia",
   "version": "1.9.1"
  }
 },
 "nbformat": 4,
 "nbformat_minor": 2
}
