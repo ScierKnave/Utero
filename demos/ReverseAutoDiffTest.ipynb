{
 "cells": [
  {
   "cell_type": "code",
   "execution_count": 1,
   "metadata": {},
   "outputs": [],
   "source": [
    "include(\"../src/Utero.jl\")\n",
    "using .Utero "
   ]
  },
  {
   "cell_type": "code",
   "execution_count": 2,
   "metadata": {},
   "outputs": [
    {
     "data": {
      "text/plain": [
       "(21.0, Any[3.0])"
      ]
     },
     "metadata": {},
     "output_type": "display_data"
    }
   ],
   "source": [
    "ctx = ⬅Context()\n",
    "ForwardBackward(ctx, x -> 2.0*x + x, Params(ctx, 7.0))"
   ]
  },
  {
   "cell_type": "code",
   "execution_count": 3,
   "metadata": {},
   "outputs": [
    {
     "data": {
      "text/plain": [
       "(20.480000000000004, Any[12.8])"
      ]
     },
     "metadata": {},
     "output_type": "display_data"
    }
   ],
   "source": [
    "# should be 42\n",
    "ctx = ⬅Context()\n",
    "ForwardBackward(ctx, x -> x^2.0 + x^2.0, Params(ctx, 3.2)) "
   ]
  },
  {
   "cell_type": "code",
   "execution_count": 4,
   "metadata": {},
   "outputs": [
    {
     "data": {
      "text/plain": [
       "(265.0462473472405, Any[56.20829561241092])"
      ]
     },
     "metadata": {},
     "output_type": "display_data"
    }
   ],
   "source": [
    "# Gradient should be 56.21\n",
    "ctx = Utero.⬅Context()\n",
    "ForwardBackward(ctx, w -> 2.0 * (((2.0*w + 12.0) - w) * w) + sin(w^2.0), Utero.Params(ctx, 7.0))"
   ]
  },
  {
   "cell_type": "code",
   "execution_count": 5,
   "metadata": {},
   "outputs": [
    {
     "data": {
      "text/plain": [
       "(1.0748674472530375, Any[27.53002464314667, 3.0428042273213602])"
      ]
     },
     "metadata": {},
     "output_type": "display_data"
    }
   ],
   "source": [
    "# should be approx. (27.53, 3.0428)\n",
    "ctx = Utero.⬅Context()\n",
    "x, y = Params(ctx, 13.2, 89.0)\n",
    "ForwardBackward(ctx, (x, y) -> (cos(y)^3 * 4sin(x))^2 + cos(x*y)^2, x, y) "
   ]
  },
  {
   "cell_type": "code",
   "execution_count": 7,
   "metadata": {},
   "outputs": [
    {
     "ename": "MethodError",
     "evalue": "MethodError: no method matching *(::Main.Utero.⬅Tracker{Matrix{Float64}}, ::Matrix{Float64})\n\nClosest candidates are:\n  *(::Any, ::Any, !Matched::Any, !Matched::Any...)\n   @ Base operators.jl:578\n  *(!Matched::Union{LinearAlgebra.Adjoint{var\"#s971\", <:StridedMatrix{T} where T}, LinearAlgebra.Transpose{var\"#s971\", <:StridedMatrix{T} where T}, StridedMatrix{var\"#s971\"}} where var\"#s971\"<:Union{Float32, Float64}, ::Union{LinearAlgebra.Adjoint{var\"#s970\", <:StridedMatrix{T} where T}, LinearAlgebra.Transpose{var\"#s970\", <:StridedMatrix{T} where T}, StridedMatrix{var\"#s970\"}} where var\"#s970\"<:Union{Float32, Float64})\n   @ LinearAlgebra /Applications/Julia-1.9.app/Contents/Resources/julia/share/julia/stdlib/v1.9/LinearAlgebra/src/matmul.jl:146\n  *(!Matched::StridedMatrix{var\"#s971\"} where var\"#s971\"<:Union{ComplexF32, ComplexF64}, ::Union{LinearAlgebra.Adjoint{var\"#s970\", <:StridedMatrix{T} where T}, LinearAlgebra.Transpose{var\"#s970\", <:StridedMatrix{T} where T}, StridedMatrix{var\"#s970\"}} where var\"#s970\"<:Union{Float32, Float64})\n   @ LinearAlgebra /Applications/Julia-1.9.app/Contents/Resources/julia/share/julia/stdlib/v1.9/LinearAlgebra/src/matmul.jl:165\n  ...\n",
     "output_type": "error",
     "traceback": [
      "MethodError: no method matching *(::Main.Utero.⬅Tracker{Matrix{Float64}}, ::Matrix{Float64})\n",
      "\n",
      "Closest candidates are:\n",
      "  *(::Any, ::Any, !Matched::Any, !Matched::Any...)\n",
      "   @ Base operators.jl:578\n",
      "  *(!Matched::Union{LinearAlgebra.Adjoint{var\"#s971\", <:StridedMatrix{T} where T}, LinearAlgebra.Transpose{var\"#s971\", <:StridedMatrix{T} where T}, StridedMatrix{var\"#s971\"}} where var\"#s971\"<:Union{Float32, Float64}, ::Union{LinearAlgebra.Adjoint{var\"#s970\", <:StridedMatrix{T} where T}, LinearAlgebra.Transpose{var\"#s970\", <:StridedMatrix{T} where T}, StridedMatrix{var\"#s970\"}} where var\"#s970\"<:Union{Float32, Float64})\n",
      "   @ LinearAlgebra /Applications/Julia-1.9.app/Contents/Resources/julia/share/julia/stdlib/v1.9/LinearAlgebra/src/matmul.jl:146\n",
      "  *(!Matched::StridedMatrix{var\"#s971\"} where var\"#s971\"<:Union{ComplexF32, ComplexF64}, ::Union{LinearAlgebra.Adjoint{var\"#s970\", <:StridedMatrix{T} where T}, LinearAlgebra.Transpose{var\"#s970\", <:StridedMatrix{T} where T}, StridedMatrix{var\"#s970\"}} where var\"#s970\"<:Union{Float32, Float64})\n",
      "   @ LinearAlgebra /Applications/Julia-1.9.app/Contents/Resources/julia/share/julia/stdlib/v1.9/LinearAlgebra/src/matmul.jl:165\n",
      "  ...\n",
      "\n",
      "\n",
      "Stacktrace:\n",
      " [1] (::var\"#21#22\")(X::Matrix{Float64})\n",
      "   @ Main ~/Library/Mobile Documents/iCloud~md~obsidian/Documents/MemorisiCloud/Projets/Utero/demos/ReverseAutoDiffTest.ipynb:3\n",
      " [2] ForwardBackward(ctx::⬅Context, f::Function, X::Matrix{Float64})\n",
      "   @ Main.Utero ~/Library/Mobile Documents/iCloud~md~obsidian/Documents/MemorisiCloud/Projets/Utero/src/AutoDiff/ReverseModeAD.jl:47\n",
      " [3] top-level scope\n",
      "   @ ~/Library/Mobile Documents/iCloud~md~obsidian/Documents/MemorisiCloud/Projets/Utero/demos/ReverseAutoDiffTest.ipynb:3"
     ]
    }
   ],
   "source": [
    "ctx = Utero.⬅Context()\n",
    "W1, W2, W3 = Params(ctx, rand(2,2), rand(2,2), rand(2,2))\n",
    "ForwardBackward(ctx, X -> RelU(W2 * ReLU(W1 * X)), rand(2,1))"
   ]
  }
 ],
 "metadata": {
  "kernelspec": {
   "display_name": "Julia 1.9.1",
   "language": "julia",
   "name": "julia-1.9"
  },
  "language_info": {
   "file_extension": ".jl",
   "mimetype": "application/julia",
   "name": "julia",
   "version": "1.9.1"
  }
 },
 "nbformat": 4,
 "nbformat_minor": 2
}
