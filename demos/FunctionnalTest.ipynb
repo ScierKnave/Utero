{
 "cells": [
  {
   "cell_type": "code",
   "execution_count": 3,
   "metadata": {},
   "outputs": [
    {
     "ename": "StackOverflowError",
     "evalue": "StackOverflowError:",
     "output_type": "error",
     "traceback": [
      "StackOverflowError:\n",
      "\n",
      "Stacktrace:\n",
      " [1] f(x::Int64)\n",
      "   @ Main ~/Library/Mobile Documents/iCloud~md~obsidian/Documents/MemorisiCloud/Projets/Utero/demos/FunctionnalTest.ipynb:4\n",
      " [2] macro expansion\n",
      "   @ ~/Library/Mobile Documents/iCloud~md~obsidian/Documents/MemorisiCloud/Projets/Utero/demos/FunctionnalTest.ipynb:0 [inlined]\n",
      " [3] f(x::Int64)\n",
      "   @ Main ~/Library/Mobile Documents/iCloud~md~obsidian/Documents/MemorisiCloud/Projets/Utero/demos/FunctionnalTest.ipynb:4"
     ]
    }
   ],
   "source": [
    "f(x) = x+2\n",
    "\n",
    "λ = x -> 2 + f(x)\n",
    "@generated function f(x)\n",
    "    return f(x)\n",
    "end\n",
    "x = f(10)\n",
    "print(x)"
   ]
  }
 ],
 "metadata": {
  "kernelspec": {
   "display_name": "Julia 1.9.1",
   "language": "julia",
   "name": "julia-1.9"
  },
  "language_info": {
   "file_extension": ".jl",
   "mimetype": "application/julia",
   "name": "julia",
   "version": "1.9.1"
  }
 },
 "nbformat": 4,
 "nbformat_minor": 2
}
