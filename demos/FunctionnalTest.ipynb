{
 "cells": [
  {
   "cell_type": "code",
   "execution_count": 1,
   "metadata": {},
   "outputs": [
    {
     "ename": "StackOverflowError",
     "evalue": "StackOverflowError:",
     "output_type": "error",
     "traceback": [
      "StackOverflowError:\n",
      "\n",
      "Stacktrace:\n",
      "     [1] (::var\"#11#12\")(x::Int64)\n",
      "       @ Main ~/Library/Mobile Documents/iCloud~md~obsidian/Documents/MemorisiCloud/Projets/Utero/demos/FunctionnalTest.ipynb:3\n",
      "     [2] f(x::Int64)\n",
      "       @ Main ~/Library/Mobile Documents/iCloud~md~obsidian/Documents/MemorisiCloud/Projets/Utero/demos/FunctionnalTest.ipynb:5\n",
      "--- the last 2 lines are repeated 19994 more times ---\n",
      " [39991] (::var\"#11#12\")(x::Int64)\n",
      "       @ Main ~/Library/Mobile Documents/iCloud~md~obsidian/Documents/MemorisiCloud/Projets/Utero/demos/FunctionnalTest.ipynb:3"
     ]
    }
   ],
   "source": [
    "f(x) = x+2\n",
    "\n",
    "λ = x -> 2 + f(x)\n",
    "function f(x)\n",
    "    return λ(x)\n",
    "end\n",
    "x = f(10)\n",
    "print(x)"
   ]
  }
 ],
 "metadata": {
  "kernelspec": {
   "display_name": "Julia 1.9.1",
   "language": "julia",
   "name": "julia-1.9"
  },
  "language_info": {
   "file_extension": ".jl",
   "mimetype": "application/julia",
   "name": "julia",
   "version": "1.9.1"
  }
 },
 "nbformat": 4,
 "nbformat_minor": 2
}
