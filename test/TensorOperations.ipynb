{
 "cells": [
  {
   "cell_type": "code",
   "execution_count": 1,
   "metadata": {},
   "outputs": [
    {
     "name": "stdout",
     "output_type": "stream",
     "text": [
      "C = A .+ B = [1.3696337479160778 1.2713796378327085; 0.5334975285392493 1.3524085679647992]\n",
      "A = [0.6621066243399235 0.4758892701658036; 0.33548351192418 0.47638491342919353]\n",
      "B = [0.7075271235761544 0.7954903676669047; 0.19801401661506923 0.8760236545356057]\n"
     ]
    },
    {
     "ename": "ErrorException",
     "evalue": "syntax: invalid identifier name \".\"",
     "output_type": "error",
     "traceback": [
      "syntax: invalid identifier name \".\"\n",
      "\n",
      "Stacktrace:\n",
      " [1] top-level scope\n",
      "   @ ~/Library/Mobile Documents/iCloud~md~obsidian/Documents/MemorisiCloud/🟣 Personnel/📟 Code/Utero/test/TensorOperations.ipynb:10"
     ]
    }
   ],
   "source": [
    "include(\"../src/Utero.jl\")\n",
    "using .Utero \n",
    "\n",
    "A = rand(2,2)\n",
    "B = rand(2,2)\n",
    "\n",
    "@show C = .+(A, B)\n",
    "@show A\n",
    "@show B\n",
    "@show .cos(A)\n",
    "@show *(A, B)\n",
    "@show A[1] * B[1]"
   ]
  },
  {
   "cell_type": "code",
   "execution_count": 2,
   "metadata": {},
   "outputs": [
    {
     "ename": "ErrorException",
     "evalue": "syntax: unexpected \"=\"",
     "output_type": "error",
     "traceback": [
      "syntax: unexpected \"=\"\n",
      "\n",
      "Stacktrace:\n",
      " [1] top-level scope\n",
      "   @ ~/Library/Mobile Documents/iCloud~md~obsidian/Documents/MemorisiCloud/🟣 Personnel/📟 Code/Utero/test/TensorOperations.ipynb:11"
     ]
    }
   ],
   "source": [
    "function SameOrder(M1, M2)\n",
    "    diff = length(size(M1)) - length(size(M2))\n",
    "    if diff < 0 \n",
    "        M1 = reshape(M1, (size(M1)..., ones(Int64, abs(diff))...)...)\n",
    "    elseif diff > 0\n",
    "        M2 = reshape(M2, (size(M2)..., ones(Int64, abs(diff))...)...)\n",
    "    end\n",
    "    return M1, M2\n",
    "end\n",
    "\n",
    "function SameOrder(M1::Number, M2::Number) = M1, M2\n",
    "\n",
    "M1 = rand(2, 2, 2, 2)\n",
    "M2 = rand(2, 2, 3)\n",
    "M1, M2 = SameOrder(M1, M2)\n",
    "@show size(M1) size(M2)"
   ]
  },
  {
   "cell_type": "code",
   "execution_count": 3,
   "metadata": {},
   "outputs": [],
   "source": [
    "\n",
    "IsaWrappedFloat(Z) = (NbElements(Z) == 1)\n",
    "\n",
    "import Base.dropdims\n",
    "dropdims(X) = dropdims(X, dims=Tuple(findall(size(X) .== 1)))\n",
    "function ⬅Dual(::typeof(sum), X; dims=:)\n",
    "    Z = sum(X, dims=dims)\n",
    "    dims = filter(dim -> !(dim in dims), 1:length(size(X)))\n",
    "    @show dims\n",
    "    @show typeof(Z)\n",
    "    IsaWrappedFloat(Z) ? CleanZ = Z : CleanZ = dropdims(Z)\n",
    "    return Z, ∇Z -> mapslices(_ -> CleanZ, zeros(size(X)), dims=dims)\n",
    "end\n",
    "\n",
    "Z, Chainer = ⬅Dual(sum, rand(4, 3, 5, 7), dims=[2, 4])\n",
    "@show size(Z)\n",
    "size(Chainer(Z))\n",
    "\n",
    "Z, Chainer = ⬅Dual(sum, rand(10, 1), dims=[1])\n",
    "@show size(Z)\n",
    "size(Chainer(Z))"
   ]
  },
  {
   "cell_type": "code",
   "execution_count": null,
   "metadata": {},
   "outputs": [],
   "source": [
    "d1 = Diagonal( ones( prod(size(rand(2,2) ) ) ) )\n",
    "d2 = Diagonal( ones( prod(size(rand(2,2) ) ) ) )\n",
    "d1 * d2"
   ]
  },
  {
   "cell_type": "code",
   "execution_count": null,
   "metadata": {},
   "outputs": [],
   "source": [
    "A = rand(2,2,2)\n",
    "print(A)\n",
    "d1 = Diagonal( reshape(A, prod(size(A))))"
   ]
  }
 ],
 "metadata": {
  "kernelspec": {
   "display_name": "Julia 1.9.1",
   "language": "julia",
   "name": "julia-1.9"
  },
  "language_info": {
   "file_extension": ".jl",
   "mimetype": "application/julia",
   "name": "julia",
   "version": "1.9.1"
  }
 },
 "nbformat": 4,
 "nbformat_minor": 2
}
