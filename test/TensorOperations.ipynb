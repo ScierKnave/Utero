{
 "cells": [
  {
   "cell_type": "code",
   "execution_count": 1,
   "metadata": {},
   "outputs": [
    {
     "name": "stdout",
     "output_type": "stream",
     "text": [
      "C = A .+ B = [0.6141308592979724 0.916889959001522; 1.5818343361559095 1.4765343791763343]\n",
      "A = [0.4251885600093749 0.7158053234122251; 0.8439250331115636 0.9905863307849423]\n",
      "B = [0.18894229928859751 0.2010846355892969; 0.737909303044346 0.48594804839139194]\n"
     ]
    },
    {
     "ename": "ErrorException",
     "evalue": "syntax: invalid identifier name \".\"",
     "output_type": "error",
     "traceback": [
      "syntax: invalid identifier name \".\"\n",
      "\n",
      "Stacktrace:\n",
      " [1] top-level scope\n",
      "   @ ~/Library/Mobile Documents/iCloud~md~obsidian/Documents/MemorisiCloud/🟣 Personnel/📟 Code/Utero/test/TensorOperations.ipynb:9"
     ]
    }
   ],
   "source": [
    "using LinearAlgebra\n",
    "\n",
    "A = rand(2,2)\n",
    "B = rand(2,2)\n",
    "\n",
    "@show C = .+(A, B)\n",
    "@show A\n",
    "@show B\n",
    "@show .cos(A)\n",
    "@show *(A, B)\n",
    "@show A[1] * B[1]"
   ]
  },
  {
   "cell_type": "code",
   "execution_count": 2,
   "metadata": {},
   "outputs": [
    {
     "ename": "ErrorException",
     "evalue": "syntax: unexpected \"=\"",
     "output_type": "error",
     "traceback": [
      "syntax: unexpected \"=\"\n",
      "\n",
      "Stacktrace:\n",
      " [1] top-level scope\n",
      "   @ ~/Library/Mobile Documents/iCloud~md~obsidian/Documents/MemorisiCloud/🟣 Personnel/📟 Code/Utero/test/TensorOperations.ipynb:11"
     ]
    }
   ],
   "source": [
    "function SameOrder(M1, M2)\n",
    "    diff = length(size(M1)) - length(size(M2))\n",
    "    if diff < 0 \n",
    "        M1 = reshape(M1, (size(M1)..., ones(Int64, abs(diff))...)...)\n",
    "    elseif diff > 0\n",
    "        M2 = reshape(M2, (size(M2)..., ones(Int64, abs(diff))...)...)\n",
    "    end\n",
    "    return M1, M2\n",
    "end\n",
    "\n",
    "function SameOrder(M1::Number, M2::Number) = M1, M2\n",
    "\n",
    "M1 = rand(2, 2, 2, 2)\n",
    "M2 = rand(2, 2, 3)\n",
    "M1, M2 = SameOrder(M1, M2)\n",
    "@show size(M1) size(M2)"
   ]
  },
  {
   "cell_type": "code",
   "execution_count": 6,
   "metadata": {},
   "outputs": [
    {
     "name": "stdout",
     "output_type": "stream",
     "text": [
      "dims = [1, 3]\n",
      "size(Z) = (4, 1, 5, 1)\n"
     ]
    },
    {
     "data": {
      "text/plain": [
       "(4, 3, 5, 7)"
      ]
     },
     "metadata": {},
     "output_type": "display_data"
    }
   ],
   "source": [
    "import Base.dropdims\n",
    "dropdims(X) = dropdims(X, dims=Tuple(findall(size(X) .== 1)))\n",
    "function ⬅Dual(::typeof(sum), X; dims=:)\n",
    "    Z = sum(X, dims=dims)\n",
    "    dims = filter(dim -> !(dim in dims), 1:length(size(X)))\n",
    "    @show dims\n",
    "    return Z, ∇Z -> mapslices(_ -> dropdims(Z), zeros(size(X)), dims=dims)\n",
    "end\n",
    "\n",
    "Z, Chainer = ⬅Dual(sum, rand(4, 3, 5, 7), dims=[2, 4])\n",
    "@show size(Z)\n",
    "#mapslices(_ -> rand(4, 5), rand(4, 3, 5, 7); dims=[1, 3])\n",
    "size(Chainer(Z))"
   ]
  },
  {
   "cell_type": "code",
   "execution_count": 4,
   "metadata": {},
   "outputs": [
    {
     "data": {
      "text/plain": [
       "4×4 Diagonal{Float64, Vector{Float64}}:\n",
       " 1.0   ⋅    ⋅    ⋅ \n",
       "  ⋅   1.0   ⋅    ⋅ \n",
       "  ⋅    ⋅   1.0   ⋅ \n",
       "  ⋅    ⋅    ⋅   1.0"
      ]
     },
     "metadata": {},
     "output_type": "display_data"
    }
   ],
   "source": [
    "d1 = Diagonal( ones( prod(size(rand(2,2) ) ) ) )\n",
    "d2 = Diagonal( ones( prod(size(rand(2,2) ) ) ) )\n",
    "d1 * d2"
   ]
  },
  {
   "cell_type": "code",
   "execution_count": 5,
   "metadata": {},
   "outputs": [
    {
     "name": "stdout",
     "output_type": "stream",
     "text": [
      "[0.27373344776602404 0.20561403796727074; 0.10873481940904395 0.18287590355718453;;; 0.08653764344448811 0.8964523863946611; 0.47983760564648703 0.7724123042626412]"
     ]
    },
    {
     "data": {
      "text/plain": [
       "8×8 Diagonal{Float64, Vector{Float64}}:\n",
       " 0.273733   ⋅         ⋅         ⋅        …   ⋅         ⋅         ⋅ \n",
       "  ⋅        0.108735   ⋅         ⋅            ⋅         ⋅         ⋅ \n",
       "  ⋅         ⋅        0.205614   ⋅            ⋅         ⋅         ⋅ \n",
       "  ⋅         ⋅         ⋅        0.182876      ⋅         ⋅         ⋅ \n",
       "  ⋅         ⋅         ⋅         ⋅            ⋅         ⋅         ⋅ \n",
       "  ⋅         ⋅         ⋅         ⋅        …  0.479838   ⋅         ⋅ \n",
       "  ⋅         ⋅         ⋅         ⋅            ⋅        0.896452   ⋅ \n",
       "  ⋅         ⋅         ⋅         ⋅            ⋅         ⋅        0.772412"
      ]
     },
     "metadata": {},
     "output_type": "display_data"
    }
   ],
   "source": [
    "A = rand(2,2,2)\n",
    "print(A)\n",
    "d1 = Diagonal( reshape(A, prod(size(A))))"
   ]
  }
 ],
 "metadata": {
  "kernelspec": {
   "display_name": "Julia 1.9.1",
   "language": "julia",
   "name": "julia-1.9"
  },
  "language_info": {
   "file_extension": ".jl",
   "mimetype": "application/julia",
   "name": "julia",
   "version": "1.9.1"
  }
 },
 "nbformat": 4,
 "nbformat_minor": 2
}
