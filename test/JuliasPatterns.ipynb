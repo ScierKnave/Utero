{
 "cells": [
  {
   "cell_type": "code",
   "execution_count": 1,
   "metadata": {},
   "outputs": [],
   "source": [
    "struct Custom\n",
    "    val \n",
    "end"
   ]
  },
  {
   "cell_type": "code",
   "execution_count": 2,
   "metadata": {},
   "outputs": [
    {
     "name": "stdout",
     "output_type": "stream",
     "text": [
      "g(c, c) = 4\n"
     ]
    },
    {
     "ename": "MethodError",
     "evalue": "MethodError: no method matching g(::Custom, ::Int64)\n\nClosest candidates are:\n  g(::Custom, !Matched::Custom)\n   @ Main ~/Library/Mobile Documents/iCloud~md~obsidian/Documents/MemorisiCloud/🟣 Personnel/📟 Code/Utero/test/JuliasPatterns.ipynb:2\n",
     "output_type": "error",
     "traceback": [
      "MethodError: no method matching g(::Custom, ::Int64)\n",
      "\n",
      "Closest candidates are:\n",
      "  g(::Custom, !Matched::Custom)\n",
      "   @ Main ~/Library/Mobile Documents/iCloud~md~obsidian/Documents/MemorisiCloud/🟣 Personnel/📟 Code/Utero/test/JuliasPatterns.ipynb:2\n",
      "\n",
      "\n",
      "Stacktrace:\n",
      " [1] top-level scope\n",
      "   @ show.jl:1128"
     ]
    }
   ],
   "source": [
    "c = Custom(0)\n",
    "g(x::Custom, y::Custom) = 4\n",
    "@show g(c, c)\n",
    "@show g(c, 0)"
   ]
  },
  {
   "cell_type": "code",
   "execution_count": 3,
   "metadata": {},
   "outputs": [
    {
     "ename": "MethodError",
     "evalue": "MethodError: no method matching g(::Custom, ::Int64)\n\nClosest candidates are:\n  g(::Custom, !Matched::Custom)\n   @ Main ~/Library/Mobile Documents/iCloud~md~obsidian/Documents/MemorisiCloud/🟣 Personnel/📟 Code/Utero/test/JuliasPatterns.ipynb:2\n",
     "output_type": "error",
     "traceback": [
      "MethodError: no method matching g(::Custom, ::Int64)\n",
      "\n",
      "Closest candidates are:\n",
      "  g(::Custom, !Matched::Custom)\n",
      "   @ Main ~/Library/Mobile Documents/iCloud~md~obsidian/Documents/MemorisiCloud/🟣 Personnel/📟 Code/Utero/test/JuliasPatterns.ipynb:2\n",
      "\n",
      "\n",
      "Stacktrace:\n",
      " [1] top-level scope\n",
      "   @ show.jl:1128"
     ]
    }
   ],
   "source": [
    "convert(::Type{Custom}, x::Number) = Custom(x)\n",
    "promote_rule(::Type{Custom}, ::Number) = Custom\n",
    "@show g(c, 0)"
   ]
  }
 ],
 "metadata": {
  "kernelspec": {
   "display_name": "Julia 1.9.1",
   "language": "julia",
   "name": "julia-1.9"
  },
  "language_info": {
   "file_extension": ".jl",
   "mimetype": "application/julia",
   "name": "julia",
   "version": "1.9.1"
  }
 },
 "nbformat": 4,
 "nbformat_minor": 2
}
