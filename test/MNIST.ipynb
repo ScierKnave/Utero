{
 "cells": [
  {
   "cell_type": "code",
   "execution_count": 1,
   "metadata": {},
   "outputs": [],
   "source": [
    "include(\"../src/Utero.jl\")\n",
    "using .Utero \n",
    "using MLDatasets"
   ]
  },
  {
   "cell_type": "code",
   "execution_count": 2,
   "metadata": {},
   "outputs": [
    {
     "data": {
      "text/plain": [
       "dataset MNIST:\n",
       "  metadata  =>    Dict{String, Any} with 3 entries\n",
       "  split     =>    :test\n",
       "  features  =>    28×28×10000 Array{Float32, 3}\n",
       "  targets   =>    10000-element Vector{Int64}"
      ]
     },
     "metadata": {},
     "output_type": "display_data"
    }
   ],
   "source": [
    "TrainData = MNIST(:train)\n",
    "ValidData = MNIST(:test)"
   ]
  },
  {
   "cell_type": "code",
   "execution_count": 3,
   "metadata": {},
   "outputs": [
    {
     "data": {
      "text/plain": [
       "Sequential(Any[Dense([-0.05561321071892129 0.0009139139792047425 … -0.10841619984275008 0.08850865913375609; -0.08399504291925464 -0.04385714441667099 … 0.005918277100458551 0.0593744921310384; … ; -0.02919019318714018 0.02730345883761313 … -0.013388697205287441 -0.022781257838256568; 0.0795280612749593 0.041377836359953776 … 0.046407357387035955 -0.02152800517214519], [0.0; 0.0; … ; 0.0; 0.0;;], Main.Utero.ReLU), Dense([-0.7050186748240843 -0.7699009479928443 … -0.4465081188873728 0.48942738989078965; -0.11594903828556073 0.010777858366347485 … -0.05950240040801924 0.007450095561957195; … ; 0.2935586225196526 0.3794265683479025 … -0.45661373883336004 -0.0468894729766462; 0.6645965583110738 0.21000376632545115 … 0.3335596924794285 -0.1837184643858957], [0.0; 0.0; … ; 0.0; 0.0;;], Main.Utero.ReLU), Dense([0.27395139164879834 0.3032920208441315 … 0.3570073208084043 -0.5558637222037195; 0.24751146191831852 0.136185854700839 … -0.14713117170893608 -0.32183108768543117; … ; 0.16785052311841925 -0.3499490484875721 … 0.29831066153720964 0.45919327577820457; 0.4244571310380339 0.11706133209623285 … 0.13831503742184437 0.3343341658541551], [0.0; 0.0; … ; 0.0; 0.0;;], Main.Utero.ReLU), Dense([-0.11484168921911882 -0.35812670249738365 … 0.4158305522617874 0.13291263065244446; 0.1268035609054254 0.042348604819043824 … 0.08404136766956219 -0.2948418465588227; … ; -0.35476429872418386 0.14867749383277057 … 0.07443280286686123 0.34085323762253655; -0.2636985859746675 0.5807423433521305 … -0.09904477601641397 0.44760218501348337], [0.0; 0.0; … ; 0.0; 0.0;;], Main.Utero.Identity), Main.Utero.Softmax])"
      ]
     },
     "metadata": {},
     "output_type": "display_data"
    }
   ],
   "source": [
    "densenet = Sequential(\n",
    "    Dense(28*28, 16, acf=ReLU), \n",
    "    Dense(16, 16, acf=ReLU), \n",
    "    Dense(16, 16, acf=ReLU), \n",
    "    Dense(16, 10), \n",
    "    Softmax)"
   ]
  },
  {
   "cell_type": "code",
   "execution_count": 4,
   "metadata": {},
   "outputs": [
    {
     "name": "stdout",
     "output_type": "stream",
     "text": [
      "size(TrainData.features) = (28, 28, 60000)\n",
      "size(X) = (60000, 784)\n"
     ]
    },
    {
     "name": "stdout",
     "output_type": "stream",
     "text": [
      "size(predicted) = (60000, 10)\n",
      "pred = 3\n",
      "label = 5\n",
      "pred = 3\n",
      "label = 0\n",
      "pred = 1\n",
      "label = 4\n",
      "pred = 1\n",
      "label = 1\n",
      "pred = 10\n",
      "label = 9\n",
      "pred = 7\n",
      "label = 2\n",
      "pred = 1\n",
      "label = 1\n",
      "pred = 1\n",
      "label = 3\n",
      "pred = 4\n",
      "label = 1\n",
      "pred = 4\n",
      "label = 4\n",
      "pred = 4\n",
      "label = 3\n",
      "pred = 4\n",
      "label = 5\n",
      "pred = 4\n",
      "label = 3\n",
      "pred = 4\n",
      "label = 6\n",
      "pred = 4\n",
      "label = 1\n",
      "pred = 4\n",
      "label = 7\n",
      "pred = 4\n",
      "label = 2\n",
      "pred = 1\n",
      "label = 8\n",
      "pred = 2\n",
      "label = 6\n",
      "pred = 2\n",
      "label = 9\n",
      "pred = 2\n",
      "label = 4\n",
      "pred = 1\n",
      "label = 0\n",
      "pred = 1\n",
      "label = 9\n",
      "pred = 1\n",
      "label = 1\n",
      "pred = 1\n",
      "label = 1\n",
      "pred = 1\n",
      "label = 2\n",
      "pred = 1\n",
      "label = 4\n",
      "pred = 1\n",
      "label = 3\n",
      "pred = 1\n",
      "label = 2\n",
      "pred = 3\n",
      "label = 7\n"
     ]
    },
    {
     "data": {
      "text/plain": [
       "0.09931666666666666"
      ]
     },
     "metadata": {},
     "output_type": "display_data"
    }
   ],
   "source": [
    "predicted = []\n",
    "@show size(TrainData.features)\n",
    "X = reshape(TrainData.features, 60000, 28*28)\n",
    "@show size(X)\n",
    "predicted = zeros(60000, 10)\n",
    "for (i, x) in enumerate(eachrow(X))\n",
    "    predicted[i, :] = densenet(x)\n",
    "end\n",
    "@show size(predicted)\n",
    "Accuracy(predicted, TrainData.targets)"
   ]
  },
  {
   "cell_type": "code",
   "execution_count": 5,
   "metadata": {},
   "outputs": [
    {
     "name": "stdout",
     "output_type": "stream",
     "text": [
      "Iter DoneIter Done"
     ]
    },
    {
     "name": "stdout",
     "output_type": "stream",
     "text": [
      "Iter DoneIter Done"
     ]
    },
    {
     "name": "stdout",
     "output_type": "stream",
     "text": [
      "Iter DoneIter Done"
     ]
    },
    {
     "name": "stdout",
     "output_type": "stream",
     "text": [
      "Iter DoneIter Done"
     ]
    },
    {
     "name": "stdout",
     "output_type": "stream",
     "text": [
      "Iter DoneIter Done"
     ]
    }
   ],
   "source": [
    "ctx = ⬅Context()\n",
    "AddParams!(ctx, densenet)\n",
    "\n",
    "# Perform gradient steps\n",
    "for i in 1:10\n",
    "    for (x, y) in DataIterator(TrainData.features, TrainData.targets)\n",
    "        x = reshape(x, 28*28)\n",
    "        y = OneHot(Int64(y+1), 10)\n",
    "        (out, paramgrads) = ForwardBackward!(ctx, x -> MeanSquaredError(densenet(x), y), x)\n",
    "        GradientStep!(0.0001, ctx.Params, paramgrads)\n",
    "    end\n",
    "    print(\"Iter Done\")\n",
    "end\n",
    "Untrack!(densenet)"
   ]
  },
  {
   "cell_type": "code",
   "execution_count": 6,
   "metadata": {},
   "outputs": [
    {
     "name": "stdout",
     "output_type": "stream",
     "text": [
      "size(TrainData.features) = (28, 28, 60000)\n",
      "size(X) = (784, 60000)\n"
     ]
    },
    {
     "name": "stdout",
     "output_type": "stream",
     "text": [
      "pred = 4\n",
      "label = 6\n",
      "pred = 1\n",
      "label = 1\n",
      "pred = 4\n",
      "label = 5\n",
      "pred = 9\n",
      "label = 2\n",
      "pred = 10\n",
      "label = 10\n",
      "pred = 3\n",
      "label = 3\n",
      "pred = 10\n",
      "label = 2\n",
      "pred = 9\n",
      "label = 4\n",
      "pred = 10\n",
      "label = 2\n",
      "pred = 8\n",
      "label = 5\n",
      "pred = 4\n",
      "label = 4\n",
      "pred = 9\n",
      "label = 6\n",
      "pred = 3\n",
      "label = 4\n",
      "pred = 7\n",
      "label = 7\n",
      "pred = 10\n",
      "label = 2\n",
      "pred = 8\n",
      "label = 8\n",
      "pred = 3\n",
      "label = 3\n",
      "pred = 9\n",
      "label = 9\n",
      "pred = 7\n",
      "label = 7\n",
      "pred = 8\n",
      "label = 10\n",
      "pred = 4\n",
      "label = 5\n",
      "pred = 1\n",
      "label = 1\n",
      "pred = 10\n",
      "label = 10\n",
      "pred = 9\n",
      "label = 2\n",
      "pred = 7\n",
      "label = 2\n",
      "pred = 3\n",
      "label = 3\n",
      "pred = 10\n",
      "label = 5\n",
      "pred = 9\n",
      "label = 4\n",
      "pred = 9\n",
      "label = 3\n",
      "pred = 8\n",
      "label = 8\n"
     ]
    },
    {
     "data": {
      "text/plain": [
       "0.5108"
      ]
     },
     "metadata": {},
     "output_type": "display_data"
    }
   ],
   "source": [
    "predicted = []\n",
    "@show size(TrainData.features)\n",
    "X = reshape(TrainData.features, 28*28, 60000)\n",
    "@show size(X)\n",
    "probabilities = zeros(60000, 10)\n",
    "for (i, x) in enumerate(eachcol(X))\n",
    "    probabilities[i, :] = densenet(x)\n",
    "end\n",
    "Accuracy(probabilities, TrainData.targets.+1)\n"
   ]
  }
 ],
 "metadata": {
  "kernelspec": {
   "display_name": "Julia 1.9.1",
   "language": "julia",
   "name": "julia-1.9"
  },
  "language_info": {
   "file_extension": ".jl",
   "mimetype": "application/julia",
   "name": "julia",
   "version": "1.9.1"
  }
 },
 "nbformat": 4,
 "nbformat_minor": 2
}
