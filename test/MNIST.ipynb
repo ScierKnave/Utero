{
 "cells": [
  {
   "cell_type": "code",
   "execution_count": 1,
   "metadata": {},
   "outputs": [],
   "source": [
    "include(\"../src/Utero.jl\")\n",
    "using .Utero \n",
    "using MLDatasets"
   ]
  },
  {
   "cell_type": "code",
   "execution_count": 2,
   "metadata": {},
   "outputs": [
    {
     "data": {
      "text/plain": [
       "dataset MNIST:\n",
       "  metadata  =>    Dict{String, Any} with 3 entries\n",
       "  split     =>    :test\n",
       "  features  =>    28×28×10000 Array{Float32, 3}\n",
       "  targets   =>    10000-element Vector{Int64}"
      ]
     },
     "metadata": {},
     "output_type": "display_data"
    }
   ],
   "source": [
    "TrainData = MNIST(:train)\n",
    "ValidData = MNIST(:test)"
   ]
  },
  {
   "cell_type": "code",
   "execution_count": 3,
   "metadata": {},
   "outputs": [
    {
     "data": {
      "text/plain": [
       "Sequential(Any[Dense([0.04241809678528948 0.029776287898559135 … -0.01915552483484053 0.1089056815432534; -0.005883740108774665 -0.02224987211198783 … -0.09933171745764094 0.010266067963347683; … ; -0.008981598157908239 0.13213509396988685 … 0.007941338642681175 -0.06754119848189613; -0.07284741460554266 0.05452077252712297 … 0.004180865712543068 -0.007278756586173578], [0.0; 0.0; … ; 0.0; 0.0;;], Main.Utero.ReLU), Dense([-0.0036723845708029395 0.48140151692113514 … -0.05791823464569621 -0.3845541506187205; 0.158109995406935 0.13911527796129083 … -0.1949258739953027 -0.44280160599483576; … ; 0.48025593279576567 0.16046264391563014 … -0.046594683696194086 0.020341905780721786; 0.1495644086001556 -0.03800143343370388 … -0.2923537170267285 0.5318102046744559], [0.0; 0.0; … ; 0.0; 0.0;;], Main.Utero.ReLU), Dense([0.07531092325463928 0.09461818694856024 … -0.22834912421924816 0.09705566700584355; 0.07202073785747382 0.22161141556444627 … -0.11336888156127868 0.38048233149828414; … ; -0.23221410684563343 -0.04634716961972402 … 0.33137005350941034 -0.18049928867969298; 0.3392529416470239 0.6779610491763791 … 0.4919673578309076 -0.1604619906011529], [0.0; 0.0; … ; 0.0; 0.0;;], Main.Utero.ReLU), Dense([-0.12700766154550597 0.01433128597333226 … -0.48135247417762717 -0.10549906110021397; 0.0024116126708731644 -0.3482887964584418 … 0.33083407298671097 -0.2927244361571247; … ; -0.15241784345564374 0.25109557535134797 … 0.4930583017531821 0.32367788585194085; 0.31042253476264314 0.27886319478632515 … 0.1390190828353721 0.3114645789507478], [0.0; 0.0; … ; 0.0; 0.0;;], Main.Utero.ReLU), Dense([-0.10489995210176041 -0.2909378972534752 … 0.7023164563587303 0.5603208094716802; -0.35365572893597913 -0.15313377666367492 … -0.03585543630594516 -0.241533649593826; … ; -0.2660285085621671 -0.14763906588576697 … -0.3309528143066365 0.3219288120183345; -0.18081649190360582 -0.1596133802581555 … 0.4018995994419247 -0.0067241750791330905], [0.0; 0.0; … ; 0.0; 0.0;;], Main.Utero.ReLU), Dense([0.07334477816795766 0.18995937820599915 … 0.21083289606510586 0.19440810173989417; -0.14754712466020797 0.3759473195888986 … -0.3406784608592517 0.36092691290309065; … ; -0.19787243386931838 -0.14115008076284088 … 0.3566161623603488 0.04357962430217055; 0.3532613623672263 0.09386650807730985 … 0.2836232084042683 -0.6050323403371297], [0.0; 0.0; … ; 0.0; 0.0;;], Main.Utero.ReLU), Dense([0.2957802914761497 -0.3102841033636049 … 0.35666206751524876 -0.04606713121143588; -0.019323394796406438 0.2744793788753836 … 0.2865409401171557 0.06893971943494118; … ; -0.01395486189342883 -0.5571999576377956 … 0.0037810786303207966 -0.4358744723136575; -0.22013725770164042 0.16209062214401337 … 0.0634728973292228 -0.09972131561211149], [0.0; 0.0; … ; 0.0; 0.0;;], Main.Utero.Identity), Main.Utero.Softmax])"
      ]
     },
     "metadata": {},
     "output_type": "display_data"
    }
   ],
   "source": [
    "densenet = Sequential(\n",
    "    Dense(28*28, 16, acf=ReLU), \n",
    "    Dense(16, 16, acf=ReLU), \n",
    "    Dense(16, 16, acf=ReLU), \n",
    "    Dense(16, 16, acf=ReLU), \n",
    "    Dense(16, 10), \n",
    "    Softmax)"
   ]
  },
  {
   "cell_type": "code",
   "execution_count": 4,
   "metadata": {},
   "outputs": [
    {
     "name": "stdout",
     "output_type": "stream",
     "text": [
      "size(TrainData.features) = (28, 28, 60000)\n",
      "size(X) = (60000, 784)\n"
     ]
    },
    {
     "name": "stdout",
     "output_type": "stream",
     "text": [
      "size(predicted) = (60000, 10)\n",
      "pred = 7\n",
      "label = 5\n",
      "pred = 5\n",
      "label = 0\n",
      "pred = 7\n",
      "label = 4\n",
      "pred = 7\n",
      "label = 1\n",
      "pred = 7\n",
      "label = 9\n",
      "pred = 5\n",
      "label = 2\n",
      "pred = 5\n",
      "label = 1\n",
      "pred = 5\n",
      "label = 3\n",
      "pred = 5\n",
      "label = 1\n",
      "pred = 7\n",
      "label = 4\n",
      "pred = 7\n",
      "label = 3\n",
      "pred = 7\n",
      "label = 5\n",
      "pred = 7\n",
      "label = 3\n",
      "pred = 5\n",
      "label = 6\n",
      "pred = 7\n",
      "label = 1\n",
      "pred = 7\n",
      "label = 7\n",
      "pred = 7\n",
      "label = 2\n",
      "pred = 7\n",
      "label = 8\n",
      "pred = 7\n",
      "label = 6\n",
      "pred = 7\n",
      "label = 9\n",
      "pred = 5\n",
      "label = 4\n",
      "pred = 5\n",
      "label = 0\n",
      "pred = 7\n",
      "label = 9\n",
      "pred = 7\n",
      "label = 1\n",
      "pred = 7\n",
      "label = 1\n",
      "pred = 7\n",
      "label = 2\n",
      "pred = 7\n",
      "label = 4\n",
      "pred = 7\n",
      "label = 3\n",
      "pred = 5\n",
      "label = 2\n",
      "pred = 5\n",
      "label = 7\n"
     ]
    },
    {
     "data": {
      "text/plain": [
       "0.1027"
      ]
     },
     "metadata": {},
     "output_type": "display_data"
    }
   ],
   "source": [
    "predicted = []\n",
    "@show size(TrainData.features)\n",
    "X = reshape(TrainData.features, 60000, 28*28)\n",
    "@show size(X)\n",
    "predicted = zeros(60000, 10)\n",
    "for (i, x) in enumerate(eachrow(X))\n",
    "    predicted[i, :] = densenet(x)\n",
    "end\n",
    "@show size(predicted)\n",
    "Accuracy(predicted, TrainData.targets)"
   ]
  },
  {
   "cell_type": "code",
   "execution_count": 5,
   "metadata": {},
   "outputs": [
    {
     "name": "stdout",
     "output_type": "stream",
     "text": [
      "Iter DoneIter Done"
     ]
    },
    {
     "name": "stdout",
     "output_type": "stream",
     "text": [
      "Iter DoneIter Done"
     ]
    },
    {
     "name": "stdout",
     "output_type": "stream",
     "text": [
      "Iter Done"
     ]
    }
   ],
   "source": [
    "ctx = ⬅Context()\n",
    "AddParams!(ctx, densenet)\n",
    "\n",
    "# Perform gradient steps\n",
    "for i in 1:5\n",
    "    for (x, y) in DataIterator(TrainData.features, TrainData.targets)\n",
    "        x = reshape(x, 28*28)\n",
    "        y = OneHot(Int64(y+1), 10)\n",
    "        (out, paramgrads) = ForwardBackward!(ctx, x -> MeanSquaredError(densenet(x), y), x)\n",
    "        GradientStep!(0.001, ctx.Params, paramgrads)\n",
    "    end\n",
    "    print(\"Iter Done\")\n",
    "end\n",
    "Untrack!(densenet)"
   ]
  },
  {
   "cell_type": "code",
   "execution_count": 6,
   "metadata": {},
   "outputs": [
    {
     "name": "stdout",
     "output_type": "stream",
     "text": [
      "size(TrainData.features) = (28, 28, 60000)\n",
      "size(X) = (784, 60000)\n"
     ]
    },
    {
     "name": "stdout",
     "output_type": "stream",
     "text": [
      "pred = 1\n",
      "label = 6\n",
      "pred = 1\n",
      "label = 1\n",
      "pred = 1\n",
      "label = 5\n",
      "pred = 1\n",
      "label = 2\n",
      "pred = 1\n",
      "label = 10\n",
      "pred = 1\n",
      "label = 3\n",
      "pred = 1\n",
      "label = 2\n",
      "pred = 1\n",
      "label = 4\n",
      "pred = 1\n",
      "label = 2\n",
      "pred = 1\n",
      "label = 5\n",
      "pred = 1\n",
      "label = 4\n",
      "pred = 1\n",
      "label = 6\n",
      "pred = 1\n",
      "label = 4\n",
      "pred = 1\n",
      "label = 7\n",
      "pred = 1\n",
      "label = 2\n",
      "pred = 1\n",
      "label = 8\n",
      "pred = 1\n",
      "label = 3\n",
      "pred = 1\n",
      "label = 9\n",
      "pred = 1\n",
      "label = 7\n",
      "pred = 1\n",
      "label = 10\n",
      "pred = 1\n",
      "label = 5\n",
      "pred = 1\n",
      "label = 1\n",
      "pred = 1\n",
      "label = 10\n",
      "pred = 1\n",
      "label = 2\n",
      "pred = 1\n",
      "label = 2\n",
      "pred = 1\n",
      "label = 3\n",
      "pred = 1\n",
      "label = 5\n",
      "pred = 1\n",
      "label = 4\n",
      "pred = 1\n",
      "label = 3\n",
      "pred = 1\n",
      "label = 8\n"
     ]
    },
    {
     "data": {
      "text/plain": [
       "0.09871666666666666"
      ]
     },
     "metadata": {},
     "output_type": "display_data"
    }
   ],
   "source": [
    "predicted = []\n",
    "@show size(TrainData.features)\n",
    "X = reshape(TrainData.features, 28*28, 60000)\n",
    "@show size(X)\n",
    "probabilities = zeros(60000, 10)\n",
    "for (i, x) in enumerate(eachcol(X))\n",
    "    probabilities[i, :] = densenet(x)\n",
    "end\n",
    "Accuracy(probabilities, TrainData.targets.+1)\n"
   ]
  }
 ],
 "metadata": {
  "kernelspec": {
   "display_name": "Julia 1.9.1",
   "language": "julia",
   "name": "julia-1.9"
  },
  "language_info": {
   "file_extension": ".jl",
   "mimetype": "application/julia",
   "name": "julia",
   "version": "1.9.1"
  }
 },
 "nbformat": 4,
 "nbformat_minor": 2
}
