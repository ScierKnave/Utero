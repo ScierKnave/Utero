{
 "cells": [
  {
   "cell_type": "code",
   "execution_count": 1,
   "metadata": {},
   "outputs": [],
   "source": [
    "include(\"../src/Utero.jl\")\n",
    "using .Utero \n",
    "using MLDatasets"
   ]
  },
  {
   "cell_type": "code",
   "execution_count": null,
   "metadata": {},
   "outputs": [],
   "source": [
    "TrainData = MNIST(:train)\n",
    "ValidData = MNIST(:test)"
   ]
  },
  {
   "cell_type": "code",
   "execution_count": null,
   "metadata": {},
   "outputs": [],
   "source": [
    "densenet = Sequential(\n",
    "    Dense(28*28, 16, acf=ReLU), \n",
    "    Dense(16, 16, acf=ReLU), \n",
    "    Dense(16, 16, acf=ReLU), \n",
    "    Dense(16, 10), \n",
    "    Softmax)"
   ]
  },
  {
   "cell_type": "code",
   "execution_count": null,
   "metadata": {},
   "outputs": [],
   "source": [
    "predicted = []\n",
    "@show size(TrainData.features)\n",
    "X = reshape(TrainData.features, 60000, 28*28)\n",
    "@show size(X)\n",
    "predicted = zeros(60000, 10)\n",
    "for (i, x) in enumerate(eachrow(X))\n",
    "    predicted[i, :] = densenet(x)\n",
    "end\n",
    "@show size(predicted)\n",
    "Accuracy(predicted, TrainData.targets)"
   ]
  },
  {
   "cell_type": "code",
   "execution_count": null,
   "metadata": {},
   "outputs": [],
   "source": [
    "ctx = ⬅Context()\n",
    "AddParams!(ctx, densenet)\n",
    "\n",
    "# Perform gradient steps\n",
    "for i in 1:10\n",
    "    for (x, y) in DataIterator(TrainData.features, TrainData.targets)\n",
    "        x = reshape(x, 28*28)\n",
    "        y = OneHot(Int64(y+1), 10)\n",
    "        (out, paramgrads) = ForwardBackward!(ctx, x -> MeanSquaredError(densenet(x), y), x)\n",
    "        GradientStep!(0.0001, ctx.Params, paramgrads)\n",
    "    end\n",
    "    print(\"Iter Done\")\n",
    "end\n",
    "Untrack!(densenet)"
   ]
  },
  {
   "cell_type": "code",
   "execution_count": null,
   "metadata": {},
   "outputs": [],
   "source": [
    "predicted = []\n",
    "@show size(TrainData.features)\n",
    "X = reshape(TrainData.features, 28*28, 60000)\n",
    "@show size(X)\n",
    "probabilities = zeros(60000, 10)\n",
    "for (i, x) in enumerate(eachcol(X))\n",
    "    probabilities[i, :] = densenet(x)\n",
    "end\n",
    "Accuracy(probabilities, TrainData.targets.+1)\n"
   ]
  }
 ],
 "metadata": {
  "kernelspec": {
   "display_name": "Julia 1.9.1",
   "language": "julia",
   "name": "julia-1.9"
  },
  "language_info": {
   "file_extension": ".jl",
   "mimetype": "application/julia",
   "name": "julia",
   "version": "1.9.1"
  }
 },
 "nbformat": 4,
 "nbformat_minor": 2
}
