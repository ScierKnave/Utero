{
 "cells": [
  {
   "cell_type": "code",
   "execution_count": 1,
   "metadata": {},
   "outputs": [
    {
     "ename": "UndefVarError",
     "evalue": "UndefVarError: `⬅Tracker` not defined",
     "output_type": "error",
     "traceback": [
      "UndefVarError: `⬅Tracker` not defined\n",
      "\n",
      "Stacktrace:\n",
      " [1] top-level scope\n",
      "   @ ~/Library/Mobile Documents/iCloud~md~obsidian/Documents/MemorisiCloud/🟣 Personnel/📟 Code/Utero/test/MacroOperations.ipynb:5"
     ]
    }
   ],
   "source": [
    "struct Tracker\n",
    "    val\n",
    "end\n",
    "\n",
    "function Untrack(X::⬅Tracker...)\n",
    "    return [x.val for x in X]\n",
    "end\n",
    "\n"
   ]
  },
  {
   "cell_type": "code",
   "execution_count": 2,
   "metadata": {},
   "outputs": [
    {
     "name": "stdout",
     "output_type": "stream",
     "text": [
      "begin\n",
      "    \u001b[90m#= /Users/pichedereck/Library/Mobile Documents/iCloud~md~obsidian/Documents/MemorisiCloud/🟣 Personnel/📟 Code/Utero/test/MacroOperations.ipynb:6 =#\u001b[39m\n",
      "    (var\"#64#Z\", var\"#63#Chainer\") = Main.⬅Dual([Main.X, Main.Y]...)\n",
      "    \u001b[90m#= /Users/pichedereck/Library/Mobile Documents/iCloud~md~obsidian/Documents/MemorisiCloud/🟣 Personnel/📟 Code/Utero/test/MacroOperations.ipynb:7 =#\u001b[39m\n",
      "    var\"#64#Z\" = Main.⬅Tracker(var\"#64#Z\")\n",
      "end\n"
     ]
    }
   ],
   "source": [
    "macro Dualcall(args...)\n",
    "    args_expr = Expr(:vect, args...) # Construct a vector of arguments\n",
    "\n",
    "    # Construct the loop body using correct interpolation and iteration\n",
    "    body = quote\n",
    "        Z, Chainer = ⬅Dual($args_expr...)\n",
    "        Z = ⬅Tracker(Z)\n",
    "    end\n",
    "\n",
    "    return body\n",
    "end\n",
    "\n",
    "println(macroexpand(Main, :(@Dualcall(X, Y))))\n",
    "\n"
   ]
  },
  {
   "cell_type": "code",
   "execution_count": 3,
   "metadata": {},
   "outputs": [
    {
     "name": "stdout",
     "output_type": "stream",
     "text": [
      "begin\n",
      "    \u001b[90m#= /Users/pichedereck/Library/Mobile Documents/iCloud~md~obsidian/Documents/MemorisiCloud/🟣 Personnel/📟 Code/Utero/test/MacroOperations.ipynb:7 =#\u001b[39m\n",
      "    for (var\"#65#i\", var\"#66#arg\") = Main.enumerate([Main.X, Main.Y])\n",
      "        \u001b[90m#= /Users/pichedereck/Library/Mobile Documents/iCloud~md~obsidian/Documents/MemorisiCloud/🟣 Personnel/📟 Code/Utero/test/MacroOperations.ipynb:8 =#\u001b[39m\n",
      "        Main.push!((var\"#66#arg\").Chainers, ((var\"#67#∇\",)->begin\n",
      "                    \u001b[90m#= /Users/pichedereck/Library/Mobile Documents/iCloud~md~obsidian/Documents/MemorisiCloud/🟣 Personnel/📟 Code/Utero/test/MacroOperations.ipynb:8 =#\u001b[39m\n",
      "                    (Main.Chainer(var\"#67#∇\"))[var\"#65#i\"]\n",
      "                end))\n",
      "        \u001b[90m#= /Users/pichedereck/Library/Mobile Documents/iCloud~md~obsidian/Documents/MemorisiCloud/🟣 Personnel/📟 Code/Utero/test/MacroOperations.ipynb:9 =#\u001b[39m\n",
      "        Main.push!((var\"#66#arg\").Childs, (Main.Z).id)\n",
      "        \u001b[90m#= /Users/pichedereck/Library/Mobile Documents/iCloud~md~obsidian/Documents/MemorisiCloud/🟣 Personnel/📟 Code/Utero/test/MacroOperations.ipynb:10 =#\u001b[39m\n",
      "        Main.push!(Main.Tape, var\"#66#arg\")\n",
      "        \u001b[90m#= /Users/pichedereck/Library/Mobile Documents/iCloud~md~obsidian/Documents/MemorisiCloud/🟣 Personnel/📟 Code/Utero/test/MacroOperations.ipynb:11 =#\u001b[39m\n",
      "    end\n",
      "end\n"
     ]
    }
   ],
   "source": [
    "\n",
    "macro Chaincalls(args...)\n",
    "    args_expr = Expr(:vect, args...) # Construct a vector of arguments\n",
    "\n",
    "    # Construct the loop body using correct interpolation and iteration\n",
    "    loop_body = quote\n",
    "        for (i, arg) in enumerate($args_expr)\n",
    "            push!(arg.Chainers, ∇ -> Chainer(∇)[i])\n",
    "            push!(arg.Childs, Z.id)\n",
    "            push!(Tape, arg)\n",
    "        end\n",
    "    end\n",
    "\n",
    "    return loop_body\n",
    "end\n",
    "\n",
    "\n",
    "println(macroexpand(Main, :(@Chaincalls(X, Y))))"
   ]
  },
  {
   "cell_type": "code",
   "execution_count": 4,
   "metadata": {},
   "outputs": [
    {
     "ename": "LoadError",
     "evalue": "LoadError: MethodError: no method matching var\"@Overloading\"(::LineNumberNode, ::Module, ::Expr, ::Expr, ::Expr)\n\nClosest candidates are:\n  var\"@Overloading\"(::LineNumberNode, ::Module, ::Any, ::Any, ::Any, !Matched::Any)\n   @ Main ~/Library/Mobile Documents/iCloud~md~obsidian/Documents/MemorisiCloud/🟣 Personnel/📟 Code/Utero/test/MacroOperations.ipynb:1\n\nin expression starting at /Users/pichedereck/Library/Mobile Documents/iCloud~md~obsidian/Documents/MemorisiCloud/🟣 Personnel/📟 Code/Utero/test/MacroOperations.ipynb:21",
     "output_type": "error",
     "traceback": [
      "LoadError: MethodError: no method matching var\"@Overloading\"(::LineNumberNode, ::Module, ::Expr, ::Expr, ::Expr)\n",
      "\n",
      "Closest candidates are:\n",
      "  var\"@Overloading\"(::LineNumberNode, ::Module, ::Any, ::Any, ::Any, !Matched::Any)\n",
      "   @ Main ~/Library/Mobile Documents/iCloud~md~obsidian/Documents/MemorisiCloud/🟣 Personnel/📟 Code/Utero/test/MacroOperations.ipynb:1\n",
      "\n",
      "in expression starting at /Users/pichedereck/Library/Mobile Documents/iCloud~md~obsidian/Documents/MemorisiCloud/🟣 Personnel/📟 Code/Utero/test/MacroOperations.ipynb:21\n",
      "\n",
      "Stacktrace:\n",
      "  [1] eval\n",
      "    @ ./boot.jl:370 [inlined]\n",
      "  [2] include_string(mapexpr::typeof(REPL.softscope), mod::Module, code::String, filename::String)\n",
      "    @ Base ./loading.jl:1899\n",
      "  [3] #invokelatest#2\n",
      "    @ ./essentials.jl:816 [inlined]\n",
      "  [4] invokelatest\n",
      "    @ ./essentials.jl:813 [inlined]\n",
      "  [5] (::VSCodeServer.var\"#208#209\"{VSCodeServer.NotebookRunCellArguments, String})()\n",
      "    @ VSCodeServer ~/.vscode/extensions/julialang.language-julia-1.66.2/scripts/packages/VSCodeServer/src/serve_notebook.jl:19\n",
      "  [6] withpath(f::VSCodeServer.var\"#208#209\"{VSCodeServer.NotebookRunCellArguments, String}, path::String)\n",
      "    @ VSCodeServer ~/.vscode/extensions/julialang.language-julia-1.66.2/scripts/packages/VSCodeServer/src/repl.jl:274\n",
      "  [7] notebook_runcell_request(conn::VSCodeServer.JSONRPC.JSONRPCEndpoint{Base.PipeEndpoint, Base.PipeEndpoint}, params::VSCodeServer.NotebookRunCellArguments)\n",
      "    @ VSCodeServer ~/.vscode/extensions/julialang.language-julia-1.66.2/scripts/packages/VSCodeServer/src/serve_notebook.jl:13\n",
      "  [8] dispatch_msg(x::VSCodeServer.JSONRPC.JSONRPCEndpoint{Base.PipeEndpoint, Base.PipeEndpoint}, dispatcher::VSCodeServer.JSONRPC.MsgDispatcher, msg::Dict{String, Any})\n",
      "    @ VSCodeServer.JSONRPC ~/.vscode/extensions/julialang.language-julia-1.66.2/scripts/packages/JSONRPC/src/typed.jl:67\n",
      "  [9] serve_notebook(pipename::String, outputchannel_logger::Base.CoreLogging.SimpleLogger; crashreporting_pipename::String)\n",
      "    @ VSCodeServer ~/.vscode/extensions/julialang.language-julia-1.66.2/scripts/packages/VSCodeServer/src/serve_notebook.jl:139\n",
      " [10] top-level scope\n",
      "    @ ~/.vscode/extensions/julialang.language-julia-1.66.2/scripts/notebook/notebook.jl:32"
     ]
    }
   ],
   "source": [
    "macro Overloading(func, args, dualcall, chaincalls)\n",
    "    # Prepare the arguments tuple for function definition\n",
    "    args_def = eval(args)  # This evaluates the args tuple to use in the function signature\n",
    "\n",
    "    # Prepare the dualcall and chaincalls\n",
    "    # Note: Direct embedding of macro calls in generated code can be tricky due to expansion times\n",
    "    # It might be more reliable to directly insert the intended logic or call functions\n",
    "    \n",
    "    # Generate the function definition\n",
    "    func_def = quote\n",
    "        function $(esc(func))($(esc(args_def))...)\n",
    "            # Assuming dualcall and chaincalls are function calls or contain executable logic\n",
    "            $(esc(dualcall))\n",
    "            $(esc(chaincalls))\n",
    "        end\n",
    "    end\n",
    "    \n",
    "    return func_def\n",
    "end\n",
    "\n",
    "@Overloading f(x::Tracker, y::Tracker) @Dualcall(x, y) @Chaincalls(x, y)\n"
   ]
  },
  {
   "cell_type": "code",
   "execution_count": 5,
   "metadata": {},
   "outputs": [
    {
     "data": {
      "text/plain": [
       "quote\n",
       "    \u001b[90m#= /Users/pichedereck/Library/Mobile Documents/iCloud~md~obsidian/Documents/MemorisiCloud/🟣 Personnel/📟 Code/Utero/test/MacroOperations.ipynb:2 =#\u001b[39m\n",
       "    (Z, Chainer) = ⬅Dual(X, Y)\n",
       "    \u001b[90m#= /Users/pichedereck/Library/Mobile Documents/iCloud~md~obsidian/Documents/MemorisiCloud/🟣 Personnel/📟 Code/Utero/test/MacroOperations.ipynb:3 =#\u001b[39m\n",
       "    Z = ⬅Tracker(Z)\n",
       "end"
      ]
     },
     "metadata": {},
     "output_type": "display_data"
    }
   ],
   "source": [
    "Dualcall = quote\n",
    "    Z, Chainer = ⬅Dual(X, Y)\n",
    "    Z = ⬅Tracker(Z)\n",
    "end\n",
    "\n"
   ]
  },
  {
   "cell_type": "code",
   "execution_count": 6,
   "metadata": {},
   "outputs": [
    {
     "ename": "LoadError",
     "evalue": "LoadError: type Symbol has no field args\nin expression starting at /Users/pichedereck/Library/Mobile Documents/iCloud~md~obsidian/Documents/MemorisiCloud/🟣 Personnel/📟 Code/Utero/test/MacroOperations.ipynb:30",
     "output_type": "error",
     "traceback": [
      "LoadError: type Symbol has no field args\n",
      "in expression starting at /Users/pichedereck/Library/Mobile Documents/iCloud~md~obsidian/Documents/MemorisiCloud/🟣 Personnel/📟 Code/Utero/test/MacroOperations.ipynb:30\n",
      "\n",
      "Stacktrace:\n",
      "  [1] getproperty(x::Symbol, f::Symbol)\n",
      "    @ Base ./Base.jl:37\n",
      "  [2] var\"@⬅Overload\"(__source__::LineNumberNode, __module__::Module, fname::Any, args::Any, dualcall::Any, chaincalls::Any)\n",
      "    @ Main ~/Library/Mobile Documents/iCloud~md~obsidian/Documents/MemorisiCloud/🟣 Personnel/📟 Code/Utero/test/MacroOperations.ipynb:3\n",
      "  [3] var\"@⬅Overload\"(__source__::LineNumberNode, __module__::Module, fname::Any, args::Any, dualcall::Any)\n",
      "    @ Main ~/Library/Mobile Documents/iCloud~md~obsidian/Documents/MemorisiCloud/🟣 Personnel/📟 Code/Utero/test/MacroOperations.ipynb:3\n",
      "  [4] eval\n",
      "    @ ./boot.jl:370 [inlined]\n",
      "  [5] include_string(mapexpr::typeof(REPL.softscope), mod::Module, code::String, filename::String)\n",
      "    @ Base ./loading.jl:1899\n",
      "  [6] #invokelatest#2\n",
      "    @ ./essentials.jl:816 [inlined]\n",
      "  [7] invokelatest\n",
      "    @ ./essentials.jl:813 [inlined]\n",
      "  [8] (::VSCodeServer.var\"#208#209\"{VSCodeServer.NotebookRunCellArguments, String})()\n",
      "    @ VSCodeServer ~/.vscode/extensions/julialang.language-julia-1.66.2/scripts/packages/VSCodeServer/src/serve_notebook.jl:19\n",
      "  [9] withpath(f::VSCodeServer.var\"#208#209\"{VSCodeServer.NotebookRunCellArguments, String}, path::String)\n",
      "    @ VSCodeServer ~/.vscode/extensions/julialang.language-julia-1.66.2/scripts/packages/VSCodeServer/src/repl.jl:274\n",
      " [10] notebook_runcell_request(conn::VSCodeServer.JSONRPC.JSONRPCEndpoint{Base.PipeEndpoint, Base.PipeEndpoint}, params::VSCodeServer.NotebookRunCellArguments)\n",
      "    @ VSCodeServer ~/.vscode/extensions/julialang.language-julia-1.66.2/scripts/packages/VSCodeServer/src/serve_notebook.jl:13\n",
      " [11] dispatch_msg(x::VSCodeServer.JSONRPC.JSONRPCEndpoint{Base.PipeEndpoint, Base.PipeEndpoint}, dispatcher::VSCodeServer.JSONRPC.MsgDispatcher, msg::Dict{String, Any})\n",
      "    @ VSCodeServer.JSONRPC ~/.vscode/extensions/julialang.language-julia-1.66.2/scripts/packages/JSONRPC/src/typed.jl:67\n",
      " [12] serve_notebook(pipename::String, outputchannel_logger::Base.CoreLogging.SimpleLogger; crashreporting_pipename::String)\n",
      "    @ VSCodeServer ~/.vscode/extensions/julialang.language-julia-1.66.2/scripts/packages/VSCodeServer/src/serve_notebook.jl:139\n",
      " [13] top-level scope\n",
      "    @ ~/.vscode/extensions/julialang.language-julia-1.66.2/scripts/notebook/notebook.jl:32"
     ]
    }
   ],
   "source": [
    "macro ⬅Overload(fname, args, dualcall=nothing, chaincalls=nothing)\n",
    "    # Prepare arguments for the ⬅Dual function and chaining\n",
    "    untracked_args = Expr(:vect, [:(Untrack($arg)) for arg in args.args]...)\n",
    "    tracked_args = Expr(:vect, [arg for arg in args.args if occursin(\"Tracker\", string(arg))])\n",
    "\n",
    "    # Construct the dual call if not provided\n",
    "    dual_call_expr = dualcall === nothing ? :(⬅Dual($fname, $untracked_args...)) : dualcall\n",
    "\n",
    "    # Construct the chaining logic if not provided\n",
    "    chain_calls_expr = chaincalls === nothing ? quote\n",
    "        for arg in $tracked_args\n",
    "            push!(arg.Chainers, ∇ -> Chainer(∇)[i])\n",
    "            push!(arg.Childs, Z.id)\n",
    "        end\n",
    "    end : chaincalls\n",
    "\n",
    "    # Construct the function body\n",
    "    func_body = quote\n",
    "        Z, Chainer = $dual_call_expr\n",
    "        Z = ⬅Tracker(Z)\n",
    "        $chain_calls_expr\n",
    "        return Z\n",
    "    end\n",
    "\n",
    "    return esc(:(function $fname($args) $func_body end))\n",
    "end\n",
    "⬅Dual(g, X, Y) = (0, _ -> (0, 0))\n",
    "\n",
    "\n",
    "@⬅Overload g(X::Tracker, Y::Tracker) nothing nothing\n",
    "\n",
    "g(Tracker(0), Tracker(0))"
   ]
  }
 ],
 "metadata": {
  "kernelspec": {
   "display_name": "Julia 1.9.1",
   "language": "julia",
   "name": "julia-1.9"
  },
  "language_info": {
   "file_extension": ".jl",
   "mimetype": "application/julia",
   "name": "julia",
   "version": "1.9.1"
  }
 },
 "nbformat": 4,
 "nbformat_minor": 2
}
