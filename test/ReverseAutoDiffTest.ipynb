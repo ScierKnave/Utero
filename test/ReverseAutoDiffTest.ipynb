{
 "cells": [
  {
   "cell_type": "code",
   "execution_count": 1,
   "metadata": {},
   "outputs": [],
   "source": [
    "include(\"../src/Utero.jl\")\n",
    "using .Utero "
   ]
  },
  {
   "cell_type": "code",
   "execution_count": 2,
   "metadata": {},
   "outputs": [
    {
     "data": {
      "text/plain": [
       "(21.0, Any[3.0])"
      ]
     },
     "metadata": {},
     "output_type": "display_data"
    }
   ],
   "source": [
    "ctx = ⬅Context()\n",
    "ForwardBackward!(ctx, x -> 2.0*x + x, AddParams!(ctx, 7.0))"
   ]
  },
  {
   "cell_type": "code",
   "execution_count": 3,
   "metadata": {},
   "outputs": [
    {
     "data": {
      "text/plain": [
       "(20.480000000000004, Any[12.8])"
      ]
     },
     "metadata": {},
     "output_type": "display_data"
    }
   ],
   "source": [
    "# should be 12.8\n",
    "ctx = ⬅Context()\n",
    "ForwardBackward!(ctx, x -> x^2.0 + x^2.0, AddParams!(ctx, 3.2)) "
   ]
  },
  {
   "cell_type": "code",
   "execution_count": 4,
   "metadata": {},
   "outputs": [
    {
     "data": {
      "text/plain": [
       "(265.0462473472405, Any[56.20829561241092])"
      ]
     },
     "metadata": {},
     "output_type": "display_data"
    }
   ],
   "source": [
    "# Gradient should be 56.21\n",
    "ctx = Utero.⬅Context()\n",
    "ForwardBackward!(ctx, w -> 2.0 * (((2.0*w + 12.0) - w) * w) + sin(w^2.0), AddParams!(ctx, 7.0))"
   ]
  },
  {
   "cell_type": "code",
   "execution_count": 5,
   "metadata": {},
   "outputs": [
    {
     "data": {
      "text/plain": [
       "(1.0748674472530375, Any[27.53002464314667, 3.0428042273213602])"
      ]
     },
     "metadata": {},
     "output_type": "display_data"
    }
   ],
   "source": [
    "# should be approx. (27.53, 3.0428)\n",
    "ctx = Utero.⬅Context()\n",
    "x, y = AddParams!(ctx, 13.2, 89.0)\n",
    "ForwardBackward!(ctx, (x, y) -> (cos(y)^3 * 4sin(x))^2 + cos(x*y)^2, x, y) "
   ]
  },
  {
   "cell_type": "code",
   "execution_count": 6,
   "metadata": {},
   "outputs": [
    {
     "data": {
      "text/plain": [
       "(0.009026837415936791, Any[sparse([5], [1], [0.19001934023605904], 30, 1)])"
      ]
     },
     "metadata": {},
     "output_type": "display_data"
    }
   ],
   "source": [
    "ctx = Utero.⬅Context()\n",
    "W = AddParams!(ctx, rand(30,1))\n",
    "(out, grads) = ForwardBackward!(ctx, _ -> W[5:5]' * W[5:5], 3)"
   ]
  },
  {
   "cell_type": "code",
   "execution_count": 7,
   "metadata": {},
   "outputs": [
    {
     "name": "stdout",
     "output_type": "stream",
     "text": [
      "(30, 1)"
     ]
    }
   ],
   "source": [
    "ctx = Utero.⬅Context()\n",
    "W = AddParams!(ctx, rand(30,1))\n",
    "(out, grads) = ForwardBackward!(ctx, _ -> W' * W, 3)\n",
    "print(size(grads[1]))"
   ]
  },
  {
   "cell_type": "code",
   "execution_count": 8,
   "metadata": {},
   "outputs": [
    {
     "name": "stdout",
     "output_type": "stream",
     "text": [
      "(30, 1)"
     ]
    }
   ],
   "source": [
    "ctx = Utero.⬅Context()\n",
    "W = AddParams!(ctx, rand(30,1))\n",
    "(out, grads) = ForwardBackward!(ctx, _ -> W' * W, 3)\n",
    "print(size(grads[1]))"
   ]
  },
  {
   "cell_type": "code",
   "execution_count": 9,
   "metadata": {},
   "outputs": [
    {
     "name": "stdout",
     "output_type": "stream",
     "text": [
      "size(W.val) = (2, 1)\n",
      "(2, 1)"
     ]
    },
    {
     "name": "stdout",
     "output_type": "stream",
     "text": [
      "[2.0; 2.0;;]"
     ]
    }
   ],
   "source": [
    "ctx = Utero.⬅Context()\n",
    "W = AddParams!(ctx, rand(2,1))\n",
    "(out, grads) = ForwardBackward!(ctx, _ -> W .* 2, nothing)\n",
    "@show size(W.val)\n",
    "print(size(grads[1]))\n",
    "print(grads[1])\n"
   ]
  },
  {
   "cell_type": "code",
   "execution_count": 10,
   "metadata": {},
   "outputs": [
    {
     "name": "stdout",
     "output_type": "stream",
     "text": [
      "size(((W' * W) .* W)' * W) = (1, 1)\n",
      "size(U1) = (1, 2)\n",
      "size(U2) = (1, 1)\n",
      "size(U3) = (2, 1)\n",
      "size(U4) = (1, 2)\n",
      "size(U5) = (1, 1)\n",
      "size(DU5) = (1,)\n",
      "size(DU4) = "
     ]
    },
    {
     "name": "stdout",
     "output_type": "stream",
     "text": [
      "(1, 2)\n",
      "size(DU3) = (2, 1)\n",
      "size(DU2) = (1, 1)\n",
      "size(DU1) = (1, 2)\n"
     ]
    },
    {
     "data": {
      "text/plain": [
       "(1, 2)"
      ]
     },
     "metadata": {},
     "output_type": "display_data"
    }
   ],
   "source": [
    "W = rand(2,1)\n",
    "@show size(((W' * W) .* W)' * W)\n",
    "\n",
    "U1, C1 = ⬅Dual(adjoint, W)\n",
    "@show size(U1)\n",
    "U2, C2 = ⬅Dual(*, U1, W)\n",
    "@show size(U2)\n",
    "U3, C3 = ⬅Dual(Base.broadcasted, *, U2, W)\n",
    "@show size(U3)\n",
    "U4, C4 = ⬅Dual(adjoint, U3)\n",
    "@show size(U4)\n",
    "U5, C5 = ⬅Dual(*, U4, W)\n",
    "@show size(U5)\n",
    "\n",
    "DU5 = [1]\n",
    "@show size(DU5)\n",
    "DU4, _ = C5(DU5)\n",
    "@show size(DU4)\n",
    "DU3 = C4(DU4)\n",
    "@show size(DU3)\n",
    "DU2, _ = C3(DU3)\n",
    "@show size(DU2)\n",
    "DU1, _ = C2(DU2)\n",
    "@show size(DU1)\n",
    "\n",
    "\n"
   ]
  },
  {
   "cell_type": "code",
   "execution_count": 11,
   "metadata": {},
   "outputs": [
    {
     "name": "stdout",
     "output_type": "stream",
     "text": [
      "size(W.val) = (2, 1)\n",
      "size(grads[1]) = (2, 1)\n"
     ]
    },
    {
     "data": {
      "text/plain": [
       "(2, 1)"
      ]
     },
     "metadata": {},
     "output_type": "display_data"
    }
   ],
   "source": [
    "ctx = Utero.⬅Context()\n",
    "W = AddParams!(ctx, rand(2,1))\n",
    "(out, grads) = ForwardBackward!(ctx, _ -> ((W' * W) .* W)' * W, nothing)\n",
    "@show size(W.val)\n",
    "@show size(grads[1])"
   ]
  },
  {
   "cell_type": "code",
   "execution_count": 16,
   "metadata": {},
   "outputs": [
    {
     "name": "stdout",
     "output_type": "stream",
     "text": [
      "W = Main.Utero.⬅Tracker{Matrix{Float64}}([0.46985385321909434; 0.7529370539979908;;], UUID(\"5e8d7e6e-c918-11ee-3e04-7b8bd7c6ccd8\"), Any[], Any[])\n",
      "grads[1] = [6.385585576818904; 8.47504868154015;;]\n"
     ]
    },
    {
     "data": {
      "text/plain": [
       "2×1 Matrix{Float64}:\n",
       " 6.385585576818904\n",
       " 8.47504868154015"
      ]
     },
     "metadata": {},
     "output_type": "display_data"
    }
   ],
   "source": [
    "Softmax(rand(2,1))\n",
    "ctx = Utero.⬅Context()\n",
    "W = AddParams!(ctx, rand(2,1))\n",
    "@show W\n",
    "(out, grads) = ForwardBackward!(ctx, _ -> Softmax(W), nothing)\n",
    "@show grads[1]"
   ]
  }
 ],
 "metadata": {
  "kernelspec": {
   "display_name": "Julia 1.9.1",
   "language": "julia",
   "name": "julia-1.9"
  },
  "language_info": {
   "file_extension": ".jl",
   "mimetype": "application/julia",
   "name": "julia",
   "version": "1.9.1"
  }
 },
 "nbformat": 4,
 "nbformat_minor": 2
}
