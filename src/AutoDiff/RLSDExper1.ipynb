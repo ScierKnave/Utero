{
 "cells": [
  {
   "cell_type": "markdown",
   "metadata": {},
   "source": [
    "# Experimenting with the RLSD Algorithm"
   ]
  },
  {
   "cell_type": "code",
   "execution_count": null,
   "metadata": {
    "vscode": {
     "languageId": "julia"
    }
   },
   "outputs": [],
   "source": [
    "function RLSD(\n",
    "    model,\n",
    "    train::Function,\n",
    "    transition::Function,\n",
    "    reward,\n",
    "    observation,\n",
    "    T, # temperature\n",
    "    epochs::Int64,\n",
    "    n::Int64)\n",
    "    beta = 0\n",
    "    for epoch in epochs\n",
    "        R = []\n",
    "        Dsynth = []\n",
    "        Dtrain = []\n",
    "        for i in 1:n\n",
    "            o = observation(s)\n",
    "            p = model(o)\n",
    "            (rand() < q) ? push!(Dsynth, (o, p))\n",
    "            a = argmax(p)\n",
    "            (rand() < q) ? push!(R, reward(s_next, a))\n",
    "            s_next = transition(s, a)\n",
    "            s = s_next\n",
    "        end\n",
    "        R = mean(R)\n",
    "\n",
    "        if (R > beta) # better than baseline: make highest action candidate likelier\n",
    "            Dtrain = []\n",
    "            for (o, p) in Dsynth\n",
    "                y = softmax(p, T*(R - beta)/beta)\n",
    "                push!(Dtrain, (o, y))\n",
    "            end\n",
    "            train(model, Dtrain)\n",
    "        else\n",
    "            Dtrain = []\n",
    "            for (o, p) in Dsynth\n",
    "                y = explore(p, (beta-R)/beta)\n",
    "                push!(Dtrain, (o, y))\n",
    "            end\n",
    "            train(model, Dtrain)\n",
    "        end\n",
    "    end\n",
    "    beta = ((epoch-1)beta + R)/epoch \n",
    "end\n"
   ]
  },
  {
   "cell_type": "code",
   "execution_count": null,
   "metadata": {
    "vscode": {
     "languageId": "julia"
    }
   },
   "outputs": [],
   "source": [
    "import Flux\n",
    "import Random\n",
    "import Statistics"
   ]
  },
  {
   "cell_type": "code",
   "execution_count": null,
   "metadata": {
    "vscode": {
     "languageId": "julia"
    }
   },
   "outputs": [],
   "source": [
    "function explore(v, Δ)\n",
    "    return v + Δ(v - ones(length(v)))\n",
    "end"
   ]
  },
  {
   "cell_type": "code",
   "execution_count": null,
   "metadata": {
    "vscode": {
     "languageId": "julia"
    }
   },
   "outputs": [],
   "source": [
    "function train(model, data)\n",
    "    train!((x,y) -> crossentropy(model(x), y), Flux.params(model), data, Adam())\n",
    "end"
   ]
  },
  {
   "cell_type": "code",
   "execution_count": null,
   "metadata": {
    "vscode": {
     "languageId": "julia"
    }
   },
   "outputs": [],
   "source": [
    "model = Flux.Chain(\n",
    "    Dense(inp_size, hl_size, relu),\n",
    "    [Dense(hl_size, hl_size, relu) for i in 1:nb_hl]...,\n",
    "    Dense(hl_size, out_size, s),\n",
    "    softmax)"
   ]
  },
  {
   "cell_type": "code",
   "execution_count": null,
   "metadata": {
    "vscode": {
     "languageId": "julia"
    }
   },
   "outputs": [],
   "source": []
  }
 ],
 "metadata": {
  "language_info": {
   "name": "python"
  }
 },
 "nbformat": 4,
 "nbformat_minor": 2
}
