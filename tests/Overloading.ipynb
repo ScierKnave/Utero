{
 "cells": [
  {
   "cell_type": "code",
   "execution_count": 1,
   "metadata": {},
   "outputs": [
    {
     "data": {
      "text/plain": [
       "t (generic function with 1 method)"
      ]
     },
     "metadata": {},
     "output_type": "display_data"
    }
   ],
   "source": [
    "# Small functions for testing\n",
    "f(x::Real) = Base.+(x, 1.2)\n",
    "g(x::Real) = 4 + x\n",
    "h(x::Real) = f(x) * g(x) + e^f(x)\n",
    "comp(x::Real) = f(x)^2 + h(x)"
   ]
  },
  {
   "cell_type": "code",
   "execution_count": null,
   "metadata": {},
   "outputs": [],
   "source": [
    "# Wrappers for the parameter scalars or tensors. Used to pattern match and overload operations.\n",
    "# We use these and wrap the parameters with them.\n",
    "\n",
    "struct ScaTracker{T<:Real} <: Real\n",
    "    id::Int64\n",
    "    val::T\n",
    "    tan::T\n",
    "end\n",
    "\n",
    "struct TenTracker{T<:Real} <: Real\n",
    "    id::Int64 # parameter id\n",
    "    wei::T # weight tensor\n",
    "    jac::T # jacobian\n",
    "end\n",
    "\n",
    "# wrapper to use if you generate \n",
    "struct Param{T<:Real}\n",
    "    value::T\n",
    "end"
   ]
  },
  {
   "cell_type": "code",
   "execution_count": 4,
   "metadata": {},
   "outputs": [
    {
     "data": {
      "text/plain": [
       "DS{Float64}(7.3, 1.2)"
      ]
     },
     "metadata": {},
     "output_type": "display_data"
    }
   ],
   "source": [
    "import Base.+, Base.-, Base.*, Base./ \n",
    "\n",
    "# dual interactions\n",
    "+(f::DS, g::DS) = DS(f.val + g.val, f.tan + g.tan) # sum rule\n",
    "-(f::DS, g::DS) = DS(f.val - g.val, f.tan - g.tan) # difference rule\n",
    "*(f::DS, g::DS) = DS(f.val*g.val, f.tan*g.val + f.val*g.tan) # product rule\n",
    "/(f::DS, g::DS) = DS(f.val - g.val, (f.tan*g.val - f.val*g.tan) / g.val^2) # quotient rule\n",
    "\n",
    "# dual-constants interactions\n",
    "^(x::DS, n::Real) = D(^(x.val, n), x.tan * n * x.val ^ (n-1))\n",
    "\n",
    "for op in (Base.:+, Base.:-)\n",
    "    ( f::typeof(eval(op)) )(c::Int64, d::DS) = DS(f(c, d.val), d.tan)\n",
    "    ( f::typeof(eval(op)) )(c::DS, d::Int64) = f(d, c)\n",
    "end\n",
    "\n",
    "for op in (Base.:*, Base.:/)\n",
    "    ( f::typeof(eval(op)) )(c::Any, d::DS) = DS(f(c, d.val), f(c, d.tan))\n",
    "    ( f::typeof(eval(op)) )(c::DS, d::Any) = f(d, c)\n",
    "end\n",
    "\n",
    "x = DS(3.3, 1.2) \n",
    "g(x)"
   ]
  },
  {
   "cell_type": "code",
   "execution_count": null,
   "metadata": {},
   "outputs": [],
   "source": [
    "# this structure saves \n",
    "struct CompGraph\n",
    "    counter = 0 # to know that ID to add next\n",
    "    graph = Dict{}\n",
    "end"
   ]
  },
  {
   "cell_type": "code",
   "execution_count": 15,
   "metadata": {},
   "outputs": [],
   "source": [
    "# forward pass\n",
    "\n"
   ]
  },
  {
   "cell_type": "code",
   "execution_count": null,
   "metadata": {},
   "outputs": [],
   "source": [
    "# backward pass"
   ]
  }
 ],
 "metadata": {
  "kernelspec": {
   "display_name": "Julia 1.9.1",
   "language": "julia",
   "name": "julia-1.9"
  },
  "language_info": {
   "file_extension": ".jl",
   "mimetype": "application/julia",
   "name": "julia",
   "version": "1.9.1"
  },
  "orig_nbformat": 4
 },
 "nbformat": 4,
 "nbformat_minor": 2
}
