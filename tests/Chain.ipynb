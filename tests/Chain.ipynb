{
 "cells": [
  {
   "cell_type": "code",
   "execution_count": 1,
   "metadata": {},
   "outputs": [
    {
     "data": {
      "text/plain": [
       "t (generic function with 1 method)"
      ]
     },
     "metadata": {},
     "output_type": "display_data"
    }
   ],
   "source": [
    "# Small functions for testing\n",
    "f(x::Real) = Base.+(x, 1.2)\n",
    "g(x::Real) = 4 + x\n",
    "h(x::Real) = f(x) * g(x) + e^f(x)\n",
    "comp(x::Real) = f(x)^2 + h(x)"
   ]
  },
  {
   "cell_type": "code",
   "execution_count": null,
   "metadata": {},
   "outputs": [],
   "source": [
    "# Wrappers for the parameter scalars or tensors. Used to pattern match and overload operations.\n",
    "# We use these and wrap the parameters with them.\n",
    "\n",
    "struct STracker{T<:Real} <: Real\n",
    "    id::Int64\n",
    "    val::T # pointer to param\n",
    "    tan::T\n",
    "end\n",
    "\n",
    "struct TTracker{T<:Real} <: Real\n",
    "    id::Int64 # parameter id\n",
    "    wei::T # pointer to param\n",
    "    jac::T # jacobian\n",
    "end\n",
    "\n",
    "# wrapper to use if you generate \n",
    "struct Param{T<:Real}\n",
    "    value::T\n",
    "end"
   ]
  },
  {
   "cell_type": "code",
   "execution_count": null,
   "metadata": {},
   "outputs": [],
   "source": [
    "# this structure saves \n",
    "struct Tape\n",
    "    counter = 0 # to know that ID to add next\n",
    "    entries = Dict{}\n",
    "end"
   ]
  },
  {
   "cell_type": "code",
   "execution_count": null,
   "metadata": {},
   "outputs": [],
   "source": [
    "# dealing with scalars\n",
    "Derivative(+, c, x) = 1\n",
    "Derivative(-, c, x) = -1\n",
    "Derivative(/, x, c) = 1/c\n",
    "Derivative(*, c, x) = c\n",
    "Derivative(typeof(cos), x) = -sin(x)\n",
    "Derivative(typeof(sin), x) = cos(x)\n",
    "# (...)\n",
    "\n",
    "# dealing with tensors\n",
    "Jacobian()\n"
   ]
  },
  {
   "cell_type": "code",
   "execution_count": 4,
   "metadata": {},
   "outputs": [
    {
     "data": {
      "text/plain": [
       "DS{Float64}(7.3, 1.2)"
      ]
     },
     "metadata": {},
     "output_type": "display_data"
    }
   ],
   "source": [
    "import Base.+, Base.-, Base.*, Base./ \n",
    "\n",
    "function (f::Function)(c::TTracker, d::Param)\n",
    "    # compute derivative\n",
    "    jac = Jacobian(op, c.wei, d.val)\n",
    "\n",
    "    # wrap track resulting object in tensor TenTracker\n",
    "    id = Tape.counter ++\n",
    "    Tape.counter ++\n",
    "    tr = TTracker(id, wei, jac)\n",
    "\n",
    "    # record operation on tape\n",
    "    entry = tr => (c, d)\n",
    "    Tape.entries = merge(Tape.entries, entry)\n",
    "\n",
    "    return entry\n",
    "\n",
    "\n",
    "function ( op )"
   ]
  },
  {
   "cell_type": "code",
   "execution_count": 15,
   "metadata": {},
   "outputs": [],
   "source": [
    "# forward pass\n",
    "\n"
   ]
  },
  {
   "cell_type": "code",
   "execution_count": null,
   "metadata": {},
   "outputs": [],
   "source": [
    "# backward pass"
   ]
  }
 ],
 "metadata": {
  "kernelspec": {
   "display_name": "Julia 1.9.1",
   "language": "julia",
   "name": "julia-1.9"
  },
  "language_info": {
   "file_extension": ".jl",
   "mimetype": "application/julia",
   "name": "julia",
   "version": "1.9.1"
  },
  "orig_nbformat": 4
 },
 "nbformat": 4,
 "nbformat_minor": 2
}
