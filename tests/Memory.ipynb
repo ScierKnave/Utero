{
 "cells": [
  {
   "cell_type": "code",
   "execution_count": 1,
   "metadata": {},
   "outputs": [
    {
     "name": "stdout",
     "output_type": "stream",
     "text": [
      "w = rand(Int, (4, 4)) = [2778081075486607436 6117617412495024612 6164532839713564200 3849756270471737625; -1987378873301100207 2512411784454327431 -5544854315855887499 -7995708870052775263; -3530729263567083227 5188575595653401234 -4153459228167400391 6277259639999355731; 8614743738506499460 -1459674904843988815 6420368792858912539 6162174797765396710]\n",
      "w = [0 6117617412495024612 6164532839713564200 3849756270471737625; -1987378873301100207 2512411784454327431 -5544854315855887499 -7995708870052775263; -3530729263567083227 5188575595653401234 -4153459228167400391 6277259639999355731; 8614743738506499460 -1459674904843988815 6420368792858912539 6162174797765396710]\n"
     ]
    },
    {
     "data": {
      "text/plain": [
       "4×4 Matrix{Int64}:\n",
       "                    0   6117617412495024612  …   3849756270471737625\n",
       " -1987378873301100207   2512411784454327431     -7995708870052775263\n",
       " -3530729263567083227   5188575595653401234      6277259639999355731\n",
       "  8614743738506499460  -1459674904843988815      6162174797765396710"
      ]
     },
     "metadata": {},
     "output_type": "display_data"
    }
   ],
   "source": [
    "@show w = rand(Int, (4, 4))\n",
    "\n",
    "function change(w)\n",
    "    w[1, 1] = 0\n",
    "end\n",
    "change(w)\n",
    "@show w"
   ]
  },
  {
   "cell_type": "markdown",
   "metadata": {},
   "source": [
    "Mutable structures in Julia are unique. Meaning that two structs taking the same values will not be considered equal. They are stored on the heap, and therefore while they exist their location is stable and a reference can be stored. This is not the case with Flux. Their particular set up needs the objects to be immutable. We will not proceed this way. Our model will be stored in the heap and the gradient function will go ahead and directly modify the parameters in memory. It will not return a new object with different parameters. This will allow great flexibility. The same results as in Flux can be achieved by making a copy of the model if needed. By having our structs mutable, we can easily have a "
   ]
  },
  {
   "cell_type": "code",
   "execution_count": 4,
   "metadata": {},
   "outputs": [
    {
     "name": "stdout",
     "output_type": "stream",
     "text": [
      "stores = store(rand(Int, (2, 2)), 3) = store([7987395726031870529 -7544592769605141986; 4539639368291563751 5848059570112768690], 3)\n",
      "stores = store([-3 -7544592769605141986; 4539639368291563751 5848059570112768690], 0)\n"
     ]
    },
    {
     "data": {
      "text/plain": [
       "store([-3 -7544592769605141986; 4539639368291563751 5848059570112768690], 0)"
      ]
     },
     "metadata": {},
     "output_type": "display_data"
    }
   ],
   "source": [
    "mutable struct store\n",
    "    wei\n",
    "    scal\n",
    "end\n",
    "\n",
    "@show stores = store(rand(Int, (2,2)), 3)\n",
    "\n",
    "function change(stores::store)\n",
    "    stores.wei[1, 1] = -3\n",
    "    stores.scal = 0\n",
    "end\n",
    "change(stores)\n",
    "@show stores"
   ]
  }
 ],
 "metadata": {
  "kernelspec": {
   "display_name": "Julia 1.9.1",
   "language": "julia",
   "name": "julia-1.9"
  },
  "language_info": {
   "file_extension": ".jl",
   "mimetype": "application/julia",
   "name": "julia",
   "version": "1.9.1"
  },
  "orig_nbformat": 4
 },
 "nbformat": 4,
 "nbformat_minor": 2
}
