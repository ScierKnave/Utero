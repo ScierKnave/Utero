{
 "cells": [
  {
   "cell_type": "code",
   "execution_count": 1,
   "metadata": {},
   "outputs": [
    {
     "name": "stdout",
     "output_type": "stream",
     "text": [
      "KahnTopoSort(Nodes, Edges) = Any[1, 2, 3, 4, 5]\n"
     ]
    }
   ],
   "source": [
    "include(\"../src/Utero.jl\")\n",
    "using .Utero\n"
   ]
  },
  {
   "cell_type": "markdown",
   "metadata": {},
   "source": [
    "# Differentiation for Scalar Parameters"
   ]
  },
  {
   "cell_type": "code",
   "execution_count": 2,
   "metadata": {},
   "outputs": [
    {
     "name": "stdout",
     "output_type": "stream",
     "text": [
      "()\n",
      "()\n",
      "()\n",
      "()\n",
      "()\n",
      "()\n",
      "()\n",
      "()\n",
      "()\n",
      "()\n",
      "()\n",
      "IdDict"
     ]
    },
    {
     "name": "stdout",
     "output_type": "stream",
     "text": [
      "(12345 => 4)\n",
      "()\n",
      "()\n",
      "IdDict(12345 => 1)\n",
      "("
     ]
    },
    {
     "name": "stdout",
     "output_type": "stream",
     "text": [
      ")\n",
      "()\n",
      "()\n",
      "()\n",
      "()\n",
      "()\n",
      "()\n",
      "()\n",
      "()\n",
      "()\n",
      "()\n",
      "()\n",
      "()\n",
      "IdDict(420 => 2, 7 => 2)\n"
     ]
    }
   ],
   "source": [
    "oepli(w, x) = 2 * (((2*w + x) - w) * w) + sin(w^2)\n",
    "ID = 12345\n",
    "w = Utero.Tracked(7.0, ID)\n",
    "grads = Utero.GetGradient(x -> oepli(w, x), 12.0, Set([ID])) # should be approx. 56.21\n",
    "println(grads)\n",
    "\n",
    "jutyp(w) = sin(w)^2\n",
    "ID = 12345\n",
    "w = Utero.Tracked(25.0, ID)\n",
    "grads = Utero.GetGradient(_ -> jutyp(w), nothing, Set([ID])) # should be approx. -0.26\n",
    "println(grads)\n",
    "\n",
    "tyamelki(w1, w2) = (cos(w2)^3 * 4sin(w1))^2 + cos(w1*w2)^2\n",
    "w1 = Utero.Tracked(13.2, 420); w2 = Utero.Tracked(89, 007)\n",
    "grads = Utero.GetGradient(_ -> tyamelki(w1, w2), nothing, Set([420, 007])) # should be approx. (27.53, 3.0428)\n",
    "println(grads)\n",
    "\n"
   ]
  },
  {
   "cell_type": "markdown",
   "metadata": {},
   "source": [
    "# Differentiation for Tensor Parameters"
   ]
  },
  {
   "cell_type": "code",
   "execution_count": 3,
   "metadata": {},
   "outputs": [
    {
     "name": "stdout",
     "output_type": "stream",
     "text": [
      "(2, 4)\n",
      "(2, 4)\n",
      "(2, 2)\n",
      "(2, 4)\n",
      "(1, 2)\n",
      "(2, 2)\n",
      "()\n",
      "()\n",
      "()\n"
     ]
    }
   ],
   "source": [
    "function Junkotan(w1, w2, w3, x)\n",
    "    return prod(*(w3, *(w2, *(w1, x))))\n",
    "end\n",
    "\n",
    "w1 = Utero.Tracked(rand(2, 2), 0101)\n",
    "w2 = Utero.Tracked(rand(2, 2), 0111)\n",
    "w3 = Utero.Tracked(rand(2, 2), 1101)\n",
    "grads = Utero.GetGradient(x -> Junkotan(w1, w2, w3, x), rand(2,1), Set([0101, 0111, 1101]))"
   ]
  }
 ],
 "metadata": {
  "kernelspec": {
   "display_name": "Julia 1.9.1",
   "language": "julia",
   "name": "julia-1.9"
  },
  "language_info": {
   "file_extension": ".jl",
   "mimetype": "application/julia",
   "name": "julia",
   "version": "1.9.1"
  }
 },
 "nbformat": 4,
 "nbformat_minor": 2
}
