{
 "cells": [
  {
   "cell_type": "code",
   "execution_count": 1,
   "metadata": {},
   "outputs": [
    {
     "name": "stdout",
     "output_type": "stream",
     "text": [
      "KahnTopoSort(Nodes, Edges) = Any[1, 2, 3, 4, 5]\n"
     ]
    }
   ],
   "source": [
    "include(\"../src/Utero.jl\")\n",
    "using .Utero\n"
   ]
  },
  {
   "cell_type": "code",
   "execution_count": 2,
   "metadata": {},
   "outputs": [
    {
     "name": "stdout",
     "output_type": "stream",
     "text": [
      "IdDict(12345 => 56.20829561241092)\n"
     ]
    },
    {
     "ename": "UndefVarError",
     "evalue": "UndefVarError: `Tracked` not defined",
     "output_type": "error",
     "traceback": [
      "UndefVarError: `Tracked` not defined\n",
      "\n",
      "Stacktrace:\n",
      " [1] top-level scope\n",
      "   @ ~/Library/Mobile Documents/iCloud~md~obsidian/Documents/MemorisiCloud/Projets/Programmation Automne 2023/Utero/notebooks/SimpleTest.ipynb:9"
     ]
    }
   ],
   "source": [
    "oepli(w, x) = 2 * (((2*w + x) - w) * w) + sin(w^2)\n",
    "ID = 12345\n",
    "w = Utero.Tracked(7.0, ID)\n",
    "grads = Utero.GetGradient(x -> oepli(w, x), 12.0, Set([ID])) # should be approx. 56.21\n",
    "println(grads)\n",
    "\n",
    "jutyp(w) = sin(w)^2\n",
    "ID = 12345\n",
    "w = Utero.Tracked(25.0, ID)\n",
    "grads = Utero.GetGradient(_ -> jutyp(w), nothing, Set([ID])) # should be approx. -0.26\n",
    "println(grads)\n",
    "\n",
    "tyamelki(w1, w2) = (cos(w2)^3 * 4sin(w1))^2 + cos(w1*w2)^2\n",
    "w1 = Utero.Tracked(13.2, 420); w2 = Utero.Tracked(89, 007)\n",
    "grads = Utero.GetGradient(_ -> tyamelki(w1, w2), nothing, Set([420, 007])) # should be approx. (27.53, 3.0428)\n",
    "println(grads)\n",
    "\n",
    "\n"
   ]
  }
 ],
 "metadata": {
  "kernelspec": {
   "display_name": "Julia 1.9.1",
   "language": "julia",
   "name": "julia-1.9"
  },
  "language_info": {
   "file_extension": ".jl",
   "mimetype": "application/julia",
   "name": "julia",
   "version": "1.9.1"
  }
 },
 "nbformat": 4,
 "nbformat_minor": 2
}
